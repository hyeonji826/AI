{
  "nbformat": 4,
  "nbformat_minor": 0,
  "metadata": {
    "colab": {
      "provenance": [],
      "toc_visible": true,
      "authorship_tag": "ABX9TyOkey+DHt9OTOem/hduyhna",
      "include_colab_link": true
    },
    "kernelspec": {
      "name": "python3",
      "display_name": "Python 3"
    },
    "language_info": {
      "name": "python"
    }
  },
  "cells": [
    {
      "cell_type": "markdown",
      "metadata": {
        "id": "view-in-github",
        "colab_type": "text"
      },
      "source": [
        "<a href=\"https://colab.research.google.com/github/hyeonji826/AI/blob/main/AI%20Agent/3_LangGraph_basic.ipynb\" target=\"_parent\"><img src=\"https://colab.research.google.com/assets/colab-badge.svg\" alt=\"Open In Colab\"/></a>"
      ]
    },
    {
      "cell_type": "markdown",
      "source": [
        "## 1. 그래프의 상태 업데이트\n",
        "- HumanMessage : 사용자(사람)의 메시지\n",
        "- AIMessage : AI(LLM)의 메시지\n",
        "- AnyMessage : HumanMessage, AIMessage를 포함하는 메시지"
      ],
      "metadata": {
        "id": "Qd-cvVXF1UFN"
      }
    },
    {
      "cell_type": "code",
      "execution_count": 1,
      "metadata": {
        "colab": {
          "base_uri": "https://localhost:8080/"
        },
        "collapsed": true,
        "id": "6i2JATMk1O70",
        "outputId": "9123b227-b14b-4e91-a242-2700908d1b70"
      },
      "outputs": [
        {
          "output_type": "stream",
          "name": "stdout",
          "text": [
            "Collecting langgraph\n",
            "  Downloading langgraph-0.6.7-py3-none-any.whl.metadata (6.8 kB)\n",
            "Requirement already satisfied: langchain-core>=0.1 in /usr/local/lib/python3.12/dist-packages (from langgraph) (0.3.75)\n",
            "Collecting langgraph-checkpoint<3.0.0,>=2.1.0 (from langgraph)\n",
            "  Downloading langgraph_checkpoint-2.1.1-py3-none-any.whl.metadata (4.2 kB)\n",
            "Collecting langgraph-prebuilt<0.7.0,>=0.6.0 (from langgraph)\n",
            "  Downloading langgraph_prebuilt-0.6.4-py3-none-any.whl.metadata (4.5 kB)\n",
            "Collecting langgraph-sdk<0.3.0,>=0.2.2 (from langgraph)\n",
            "  Downloading langgraph_sdk-0.2.6-py3-none-any.whl.metadata (1.5 kB)\n",
            "Requirement already satisfied: pydantic>=2.7.4 in /usr/local/lib/python3.12/dist-packages (from langgraph) (2.11.7)\n",
            "Requirement already satisfied: xxhash>=3.5.0 in /usr/local/lib/python3.12/dist-packages (from langgraph) (3.5.0)\n",
            "Requirement already satisfied: langsmith>=0.3.45 in /usr/local/lib/python3.12/dist-packages (from langchain-core>=0.1->langgraph) (0.4.23)\n",
            "Requirement already satisfied: tenacity!=8.4.0,<10.0.0,>=8.1.0 in /usr/local/lib/python3.12/dist-packages (from langchain-core>=0.1->langgraph) (8.5.0)\n",
            "Requirement already satisfied: jsonpatch<2.0,>=1.33 in /usr/local/lib/python3.12/dist-packages (from langchain-core>=0.1->langgraph) (1.33)\n",
            "Requirement already satisfied: PyYAML>=5.3 in /usr/local/lib/python3.12/dist-packages (from langchain-core>=0.1->langgraph) (6.0.2)\n",
            "Requirement already satisfied: typing-extensions>=4.7 in /usr/local/lib/python3.12/dist-packages (from langchain-core>=0.1->langgraph) (4.15.0)\n",
            "Requirement already satisfied: packaging>=23.2 in /usr/local/lib/python3.12/dist-packages (from langchain-core>=0.1->langgraph) (25.0)\n",
            "Collecting ormsgpack>=1.10.0 (from langgraph-checkpoint<3.0.0,>=2.1.0->langgraph)\n",
            "  Downloading ormsgpack-1.10.0-cp312-cp312-manylinux_2_17_x86_64.manylinux2014_x86_64.whl.metadata (43 kB)\n",
            "\u001b[2K     \u001b[90m━━━━━━━━━━━━━━━━━━━━━━━━━━━━━━━━━━━━━━━━\u001b[0m \u001b[32m43.7/43.7 kB\u001b[0m \u001b[31m1.3 MB/s\u001b[0m eta \u001b[36m0:00:00\u001b[0m\n",
            "\u001b[?25hRequirement already satisfied: httpx>=0.25.2 in /usr/local/lib/python3.12/dist-packages (from langgraph-sdk<0.3.0,>=0.2.2->langgraph) (0.28.1)\n",
            "Requirement already satisfied: orjson>=3.10.1 in /usr/local/lib/python3.12/dist-packages (from langgraph-sdk<0.3.0,>=0.2.2->langgraph) (3.11.3)\n",
            "Requirement already satisfied: annotated-types>=0.6.0 in /usr/local/lib/python3.12/dist-packages (from pydantic>=2.7.4->langgraph) (0.7.0)\n",
            "Requirement already satisfied: pydantic-core==2.33.2 in /usr/local/lib/python3.12/dist-packages (from pydantic>=2.7.4->langgraph) (2.33.2)\n",
            "Requirement already satisfied: typing-inspection>=0.4.0 in /usr/local/lib/python3.12/dist-packages (from pydantic>=2.7.4->langgraph) (0.4.1)\n",
            "Requirement already satisfied: anyio in /usr/local/lib/python3.12/dist-packages (from httpx>=0.25.2->langgraph-sdk<0.3.0,>=0.2.2->langgraph) (4.10.0)\n",
            "Requirement already satisfied: certifi in /usr/local/lib/python3.12/dist-packages (from httpx>=0.25.2->langgraph-sdk<0.3.0,>=0.2.2->langgraph) (2025.8.3)\n",
            "Requirement already satisfied: httpcore==1.* in /usr/local/lib/python3.12/dist-packages (from httpx>=0.25.2->langgraph-sdk<0.3.0,>=0.2.2->langgraph) (1.0.9)\n",
            "Requirement already satisfied: idna in /usr/local/lib/python3.12/dist-packages (from httpx>=0.25.2->langgraph-sdk<0.3.0,>=0.2.2->langgraph) (3.10)\n",
            "Requirement already satisfied: h11>=0.16 in /usr/local/lib/python3.12/dist-packages (from httpcore==1.*->httpx>=0.25.2->langgraph-sdk<0.3.0,>=0.2.2->langgraph) (0.16.0)\n",
            "Requirement already satisfied: jsonpointer>=1.9 in /usr/local/lib/python3.12/dist-packages (from jsonpatch<2.0,>=1.33->langchain-core>=0.1->langgraph) (3.0.0)\n",
            "Requirement already satisfied: requests-toolbelt>=1.0.0 in /usr/local/lib/python3.12/dist-packages (from langsmith>=0.3.45->langchain-core>=0.1->langgraph) (1.0.0)\n",
            "Requirement already satisfied: requests>=2.0.0 in /usr/local/lib/python3.12/dist-packages (from langsmith>=0.3.45->langchain-core>=0.1->langgraph) (2.32.4)\n",
            "Requirement already satisfied: zstandard>=0.23.0 in /usr/local/lib/python3.12/dist-packages (from langsmith>=0.3.45->langchain-core>=0.1->langgraph) (0.24.0)\n",
            "Requirement already satisfied: charset_normalizer<4,>=2 in /usr/local/lib/python3.12/dist-packages (from requests>=2.0.0->langsmith>=0.3.45->langchain-core>=0.1->langgraph) (3.4.3)\n",
            "Requirement already satisfied: urllib3<3,>=1.21.1 in /usr/local/lib/python3.12/dist-packages (from requests>=2.0.0->langsmith>=0.3.45->langchain-core>=0.1->langgraph) (2.5.0)\n",
            "Requirement already satisfied: sniffio>=1.1 in /usr/local/lib/python3.12/dist-packages (from anyio->httpx>=0.25.2->langgraph-sdk<0.3.0,>=0.2.2->langgraph) (1.3.1)\n",
            "Downloading langgraph-0.6.7-py3-none-any.whl (153 kB)\n",
            "\u001b[2K   \u001b[90m━━━━━━━━━━━━━━━━━━━━━━━━━━━━━━━━━━━━━━━━\u001b[0m \u001b[32m153.3/153.3 kB\u001b[0m \u001b[31m4.0 MB/s\u001b[0m eta \u001b[36m0:00:00\u001b[0m\n",
            "\u001b[?25hDownloading langgraph_checkpoint-2.1.1-py3-none-any.whl (43 kB)\n",
            "\u001b[2K   \u001b[90m━━━━━━━━━━━━━━━━━━━━━━━━━━━━━━━━━━━━━━━━\u001b[0m \u001b[32m43.9/43.9 kB\u001b[0m \u001b[31m738.6 kB/s\u001b[0m eta \u001b[36m0:00:00\u001b[0m\n",
            "\u001b[?25hDownloading langgraph_prebuilt-0.6.4-py3-none-any.whl (28 kB)\n",
            "Downloading langgraph_sdk-0.2.6-py3-none-any.whl (54 kB)\n",
            "\u001b[2K   \u001b[90m━━━━━━━━━━━━━━━━━━━━━━━━━━━━━━━━━━━━━━━━\u001b[0m \u001b[32m54.6/54.6 kB\u001b[0m \u001b[31m2.8 MB/s\u001b[0m eta \u001b[36m0:00:00\u001b[0m\n",
            "\u001b[?25hDownloading ormsgpack-1.10.0-cp312-cp312-manylinux_2_17_x86_64.manylinux2014_x86_64.whl (216 kB)\n",
            "\u001b[2K   \u001b[90m━━━━━━━━━━━━━━━━━━━━━━━━━━━━━━━━━━━━━━━━\u001b[0m \u001b[32m216.7/216.7 kB\u001b[0m \u001b[31m8.3 MB/s\u001b[0m eta \u001b[36m0:00:00\u001b[0m\n",
            "\u001b[?25hInstalling collected packages: ormsgpack, langgraph-sdk, langgraph-checkpoint, langgraph-prebuilt, langgraph\n",
            "Successfully installed langgraph-0.6.7 langgraph-checkpoint-2.1.1 langgraph-prebuilt-0.6.4 langgraph-sdk-0.2.6 ormsgpack-1.10.0\n"
          ]
        }
      ],
      "source": [
        "!pip install langgraph"
      ]
    },
    {
      "cell_type": "code",
      "source": [
        "from langchain_core.messages import AnyMessage\n",
        "from typing_extensions import TypedDict\n",
        "from langchain_core.messages import AIMessage\n",
        "from langgraph.graph import StateGraph\n",
        "from langchain_core.messages import HumanMessage"
      ],
      "metadata": {
        "id": "S3b0x3Nq1YhD"
      },
      "execution_count": 9,
      "outputs": []
    },
    {
      "cell_type": "code",
      "source": [
        "class State(TypedDict):\n",
        "    messages: list[AnyMessage]\n",
        "    extra_field: int"
      ],
      "metadata": {
        "id": "MFdTvsJU1Z8F"
      },
      "execution_count": 3,
      "outputs": []
    },
    {
      "cell_type": "code",
      "source": [
        "def node(state: State):\n",
        "    messages = state[\"messages\"]\n",
        "    new_message = AIMessage(\"안녕하세요! 무엇을 도와드릴까요?\")\n",
        "\n",
        "    return {\"messages\": new_message, \"extra_field\": 10}\n",
        "    # return {\"messages\": messages + [new_message], \"extra_field\": 10}"
      ],
      "metadata": {
        "id": "Mgl_KVci1leP"
      },
      "execution_count": 6,
      "outputs": []
    },
    {
      "cell_type": "code",
      "source": [
        "graph_builder = StateGraph(State)\n",
        "graph_builder.add_node(\"node\", node)\n",
        "# set_entry_point : 그래프의 시작 노드를 지정하는 엣지 (START -> \"node\")\n",
        "graph_builder.set_entry_point(\"node\")\n",
        "graph = graph_builder.compile()\n",
        "\n",
        "graph"
      ],
      "metadata": {
        "colab": {
          "base_uri": "https://localhost:8080/",
          "height": 251
        },
        "id": "KdP35OwA1h6m",
        "outputId": "e2191f4f-5232-4d0e-9dd2-908084da2562"
      },
      "execution_count": 8,
      "outputs": [
        {
          "output_type": "execute_result",
          "data": {
            "text/plain": [
              "<langgraph.graph.state.CompiledStateGraph object at 0x7bb2ca555610>"
            ],
            "image/png": "[encoded data removed]"
          },
          "metadata": {},
          "execution_count": 8
        }
      ]
    },
    {
      "cell_type": "code",
      "source": [
        "result = graph.invoke({\"messages\": [HumanMessage(\"안녕\")]})\n",
        "# 워크플로우가 끝날때까지 기다려\n",
        "result"
      ],
      "metadata": {
        "colab": {
          "base_uri": "https://localhost:8080/"
        },
        "id": "CXoyIA152ib9",
        "outputId": "a7f0c096-b04c-4d92-8572-7fcfc6e04eab"
      },
      "execution_count": 12,
      "outputs": [
        {
          "output_type": "execute_result",
          "data": {
            "text/plain": [
              "{'messages': AIMessage(content='안녕하세요! 무엇을 도와드릴까요?', additional_kwargs={}, response_metadata={}),\n",
              " 'extra_field': 10}"
            ]
          },
          "metadata": {},
          "execution_count": 12
        }
      ]
    },
    {
      "cell_type": "code",
      "source": [
        "result[\"messages\"]"
      ],
      "metadata": {
        "colab": {
          "base_uri": "https://localhost:8080/"
        },
        "id": "WDHootQF29hT",
        "outputId": "5f62717e-4eac-4995-c57d-0e8a77333348"
      },
      "execution_count": 11,
      "outputs": [
        {
          "output_type": "execute_result",
          "data": {
            "text/plain": [
              "AIMessage(content='안녕하세요! 무엇을 도와드릴까요?', additional_kwargs={}, response_metadata={})"
            ]
          },
          "metadata": {},
          "execution_count": 11
        }
      ]
    },
    {
      "cell_type": "markdown",
      "source": [
        "## 2. 대화메시지 상태 누적 업데이트\n",
        "[add_messages](https://langchain-ai.github.io/langgraph/reference/graphs/#langgraph.graph.message.add_messages) 는 기존 메시지에서 추가 메시지를 병합하는 데 사용하는 함수로, 새로 들어온 메시지를 추가할 때 사용할 수 있는 리듀서 역할"
      ],
      "metadata": {
        "id": "fXayRYR93JHY"
      }
    },
    {
      "cell_type": "code",
      "source": [
        "from typing_extensions import Annotated\n",
        "from langgraph.graph.message import add_messages\n",
        "from langgraph.graph import StateGraph"
      ],
      "metadata": {
        "id": "4DRilsYA3eie"
      },
      "execution_count": 16,
      "outputs": []
    },
    {
      "cell_type": "code",
      "source": [
        "class State(TypedDict):\n",
        "    messages: Annotated[list[AnyMessage], add_messages]\n",
        "    extra_field: int"
      ],
      "metadata": {
        "id": "Nr9wXOQx3ib2"
      },
      "execution_count": 14,
      "outputs": []
    },
    {
      "cell_type": "code",
      "source": [
        "def node(state: State):\n",
        "    messages = state[\"messages\"]\n",
        "    new_message = AIMessage(\"안녕하세요! 무엇을 도와드릴까요?\")\n",
        "\n",
        "    return {\"messages\": new_message, \"extra_field\": 10}"
      ],
      "metadata": {
        "id": "rVLofjPH3uXJ"
      },
      "execution_count": 15,
      "outputs": []
    },
    {
      "cell_type": "code",
      "source": [
        "graph_builder = StateGraph(State)\n",
        "graph_builder.add_node(\"node\", node)\n",
        "graph_builder.set_entry_point(\"node\")\n",
        "graph = graph_builder.compile()\n",
        "\n",
        "graph"
      ],
      "metadata": {
        "colab": {
          "base_uri": "https://localhost:8080/",
          "height": 251
        },
        "id": "15-2xQCl34X1",
        "outputId": "871fc2ad-e5b9-4049-ce19-1fac52cda812"
      },
      "execution_count": 17,
      "outputs": [
        {
          "output_type": "execute_result",
          "data": {
            "text/plain": [
              "<langgraph.graph.state.CompiledStateGraph object at 0x7bb2c86a3740>"
            ],
            "image/png": "[encoded data removed]"
          },
          "metadata": {},
          "execution_count": 17
        }
      ]
    },
    {
      "cell_type": "code",
      "source": [
        "input_message = {\"role\": \"user\", \"content\": \"안녕하세요.\"}\n",
        "\n",
        "result = graph.invoke({\"messages\": [input_message]})\n",
        "\n",
        "for message in result[\"messages\"]:\n",
        "# pretty_print()는 데이터나 객체를 보기 좋게(Pretty) 정리해서 출력하는 함수\n",
        "    message.pretty_print()"
      ],
      "metadata": {
        "colab": {
          "base_uri": "https://localhost:8080/"
        },
        "id": "IM8QqeLt3_J2",
        "outputId": "57663847-c154-4596-8425-227959125eb3"
      },
      "execution_count": 18,
      "outputs": [
        {
          "output_type": "stream",
          "name": "stdout",
          "text": [
            "================================\u001b[1m Human Message \u001b[0m=================================\n",
            "\n",
            "안녕하세요.\n",
            "==================================\u001b[1m Ai Message \u001b[0m==================================\n",
            "\n",
            "안녕하세요! 무엇을 도와드릴까요?\n"
          ]
        }
      ]
    },
    {
      "cell_type": "code",
      "source": [
        "result[\"messages\"]"
      ],
      "metadata": {
        "colab": {
          "base_uri": "https://localhost:8080/"
        },
        "id": "2iQzOwv44HJu",
        "outputId": "8d4e5c51-bd1f-4bfd-efba-d4283cfbc552"
      },
      "execution_count": 19,
      "outputs": [
        {
          "output_type": "execute_result",
          "data": {
            "text/plain": [
              "[HumanMessage(content='안녕하세요.', additional_kwargs={}, response_metadata={}, id='8fa15d41-a075-4e19-9121-f8f02a9f6f1d'),\n",
              " AIMessage(content='안녕하세요! 무엇을 도와드릴까요?', additional_kwargs={}, response_metadata={}, id='0ee70963-e37a-40f3-9dfd-111e9bbd0cb6')]"
            ]
          },
          "metadata": {},
          "execution_count": 19
        }
      ]
    },
    {
      "cell_type": "code",
      "source": [
        "# invoke : 하나의 요청에 대한 결과를 받을 때 까지 코드 실행 멈춤. 한번에 하나의 요청을 처리함\n",
        "graph.invoke({\"messages\": [input_message]})"
      ],
      "metadata": {
        "colab": {
          "base_uri": "https://localhost:8080/"
        },
        "id": "A7tjMrGF4uzt",
        "outputId": "8b67e1e1-5cef-4cdb-fa00-e365be1b570a"
      },
      "execution_count": 20,
      "outputs": [
        {
          "output_type": "execute_result",
          "data": {
            "text/plain": [
              "{'messages': [HumanMessage(content='안녕하세요.', additional_kwargs={}, response_metadata={}, id='e506cd72-f67a-4ebc-a949-d1a2268b189f'),\n",
              "  AIMessage(content='안녕하세요! 무엇을 도와드릴까요?', additional_kwargs={}, response_metadata={}, id='ac47ab76-3b9d-47fa-aa5b-421ba44ea575')],\n",
              " 'extra_field': 10}"
            ]
          },
          "metadata": {},
          "execution_count": 20
        }
      ]
    },
    {
      "cell_type": "code",
      "source": [
        "# ainvoke : 비동기 처리로 여러 요청을 동시에 보낼 수 있음\n",
        "await graph.ainvoke({\"messages\": [input_message]})"
      ],
      "metadata": {
        "colab": {
          "base_uri": "https://localhost:8080/"
        },
        "id": "F6GHEFXr41YT",
        "outputId": "9264a34d-d2d2-47ef-f45a-cd27219e139a"
      },
      "execution_count": 21,
      "outputs": [
        {
          "output_type": "execute_result",
          "data": {
            "text/plain": [
              "{'messages': [HumanMessage(content='안녕하세요.', additional_kwargs={}, response_metadata={}, id='fd626327-7756-4bf9-bd3f-9dedbe5c10fb'),\n",
              "  AIMessage(content='안녕하세요! 무엇을 도와드릴까요?', additional_kwargs={}, response_metadata={}, id='47aede3d-7527-4d5c-b102-084a91c2c9c0')],\n",
              " 'extra_field': 10}"
            ]
          },
          "metadata": {},
          "execution_count": 21
        }
      ]
    },
    {
      "cell_type": "code",
      "source": [
        "# stream : 중간 결과를 실시간으로 반환함\n",
        "# stream_mode=\"values\" 각 단계의 현재 상태 값 출력\n",
        "\n",
        "for chunk in graph.stream({\"messages\": [input_message]}, stream_mode=\"values\"):\n",
        "    print(chunk)\n",
        "    for state_key, state_value in chunk.items():\n",
        "        if state_key == \"messages\":\n",
        "            state_value[-1].pretty_print()  # 최근걸로 가져오기 위해서"
      ],
      "metadata": {
        "colab": {
          "base_uri": "https://localhost:8080/"
        },
        "id": "PMAeXmgo5MDX",
        "outputId": "5e7b4311-38af-45bd-d6d1-58e44823bc63"
      },
      "execution_count": 26,
      "outputs": [
        {
          "output_type": "stream",
          "name": "stdout",
          "text": [
            "{'messages': [HumanMessage(content='안녕하세요.', additional_kwargs={}, response_metadata={}, id='de6e206b-e1b5-48ad-a361-f7eccc1073eb')]}\n",
            "================================\u001b[1m Human Message \u001b[0m=================================\n",
            "\n",
            "안녕하세요.\n",
            "{'messages': [HumanMessage(content='안녕하세요.', additional_kwargs={}, response_metadata={}, id='de6e206b-e1b5-48ad-a361-f7eccc1073eb'), AIMessage(content='안녕하세요! 무엇을 도와드릴까요?', additional_kwargs={}, response_metadata={}, id='331ea6fd-6e99-47b2-a81e-a81567687b46')], 'extra_field': 10}\n",
            "==================================\u001b[1m Ai Message \u001b[0m==================================\n",
            "\n",
            "안녕하세요! 무엇을 도와드릴까요?\n"
          ]
        }
      ]
    },
    {
      "cell_type": "code",
      "source": [
        "# Default) stream_mode=\"updates\" 각 단계의 상태 업데이트만 출력\n",
        "\n",
        "for chunk in graph.stream({\"messages\": [input_message]}, stream_mode=\"updates\"):\n",
        "    print(chunk)\n",
        "    for node, value in chunk.items():\n",
        "        if node:\n",
        "            print(node)\n",
        "        if \"messages\" in value:\n",
        "            print(value['messages'].content)"
      ],
      "metadata": {
        "colab": {
          "base_uri": "https://localhost:8080/"
        },
        "id": "P7DjWJ--5Qfx",
        "outputId": "6fa638d2-c7b5-4978-e9e1-3c29bad664ba"
      },
      "execution_count": 28,
      "outputs": [
        {
          "output_type": "stream",
          "name": "stdout",
          "text": [
            "{'node': {'messages': AIMessage(content='안녕하세요! 무엇을 도와드릴까요?', additional_kwargs={}, response_metadata={}, id='be600756-6370-4150-8998-d950f893dbd9'), 'extra_field': 10}}\n",
            "node\n",
            "안녕하세요! 무엇을 도와드릴까요?\n"
          ]
        }
      ]
    },
    {
      "cell_type": "code",
      "source": [
        "# stream_mode=\"messages\" 각 단계의 메시지 출력\n",
        "\n",
        "for chunk_msg, metadata in graph.stream({\"messages\": [input_message]}, stream_mode=\"messages\"):\n",
        "    print(chunk_msg)\n",
        "    print(chunk_msg.content)\n",
        "    print(metadata)\n",
        "    print(metadata[\"langgraph_node\"])"
      ],
      "metadata": {
        "colab": {
          "base_uri": "https://localhost:8080/"
        },
        "id": "hv14cO-n6uz_",
        "outputId": "d613aa6b-a937-4f8f-a384-75fddd4feb75"
      },
      "execution_count": 29,
      "outputs": [
        {
          "output_type": "stream",
          "name": "stdout",
          "text": [
            "content='안녕하세요! 무엇을 도와드릴까요?' additional_kwargs={} response_metadata={} id='d4e4b2fd-c7bb-4fb6-a2d6-901a2265c911'\n",
            "안녕하세요! 무엇을 도와드릴까요?\n",
            "{'langgraph_step': 1, 'langgraph_node': 'node', 'langgraph_triggers': ('branch:to:node',), 'langgraph_path': ('__pregel_pull', 'node'), 'langgraph_checkpoint_ns': 'node:34a46aeb-bea0-34c6-9191-ef729e23c837'}\n",
            "node\n"
          ]
        }
      ]
    },
    {
      "cell_type": "code",
      "source": [
        "# astream : 비동기 방식으로 스트리밍 처리\n",
        "\n",
        "async for chunk_msg, metadata in graph.astream({\"messages\": [input_message]}, stream_mode=\"messages\"):\n",
        "    print(chunk_msg)\n",
        "    print(chunk_msg.content)\n",
        "    print(metadata)\n",
        "    print(metadata[\"langgraph_node\"])"
      ],
      "metadata": {
        "colab": {
          "base_uri": "https://localhost:8080/"
        },
        "id": "1mjNTmKk7byh",
        "outputId": "1a4cda45-d30d-4a14-cc7a-b5e1ac45e6bd"
      },
      "execution_count": 30,
      "outputs": [
        {
          "output_type": "stream",
          "name": "stdout",
          "text": [
            "content='안녕하세요! 무엇을 도와드릴까요?' additional_kwargs={} response_metadata={} id='334b4ab2-f849-4014-b6dc-572dad94d26f'\n",
            "안녕하세요! 무엇을 도와드릴까요?\n",
            "{'langgraph_step': 1, 'langgraph_node': 'node', 'langgraph_triggers': ('branch:to:node',), 'langgraph_path': ('__pregel_pull', 'node'), 'langgraph_checkpoint_ns': 'node:0c6ade86-e150-9a90-6bb6-7b9269d5f24c'}\n",
            "node\n"
          ]
        }
      ]
    },
    {
      "cell_type": "markdown",
      "source": [
        "## 3. 노드와 엣지 연결"
      ],
      "metadata": {
        "id": "xjcjwiT27iBN"
      }
    },
    {
      "cell_type": "code",
      "source": [
        "from typing_extensions import TypedDict\n",
        "from langgraph.graph import START, StateGraph"
      ],
      "metadata": {
        "id": "pTV1KzFj7kNd"
      },
      "execution_count": 35,
      "outputs": []
    },
    {
      "cell_type": "code",
      "source": [
        "class State(TypedDict):\n",
        "    value_1: str\n",
        "    value_2: int"
      ],
      "metadata": {
        "id": "HKXtUmIm7yeB"
      },
      "execution_count": 34,
      "outputs": []
    },
    {
      "cell_type": "code",
      "source": [
        "def step_1(state: State):\n",
        "    return {\"value_1\": state[\"value_1\"]}\n",
        "\n",
        "def step_2(state: State):\n",
        "    current_value_1 = state[\"value_1\"]\n",
        "    return {\"value_1\": f\"{current_value_1} b\"}\n",
        "\n",
        "def step_3(state: State):\n",
        "    return {\"value_2\": 10}"
      ],
      "metadata": {
        "id": "ZDu-TdZM7mr7"
      },
      "execution_count": 32,
      "outputs": []
    },
    {
      "cell_type": "code",
      "source": [
        "graph_builder = StateGraph(State)\n",
        "\n",
        "# 노드 추가\n",
        "graph_builder.add_node(step_1)\n",
        "graph_builder.add_node(step_2)\n",
        "graph_builder.add_node(step_3)\n",
        "\n",
        "# 엣지 추가\n",
        "graph_builder.add_edge(START, \"step_1\") # START ->1\n",
        "graph_builder.add_edge(\"step_1\", \"step_2\") # 1-> 2\n",
        "graph_builder.add_edge(\"step_2\", \"step_3\") # 2->3"
      ],
      "metadata": {
        "colab": {
          "base_uri": "https://localhost:8080/"
        },
        "id": "x-sxXEI67rVr",
        "outputId": "fa0eef90-fe50-4c45-b257-68530855b46a"
      },
      "execution_count": 36,
      "outputs": [
        {
          "output_type": "execute_result",
          "data": {
            "text/plain": [
              "<langgraph.graph.state.StateGraph at 0x7bb2c85f3f50>"
            ]
          },
          "metadata": {},
          "execution_count": 36
        }
      ]
    },
    {
      "cell_type": "code",
      "source": [
        "graph = graph_builder.compile()\n",
        "graph"
      ],
      "metadata": {
        "colab": {
          "base_uri": "https://localhost:8080/",
          "height": 449
        },
        "id": "RYO90uMI8urk",
        "outputId": "517ba7b0-bcc0-484d-bf48-74761eb14234"
      },
      "execution_count": 37,
      "outputs": [
        {
          "output_type": "execute_result",
          "data": {
            "text/plain": [
              "<langgraph.graph.state.CompiledStateGraph object at 0x7bb2c87c2960>"
            ],
            "image/png": "[encoded data removed]"
          },
          "metadata": {},
          "execution_count": 37
        }
      ]
    },
    {
      "cell_type": "code",
      "source": [
        "graph.invoke({\"value_1\": \"apple\"})"
      ],
      "metadata": {
        "colab": {
          "base_uri": "https://localhost:8080/"
        },
        "id": "0oLXWkVn80HJ",
        "outputId": "2695cd04-a047-4a2b-d7be-91296d6d1973"
      },
      "execution_count": 38,
      "outputs": [
        {
          "output_type": "execute_result",
          "data": {
            "text/plain": [
              "{'value_1': 'apple b', 'value_2': 10}"
            ]
          },
          "metadata": {},
          "execution_count": 38
        }
      ]
    },
    {
      "cell_type": "markdown",
      "source": [
        "## 4. 노드와 엣지를 한번에 연결"
      ],
      "metadata": {
        "id": "eWHg75tY83og"
      }
    },
    {
      "cell_type": "code",
      "source": [
        "graph_builder = StateGraph(State).add_sequence([step_1, step_2, step_3])\n",
        "graph_builder.add_edge(START, \"step_1\")\n",
        "\n",
        "graph = graph_builder.compile()\n",
        "\n",
        "graph.invoke({\"value_1\": \"c\"})"
      ],
      "metadata": {
        "colab": {
          "base_uri": "https://localhost:8080/"
        },
        "id": "cJJRdPbS84mo",
        "outputId": "156c8b46-7ee7-4126-fc61-8a408565095a"
      },
      "execution_count": 39,
      "outputs": [
        {
          "output_type": "execute_result",
          "data": {
            "text/plain": [
              "{'value_1': 'c b', 'value_2': 10}"
            ]
          },
          "metadata": {},
          "execution_count": 39
        }
      ]
    },
    {
      "cell_type": "markdown",
      "source": [
        "## 5. 병렬로 연결\n",
        "\n",
        "<img src=\"https://blog.kakaocdn.net/dna/b5Z9DU/btsQpGjiIsy/AAAAAAAAAAAAAAAAAAAAAMMy-AUOusPJobcd8x35j4V3INTB6kNWu51Ofb4poD0q/img.png?credential=yqXZFxpELC7KVnFOS48ylbz2pIh7yKj8&expires=1759244399&allow_ip=&allow_referer=&signature=W1vEfrFY2g1UhiUyXaOF9S5%2F95A%3D\" >"
      ],
      "metadata": {
        "id": "Ql312RVo_xdz"
      }
    },
    {
      "cell_type": "code",
      "source": [
        "import operator\n",
        "from typing import Annotated, Any\n",
        "from typing_extensions import TypedDict\n",
        "from langgraph.graph import StateGraph, START, END"
      ],
      "metadata": {
        "id": "fPblF_yo_yrv"
      },
      "execution_count": 40,
      "outputs": []
    },
    {
      "cell_type": "code",
      "source": [
        "class State(TypedDict):\n",
        "    aggregate: Annotated[list, operator.add]\n",
        "    # 업데이트 값이 뒤에 추가되도록 하는 operator.add 리듀서"
      ],
      "metadata": {
        "id": "BsEXLJMAAACa"
      },
      "execution_count": 46,
      "outputs": []
    },
    {
      "cell_type": "code",
      "source": [
        "def a(state: State):\n",
        "    print(f'Adding \"A\" to {state[\"aggregate\"]}')\n",
        "    return {\"aggregate\": [\"A\"]}\n",
        "\n",
        "def b(state: State):\n",
        "    print(f'Adding \"B\" to {state[\"aggregate\"]}')\n",
        "    return {\"aggregate\": [\"B\"]}\n",
        "\n",
        "def c(state: State):\n",
        "    print(f'Adding \"C\" to {state[\"aggregate\"]}')\n",
        "    return {\"aggregate\": [\"C\"]}\n",
        "\n",
        "def d(state: State):\n",
        "    print(f'Adding \"D\" to {state[\"aggregate\"]}')\n",
        "    return {\"aggregate\": [\"D\"]}"
      ],
      "metadata": {
        "id": "JHHKqij5ADnX"
      },
      "execution_count": 42,
      "outputs": []
    },
    {
      "cell_type": "code",
      "source": [
        "graph_builder = StateGraph(State)\n",
        "\n",
        "# 노드 추가\n",
        "graph_builder.add_node(a)\n",
        "graph_builder.add_node(b)\n",
        "graph_builder.add_node(c)\n",
        "graph_builder.add_node(d)\n",
        "\n",
        "# # 엣지 추가\n",
        "# graph_builder.add_edge(START, \"a\")\n",
        "# graph_builder.add_edge(\"a\", \"b\") # a -> b\n",
        "# graph_builder.add_edge(\"b\", \"c\") # a -> c\n",
        "# graph_builder.add_edge(\"c\", \"d\") # b -> d\n",
        "# graph_builder.add_edge(\"d\", END)\n",
        "# graph = graph_builder.compile()\n",
        "\n",
        "# graph"
      ],
      "metadata": {
        "colab": {
          "base_uri": "https://localhost:8080/"
        },
        "id": "UfKNUy87AFBK",
        "outputId": "47d6b77f-32fd-408a-95e2-08a1bc1d8808"
      },
      "execution_count": 52,
      "outputs": [
        {
          "output_type": "execute_result",
          "data": {
            "text/plain": [
              "<langgraph.graph.state.StateGraph at 0x7bb2c849a8a0>"
            ]
          },
          "metadata": {},
          "execution_count": 52
        }
      ]
    },
    {
      "cell_type": "code",
      "source": [
        "# 엣지 추가\n",
        "graph_builder.add_edge(START, \"a\")\n",
        "graph_builder.add_edge(\"a\", \"b\") # a -> b\n",
        "graph_builder.add_edge(\"a\", \"c\") # a -> c\n",
        "graph_builder.add_edge(\"b\", \"d\") # b -> d\n",
        "graph_builder.add_edge(\"c\", \"d\") # c -> d\n",
        "graph_builder.add_edge(\"d\", END)\n",
        "graph = graph_builder.compile()\n",
        "\n",
        "graph"
      ],
      "metadata": {
        "colab": {
          "base_uri": "https://localhost:8080/",
          "height": 449
        },
        "id": "QEEbRhHmAGQ1",
        "outputId": "8aa9d31b-da3d-42a0-e324-44a6da32a83c"
      },
      "execution_count": 53,
      "outputs": [
        {
          "output_type": "execute_result",
          "data": {
            "text/plain": [
              "<langgraph.graph.state.CompiledStateGraph object at 0x7bb2c849b560>"
            ],
            "image/png": "[encoded data removed]"
          },
          "metadata": {},
          "execution_count": 53
        }
      ]
    },
    {
      "cell_type": "code",
      "source": [
        "graph.invoke({\"aggregate\":[]})"
      ],
      "metadata": {
        "colab": {
          "base_uri": "https://localhost:8080/"
        },
        "id": "--m5zwCSALEl",
        "outputId": "f8dc2bc0-4255-4b1b-f03d-b71f5b05ad05"
      },
      "execution_count": 54,
      "outputs": [
        {
          "output_type": "stream",
          "name": "stdout",
          "text": [
            "Adding \"A\" to []\n",
            "Adding \"B\" to ['A']\n",
            "Adding \"C\" to ['A']\n",
            "Adding \"D\" to ['A', 'B', 'C']\n"
          ]
        },
        {
          "output_type": "execute_result",
          "data": {
            "text/plain": [
              "{'aggregate': ['A', 'B', 'C', 'D']}"
            ]
          },
          "metadata": {},
          "execution_count": 54
        }
      ]
    },
    {
      "cell_type": "markdown",
      "source": [
        "## 6. 조건부 엣지 병렬 연결\n",
        "\n",
        "<img src =\"https://blog.kakaocdn.net/dna/Nl3ls/btsQnPobZYW/AAAAAAAAAAAAAAAAAAAAAHrWFa9bu2RqRVxUhVtf5umCwt3sNieiRIQrPFvGeRdh/img.png?credential=yqXZFxpELC7KVnFOS48ylbz2pIh7yKj8&expires=1759244399&allow_ip=&allow_referer=&signature=rhOuU%2BRKv%2FSgvD%2F2YOxkrW697t4%3D\">"
      ],
      "metadata": {
        "id": "UKH9A9DaCOlw"
      }
    },
    {
      "cell_type": "code",
      "source": [
        "import operator\n",
        "from typing import Annotated, Sequence\n",
        "from typing_extensions import TypedDict\n",
        "from langgraph.graph import StateGraph, START, END"
      ],
      "metadata": {
        "id": "Ba7SBQs5CUAs"
      },
      "execution_count": 55,
      "outputs": []
    },
    {
      "cell_type": "code",
      "source": [
        "class State(TypedDict):\n",
        "    aggregate: Annotated[list, operator.add]\n",
        "    which: str"
      ],
      "metadata": {
        "id": "3yTUkAdkCWM-"
      },
      "execution_count": 56,
      "outputs": []
    },
    {
      "cell_type": "code",
      "source": [
        "def a(state: State):\n",
        "    print(f'Adding \"A\" to {state[\"aggregate\"]}')\n",
        "    return {\"aggregate\": [\"A\"]}\n",
        "\n",
        "def b(state: State):\n",
        "    print(f'Adding \"B\" to {state[\"aggregate\"]}')\n",
        "    return {\"aggregate\": [\"B\"]}\n",
        "\n",
        "def c(state: State):\n",
        "    print(f'Adding \"C\" to {state[\"aggregate\"]}')\n",
        "    return {\"aggregate\": [\"C\"]}\n",
        "\n",
        "def d(state: State):\n",
        "    print(f'Adding \"D\" to {state[\"aggregate\"]}')\n",
        "    return {\"aggregate\": [\"D\"]}\n",
        "\n",
        "def e(state: State):\n",
        "    print(f'Adding \"E\" to {state[\"aggregate\"]}')\n",
        "    return {\"aggregate\": [\"E\"]}"
      ],
      "metadata": {
        "id": "3waQ7aSgCY62"
      },
      "execution_count": 57,
      "outputs": []
    },
    {
      "cell_type": "code",
      "source": [
        "graph_builder = StateGraph(State)\n",
        "graph_builder.add_node(a)\n",
        "graph_builder.add_node(b)\n",
        "graph_builder.add_node(c)\n",
        "graph_builder.add_node(d)\n",
        "graph_builder.add_node(e)\n",
        "graph_builder.add_edge(START, \"a\")"
      ],
      "metadata": {
        "colab": {
          "base_uri": "https://localhost:8080/"
        },
        "id": "0jssKNjNCy2Z",
        "outputId": "3c030451-afdf-4e2c-93dc-e4c7395db536"
      },
      "execution_count": 58,
      "outputs": [
        {
          "output_type": "execute_result",
          "data": {
            "text/plain": [
              "<langgraph.graph.state.StateGraph at 0x7bb2c849b740>"
            ]
          },
          "metadata": {},
          "execution_count": 58
        }
      ]
    },
    {
      "cell_type": "code",
      "source": [
        "# bc 혹은 cd 로 라우트를 결정하는 함수\n",
        "def route_bc_or_cd(state: State) -> Sequence[str]:\n",
        "    if state[\"which\"] == \"cd\":\n",
        "        return [\"c\", \"d\"]\n",
        "    return [\"b\", \"c\"]   # 노드 이름\n",
        "\n",
        "intermediates = [\"b\", \"c\", \"d\"]\n",
        "graph_builder.add_conditional_edges(\n",
        "    # 조건을 주는 add_conditional\n",
        "    \"a\",\n",
        "    route_bc_or_cd, # 콜백\n",
        "    intermediates,  # 적용\n",
        ")"
      ],
      "metadata": {
        "colab": {
          "base_uri": "https://localhost:8080/"
        },
        "id": "qq8pILXnC0Ry",
        "outputId": "ead2e7c8-93b1-4166-ba7a-8e1d0947627f"
      },
      "execution_count": 59,
      "outputs": [
        {
          "output_type": "execute_result",
          "data": {
            "text/plain": [
              "<langgraph.graph.state.StateGraph at 0x7bb2c849b740>"
            ]
          },
          "metadata": {},
          "execution_count": 59
        }
      ]
    },
    {
      "cell_type": "code",
      "source": [
        "for node in intermediates:\n",
        "    graph_builder.add_edge(node, \"e\")\n",
        "\n",
        "graph_builder.add_edge(\"e\", END)\n",
        "graph = graph_builder.compile()\n",
        "graph"
      ],
      "metadata": {
        "colab": {
          "base_uri": "https://localhost:8080/",
          "height": 449
        },
        "id": "eag4pWCgDPge",
        "outputId": "15558aa7-48c0-44cb-be36-45d3ef33663f"
      },
      "execution_count": 60,
      "outputs": [
        {
          "output_type": "execute_result",
          "data": {
            "text/plain": [
              "<langgraph.graph.state.CompiledStateGraph object at 0x7bb2c8491460>"
            ],
            "image/png": "[encoded data removed]"
          },
          "metadata": {},
          "execution_count": 60
        }
      ]
    },
    {
      "cell_type": "code",
      "source": [
        "graph.invoke({\"aggregate\": [], \"which\": \"bc\"})"
      ],
      "metadata": {
        "colab": {
          "base_uri": "https://localhost:8080/"
        },
        "id": "U8BtCK3uDRTg",
        "outputId": "356fff28-56ff-453d-db95-2b5f451514e7"
      },
      "execution_count": 61,
      "outputs": [
        {
          "output_type": "stream",
          "name": "stdout",
          "text": [
            "Adding \"A\" to []\n",
            "Adding \"B\" to ['A']\n",
            "Adding \"C\" to ['A']\n",
            "Adding \"E\" to ['A', 'B', 'C']\n"
          ]
        },
        {
          "output_type": "execute_result",
          "data": {
            "text/plain": [
              "{'aggregate': ['A', 'B', 'C', 'E'], 'which': 'bc'}"
            ]
          },
          "metadata": {},
          "execution_count": 61
        }
      ]
    },
    {
      "cell_type": "code",
      "source": [
        "graph.invoke({\"aggregate\": [], \"which\": \"cd\"})"
      ],
      "metadata": {
        "colab": {
          "base_uri": "https://localhost:8080/"
        },
        "id": "fO3cYgMzDmJR",
        "outputId": "06ab90d6-463b-432f-82af-5908fae87005"
      },
      "execution_count": 62,
      "outputs": [
        {
          "output_type": "stream",
          "name": "stdout",
          "text": [
            "Adding \"A\" to []\n",
            "Adding \"C\" to ['A']\n",
            "Adding \"D\" to ['A']\n",
            "Adding \"E\" to ['A', 'C', 'D']\n"
          ]
        },
        {
          "output_type": "execute_result",
          "data": {
            "text/plain": [
              "{'aggregate': ['A', 'C', 'D', 'E'], 'which': 'cd'}"
            ]
          },
          "metadata": {},
          "execution_count": 62
        }
      ]
    },
    {
      "cell_type": "markdown",
      "source": [
        "## 7. 조건과 반복\n",
        "\n",
        "<img src=\"https://blog.kakaocdn.net/dna/Dzd0z/btsQrpucyz3/AAAAAAAAAAAAAAAAAAAAAKgOB0lqhrzSxOTe8JTdthzi16_ieiISYCRZSDjfb7E9/img.png?credential=yqXZFxpELC7KVnFOS48ylbz2pIh7yKj8&expires=1759244399&allow_ip=&allow_referer=&signature=hdCsI5%2FFi0FO91mTCv6zqLzYd7w%3D\">"
      ],
      "metadata": {
        "id": "ohnGZAdGEPqD"
      }
    },
    {
      "cell_type": "code",
      "source": [
        "import operator\n",
        "from typing import Annotated\n",
        "from typing_extensions import TypedDict\n",
        "from langgraph.graph import StateGraph, START, END"
      ],
      "metadata": {
        "id": "buVTBZL7ETdz"
      },
      "execution_count": 95,
      "outputs": []
    },
    {
      "cell_type": "code",
      "source": [
        "class State(TypedDict):\n",
        "    aggregate: Annotated[list, operator.add]"
      ],
      "metadata": {
        "id": "s7bMYIf3EU_p"
      },
      "execution_count": 96,
      "outputs": []
    },
    {
      "cell_type": "code",
      "source": [
        "def a(state: State):\n",
        "    print(f'Node A 처리 중 현재 상태값 : {state[\"aggregate\"]}')\n",
        "    return {\"aggregate\": [\"A\"]}\n",
        "\n",
        "\n",
        "def b(state: State):\n",
        "    print(f'Node B 처리 중 현재 상태값 : {state[\"aggregate\"]}')\n",
        "    return {\"aggregate\": [\"B\"]}\n",
        "\n",
        "\n",
        "graph_builder = StateGraph(State)\n",
        "graph_builder.add_node(a)\n",
        "graph_builder.add_node(b)"
      ],
      "metadata": {
        "colab": {
          "base_uri": "https://localhost:8080/"
        },
        "id": "a8OxTPiOEXQl",
        "outputId": "c2ef683d-ecf7-4c38-e144-80a130c6581f"
      },
      "execution_count": 97,
      "outputs": [
        {
          "output_type": "execute_result",
          "data": {
            "text/plain": [
              "<langgraph.graph.state.StateGraph at 0x7bb2a9b1a5d0>"
            ]
          },
          "metadata": {},
          "execution_count": 97
        }
      ]
    },
    {
      "cell_type": "code",
      "source": [
        "def route(state: State):\n",
        "    if len(state[\"aggregate\"]) < 7:\n",
        "        return \"b\"\n",
        "    else:\n",
        "        return END\n",
        "\n",
        "\n",
        "graph_builder.add_edge(START, \"a\")\n",
        "graph_builder.add_conditional_edges(\"a\",list[b])\n",
        "graph_builder.add_edge(\"b\", \"a\")\n",
        "graph = graph_builder.compile()"
      ],
      "metadata": {
        "id": "aElvaHGhEYrD"
      },
      "execution_count": 98,
      "outputs": []
    },
    {
      "cell_type": "code",
      "source": [
        "import requests, zlib, base64\n",
        "from IPython.display import Image\n",
        "\n",
        "# Mermaid 코드 추출\n",
        "code = graph.get_graph().draw_mermaid()\n",
        "\n",
        "# 압축·인코딩 후 Kroki 요청\n",
        "encoded = base64.urlsafe_b64encode(zlib.compress(code.encode())).decode()\n",
        "url = f\"https://kroki.io/mermaid/png/{encoded}\"\n",
        "resp = requests.get(url)\n",
        "display(Image(resp.content))"
      ],
      "metadata": {
        "colab": {
          "base_uri": "https://localhost:8080/",
          "height": 281
        },
        "id": "neH9kPh8Eag1",
        "outputId": "67ccf57a-06b4-47e8-ea2e-4568ee03e954"
      },
      "execution_count": 99,
      "outputs": [
        {
          "output_type": "display_data",
          "data": {
            "image/png": "[encoded data removed]",
            "text/plain": [
              "<IPython.core.display.Image object>"
            ]
          },
          "metadata": {}
        }
      ]
    },
    {
      "cell_type": "code",
      "source": [
        "graph.invoke({\"aggregate\": []})"
      ],
      "metadata": {
        "colab": {
          "base_uri": "https://localhost:8080/"
        },
        "id": "Dl2I6f9OH_S5",
        "outputId": "b670e5c7-17e6-4a05-9067-4cf58bbc3b60"
      },
      "execution_count": 100,
      "outputs": [
        {
          "output_type": "stream",
          "name": "stderr",
          "text": [
            "WARNING:langgraph:Task a with path ('__pregel_pull', 'a') wrote to unknown channel branch:to:aggregate, ignoring it.\n"
          ]
        },
        {
          "output_type": "stream",
          "name": "stdout",
          "text": [
            "Node A 처리 중 현재 상태값 : []\n"
          ]
        },
        {
          "output_type": "execute_result",
          "data": {
            "text/plain": [
              "{'aggregate': ['A']}"
            ]
          },
          "metadata": {},
          "execution_count": 100
        }
      ]
    },
    {
      "cell_type": "code",
      "source": [
        "from langgraph.errors import GraphRecursionError\n",
        "# GraphRecursionError 로 에러를 반환하는 방법\n",
        "try:\n",
        "    graph.invoke({\"aggregate\": []}, config={\"recursion_limit\": 4})\n",
        "except GraphRecursionError: # 반복 종료 조건에 도달할 수 없는 경우\n",
        "    print(\"Recursion Error\")"
      ],
      "metadata": {
        "colab": {
          "base_uri": "https://localhost:8080/"
        },
        "id": "xL_jokuQIGUo",
        "outputId": "f309d393-dd6a-4fb9-844e-7ccf89e20ba1"
      },
      "execution_count": 101,
      "outputs": [
        {
          "output_type": "stream",
          "name": "stderr",
          "text": [
            "WARNING:langgraph:Task a with path ('__pregel_pull', 'a') wrote to unknown channel branch:to:aggregate, ignoring it.\n"
          ]
        },
        {
          "output_type": "stream",
          "name": "stdout",
          "text": [
            "Node A 처리 중 현재 상태값 : []\n"
          ]
        }
      ]
    },
    {
      "cell_type": "markdown",
      "source": [
        "## 8. 조건에 따른 반복 처리하기\n",
        "\n",
        "<img src=\"https://blog.kakaocdn.net/dna/7YUWL/btsQocQUV85/AAAAAAAAAAAAAAAAAAAAAMhiJftB0gvNd2P3K4wDKjhLXJ8hLH2OLoqitKa-SA-F/img.png?credential=yqXZFxpELC7KVnFOS48ylbz2pIh7yKj8&expires=1759244399&allow_ip=&allow_referer=&signature=H7u2m6ggAVjbzB3a9JDv%2FhB%2BEgc%3D\">"
      ],
      "metadata": {
        "id": "ObPeRgd7IKcT"
      }
    },
    {
      "cell_type": "code",
      "source": [
        "import operator\n",
        "from typing import Annotated, Literal\n",
        "from typing_extensions import TypedDict\n",
        "from langgraph.graph import StateGraph, START, END"
      ],
      "metadata": {
        "id": "qskWJvIaIOP1"
      },
      "execution_count": 102,
      "outputs": []
    },
    {
      "cell_type": "code",
      "source": [
        "class State(TypedDict):\n",
        "    aggregate: Annotated[list, operator.add]"
      ],
      "metadata": {
        "id": "lAl4vd-hIPrX"
      },
      "execution_count": 103,
      "outputs": []
    },
    {
      "cell_type": "code",
      "source": [
        "def a(state: State):\n",
        "    print(f'Node A 처리 중 현재 상태값 : {state[\"aggregate\"]}')\n",
        "    return {\"aggregate\": [\"A\"]}\n",
        "\n",
        "def b(state: State):\n",
        "    print(f'Node B 처리 중 현재 상태값 : {state[\"aggregate\"]}')\n",
        "    return {\"aggregate\": [\"B\"]}\n",
        "\n",
        "def c(state: State):\n",
        "    print(f'Node C 처리 중 현재 상태값 : {state[\"aggregate\"]}')\n",
        "    return {\"aggregate\": [\"C\"]}\n",
        "\n",
        "def d(state: State):\n",
        "    print(f'Node D 처리 중 현재 상태값 : {state[\"aggregate\"]}')\n",
        "    return {\"aggregate\": [\"D\"]}\n",
        "\n",
        "graph_builder = StateGraph(State)\n",
        "graph_builder.add_node(a)\n",
        "graph_builder.add_node(b)\n",
        "graph_builder.add_node(c)\n",
        "graph_builder.add_node(d)"
      ],
      "metadata": {
        "colab": {
          "base_uri": "https://localhost:8080/"
        },
        "id": "8RHleKAEIQ7f",
        "outputId": "c5e4ec10-f807-48aa-950d-b84b9e13fca4"
      },
      "execution_count": 104,
      "outputs": [
        {
          "output_type": "execute_result",
          "data": {
            "text/plain": [
              "<langgraph.graph.state.StateGraph at 0x7bb2a9b17080>"
            ]
          },
          "metadata": {},
          "execution_count": 104
        }
      ]
    },
    {
      "cell_type": "code",
      "source": [
        "def route(state: State) -> Literal[\"b\", END]:\n",
        "    if len(state[\"aggregate\"]) < 7:\n",
        "        return \"b\"\n",
        "    else:\n",
        "        return END\n",
        "\n",
        "\n",
        "graph_builder.add_edge(START, \"a\")\n",
        "graph_builder.add_conditional_edges(\"a\", route)\n",
        "graph_builder.add_edge(\"b\", \"c\")\n",
        "graph_builder.add_edge(\"b\", \"d\")\n",
        "graph_builder.add_edge([\"c\", \"d\"], \"a\")\n",
        "graph = graph_builder.compile()"
      ],
      "metadata": {
        "id": "DDNQ6MTGITx8"
      },
      "execution_count": 105,
      "outputs": []
    },
    {
      "cell_type": "code",
      "source": [
        "graph"
      ],
      "metadata": {
        "colab": {
          "base_uri": "https://localhost:8080/",
          "height": 365
        },
        "id": "xGfw_CnuJnqg",
        "outputId": "3a4b9472-f132-4b84-96c4-d7a5270929ee"
      },
      "execution_count": 110,
      "outputs": [
        {
          "output_type": "execute_result",
          "data": {
            "text/plain": [
              "<langgraph.graph.state.CompiledStateGraph object at 0x7bb2a9b24290>"
            ],
            "image/png": "[encoded data removed]"
          },
          "metadata": {},
          "execution_count": 110
        }
      ]
    },
    {
      "cell_type": "code",
      "source": [
        "result = graph.invoke({\"aggregate\": []})"
      ],
      "metadata": {
        "colab": {
          "base_uri": "https://localhost:8080/"
        },
        "id": "UpDiT34RIVh9",
        "outputId": "854e29ad-c59f-4326-84cc-8f65e5a339a7"
      },
      "execution_count": 106,
      "outputs": [
        {
          "output_type": "stream",
          "name": "stdout",
          "text": [
            "Node A 처리 중 현재 상태값 : []\n",
            "Node B 처리 중 현재 상태값 : ['A']\n",
            "Node C 처리 중 현재 상태값 : ['A', 'B']\n",
            "Node D 처리 중 현재 상태값 : ['A', 'B']\n",
            "Node A 처리 중 현재 상태값 : ['A', 'B', 'C', 'D']\n",
            "Node B 처리 중 현재 상태값 : ['A', 'B', 'C', 'D', 'A']\n",
            "Node C 처리 중 현재 상태값 : ['A', 'B', 'C', 'D', 'A', 'B']\n",
            "Node D 처리 중 현재 상태값 : ['A', 'B', 'C', 'D', 'A', 'B']\n",
            "Node A 처리 중 현재 상태값 : ['A', 'B', 'C', 'D', 'A', 'B', 'C', 'D']\n"
          ]
        }
      ]
    },
    {
      "cell_type": "markdown",
      "source": [
        "## 9. 사용자 입력에 따른 반복 조건 설정\n",
        "\n",
        "<img src=\"https://blog.kakaocdn.net/dna/zdVkz/btsQoKT48zQ/AAAAAAAAAAAAAAAAAAAAAC65qmXT5E6KWmmgOPo6AscG8W4uY_sa-b2cEln86K6g/img.png?credential=yqXZFxpELC7KVnFOS48ylbz2pIh7yKj8&expires=1759244399&allow_ip=&allow_referer=&signature=j%2BgbkY9VP3JL7D5l8CqN5qwf%2F70%3D\">"
      ],
      "metadata": {
        "id": "EhEkMPU6IcLQ"
      }
    },
    {
      "cell_type": "code",
      "source": [
        "from typing import Annotated\n",
        "from typing_extensions import TypedDict\n",
        "from langgraph.graph import StateGraph, START, END\n",
        "from langchain_core.messages import AIMessage, HumanMessage\n",
        "from langgraph.graph.message import add_messages"
      ],
      "metadata": {
        "id": "XQbNa372IgKZ"
      },
      "execution_count": 107,
      "outputs": []
    },
    {
      "cell_type": "code",
      "source": [
        "class State(TypedDict):\n",
        "    human_messages: Annotated[list[HumanMessage], add_messages]\n",
        "    ai_messages: Annotated[list[AIMessage], add_messages]\n",
        "    retry_num : int"
      ],
      "metadata": {
        "id": "s3b9O-SpJtFZ"
      },
      "execution_count": 111,
      "outputs": []
    },
    {
      "cell_type": "code",
      "source": [
        "def chatbot(state:State):\n",
        "    retry_num = state[\"retry_num\"]\n",
        "    user_input = input(f\"(현재 {retry_num}번째 답변) 사용자 입력: \")\n",
        "    ai_message = AIMessage(f\"{retry_num}번째 답변중!\")\n",
        "\n",
        "    return {\"human_messages\": [HumanMessage(content=user_input)], \"ai_messages\": [ai_message]}\n",
        "\n",
        "def retry(state: State):\n",
        "    return {\"retry_num\" : state[\"retry_num\"] + 1}\n",
        "\n",
        "graph_builder = StateGraph(State)\n",
        "graph_builder.add_node(\"chatbot\", chatbot)\n",
        "graph_builder.add_node(\"retry\", retry)"
      ],
      "metadata": {
        "colab": {
          "base_uri": "https://localhost:8080/"
        },
        "id": "fU4MAojPJvv7",
        "outputId": "3b9a9ab9-933b-47fa-d700-9fc8632f04af"
      },
      "execution_count": 112,
      "outputs": [
        {
          "output_type": "execute_result",
          "data": {
            "text/plain": [
              "<langgraph.graph.state.StateGraph at 0x7bb2c8481a30>"
            ]
          },
          "metadata": {},
          "execution_count": 112
        }
      ]
    },
    {
      "cell_type": "code",
      "source": [
        "def route(state: State):\n",
        "    if \"반복\" in state[\"human_messages\"][-1].content:\n",
        "        return \"retry\"\n",
        "    else:\n",
        "        return END\n",
        "\n",
        "\n",
        "graph_builder.add_edge(START, \"chatbot\")\n",
        "graph_builder.add_conditional_edges(\"chatbot\", route)\n",
        "graph_builder.add_edge(\"retry\", \"chatbot\")\n",
        "graph = graph_builder.compile()"
      ],
      "metadata": {
        "id": "aPRUX2y7JwyT"
      },
      "execution_count": 113,
      "outputs": []
    },
    {
      "cell_type": "code",
      "source": [
        "graph"
      ],
      "metadata": {
        "colab": {
          "base_uri": "https://localhost:8080/",
          "height": 281
        },
        "id": "ZYrwrKBkKZ51",
        "outputId": "eef58aa0-ad88-4921-dc33-48b62c8b2869"
      },
      "execution_count": 117,
      "outputs": [
        {
          "output_type": "execute_result",
          "data": {
            "text/plain": [
              "<langgraph.graph.state.CompiledStateGraph object at 0x7bb2a9b1ed80>"
            ],
            "image/png": "[encoded data removed]"
          },
          "metadata": {},
          "execution_count": 117
        }
      ]
    },
    {
      "cell_type": "code",
      "source": [
        "for chunk in graph.stream({\"human_messages\" : \"반복\", \"retry_num\": 0}, stream_mode=\"updates\"):\n",
        "    print(chunk)\n",
        "    for node, value in chunk.items():\n",
        "        if node:\n",
        "            print(node)\n",
        "        if \"messages\" in value:\n",
        "            print(value['messages'].content)"
      ],
      "metadata": {
        "colab": {
          "base_uri": "https://localhost:8080/"
        },
        "id": "3E46od_OJy0u",
        "outputId": "a9562a00-6fbb-4014-c18f-d880c98f5444"
      },
      "execution_count": 118,
      "outputs": [
        {
          "output_type": "stream",
          "name": "stdout",
          "text": [
            "(현재 0번째 답변) 사용자 입력: 반복\n",
            "{'chatbot': {'human_messages': [HumanMessage(content='반복', additional_kwargs={}, response_metadata={}, id='7f7686b4-efde-4a1e-b4cc-b76c54aed5bc')], 'ai_messages': [AIMessage(content='0번째 답변중!', additional_kwargs={}, response_metadata={}, id='05e0815b-fc64-4fe8-be9f-cf4b3ae8ba4c')]}}\n",
            "chatbot\n",
            "{'retry': {'retry_num': 1}}\n",
            "retry\n",
            "(현재 1번째 답변) 사용자 입력: 반복\n",
            "{'chatbot': {'human_messages': [HumanMessage(content='반복', additional_kwargs={}, response_metadata={}, id='919fe998-ba9b-4eb5-8c28-299851bc327d')], 'ai_messages': [AIMessage(content='1번째 답변중!', additional_kwargs={}, response_metadata={}, id='e0ca6d27-1aa8-481a-b3d6-8b900f1b62d5')]}}\n",
            "chatbot\n",
            "{'retry': {'retry_num': 2}}\n",
            "retry\n",
            "(현재 2번째 답변) 사용자 입력: 반복\n",
            "{'chatbot': {'human_messages': [HumanMessage(content='반복', additional_kwargs={}, response_metadata={}, id='008b0a13-999e-43dd-9dca-f86da43ad6df')], 'ai_messages': [AIMessage(content='2번째 답변중!', additional_kwargs={}, response_metadata={}, id='2f104311-fcf7-42ba-8c1b-5c61d793316d')]}}\n",
            "chatbot\n",
            "{'retry': {'retry_num': 3}}\n",
            "retry\n",
            "(현재 3번째 답변) 사용자 입력: 하이\n",
            "{'chatbot': {'human_messages': [HumanMessage(content='하이', additional_kwargs={}, response_metadata={}, id='d7f7806f-dd10-4d7e-a78b-1648eebf340e')], 'ai_messages': [AIMessage(content='3번째 답변중!', additional_kwargs={}, response_metadata={}, id='a1d7c7e7-8087-4857-a6f7-223255512e12')]}}\n",
            "chatbot\n"
          ]
        }
      ]
    },
    {
      "cell_type": "code",
      "source": [
        "graph.invoke({\"human_messages\" : \"반복\", \"retry_num\": 0})"
      ],
      "metadata": {
        "colab": {
          "base_uri": "https://localhost:8080/"
        },
        "id": "LuAOUYBSJ7We",
        "outputId": "f0b4ee87-03e4-4cc1-fce6-53135e0c2d56"
      },
      "execution_count": 119,
      "outputs": [
        {
          "name": "stdout",
          "output_type": "stream",
          "text": [
            "(현재 0번째 답변) 사용자 입력: 반복\n",
            "(현재 1번째 답변) 사용자 입력: 반복\n",
            "(현재 2번째 답변) 사용자 입력: 반복\n",
            "(현재 3번째 답변) 사용자 입력: 메롱\n"
          ]
        },
        {
          "output_type": "execute_result",
          "data": {
            "text/plain": [
              "{'human_messages': [HumanMessage(content='반복', additional_kwargs={}, response_metadata={}, id='71b81b1a-f972-4d8d-8270-9b77a504a731'),\n",
              "  HumanMessage(content='반복', additional_kwargs={}, response_metadata={}, id='177e6af4-dcf9-4b72-9f97-b3e7cc08ad05'),\n",
              "  HumanMessage(content='반복', additional_kwargs={}, response_metadata={}, id='4ae0b673-41e3-42b4-afd3-bda0a3db8967'),\n",
              "  HumanMessage(content='반복', additional_kwargs={}, response_metadata={}, id='f2581739-575e-4d6b-82da-4ccc5233053e'),\n",
              "  HumanMessage(content='메롱', additional_kwargs={}, response_metadata={}, id='28ad5080-dabe-4261-8b86-d992f428186e')],\n",
              " 'ai_messages': [AIMessage(content='0번째 답변중!', additional_kwargs={}, response_metadata={}, id='2238a659-2502-44d0-b614-7e4342afebea'),\n",
              "  AIMessage(content='1번째 답변중!', additional_kwargs={}, response_metadata={}, id='2393c730-4de4-4fcb-a295-b2b432423a0c'),\n",
              "  AIMessage(content='2번째 답변중!', additional_kwargs={}, response_metadata={}, id='8e4f5b7f-3e5c-421f-9391-44e87c2af6f8'),\n",
              "  AIMessage(content='3번째 답변중!', additional_kwargs={}, response_metadata={}, id='7f39a26b-b921-4494-83f0-d6217e36d1fd')],\n",
              " 'retry_num': 3}"
            ]
          },
          "metadata": {},
          "execution_count": 119
        }
      ]
    }
  ]
}