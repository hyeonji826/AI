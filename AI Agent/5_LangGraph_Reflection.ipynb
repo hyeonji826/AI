{
  "nbformat": 4,
  "nbformat_minor": 0,
  "metadata": {
    "colab": {
      "provenance": [],
      "authorship_tag": "ABX9TyN04ELbxkrg9HLRgU54043r",
      "include_colab_link": true
    },
    "kernelspec": {
      "name": "python3",
      "display_name": "Python 3"
    },
    "language_info": {
      "name": "python"
    }
  },
  "cells": [
    {
      "cell_type": "markdown",
      "metadata": {
        "id": "view-in-github",
        "colab_type": "text"
      },
      "source": [
        "<a href=\"https://colab.research.google.com/github/hyeonji826/AI/blob/main/AI%20Agent/5_LangGraph_Reflection.ipynb\" target=\"_parent\"><img src=\"https://colab.research.google.com/assets/colab-badge.svg\" alt=\"Open In Colab\"/></a>"
      ]
    },
    {
      "cell_type": "markdown",
      "source": [
        "## 1. Reflection\n",
        "Reflection은 에이전트가 스스로 결과를 평가·비판 한 뒤 그 피드백을 상태(state)에 기록하고, 필요하면 수정 루프로 되돌아가 답을 개선하는 설계 패턴입니다. 보통 “작성 노드(답 생성) → 리플렉션 노드(자기평가) → 라우팅(조건부 엣지)”로 구성되며, 리플렉션 노드는 품질 기준(예: 정확성, 근거, 형식)을 점수·코멘트(score, critique)로 남깁니다. 라우터는 이 정보를 읽어 임계값 미달이면 작성 노드로 되감기, 충족하면 종료 노드로 이동합니다. 무한 루프를 막기 위해 max_iters 같은 반복 한도를 두며, 툴 호출과는 별개로 LLM의 자기검토 능력을 활용해 코드 생성, 질의응답, 체인드 리저닝 등의 정확도·일관성을 높이는 데 쓰입니다.\n",
        "\n",
        "<img src=\"https://blog.kakaocdn.net/dna/b1Ic0g/btsQwHJRkMb/AAAAAAAAAAAAAAAAAAAAAGKNg2obE4vZt0Q9Owo95bbskLQjFYuGpmMZ7DIAuDnX/img.png?credential=yqXZFxpELC7KVnFOS48ylbz2pIh7yKj8&expires=1759244399&allow_ip=&allow_referer=&signature=Rnehl5D3y2D35AdwwyRmWFn%2B1%2Fw%3D\" width=700>"
      ],
      "metadata": {
        "id": "8xKEwAwQuxtZ"
      }
    },
    {
      "cell_type": "code",
      "execution_count": 1,
      "metadata": {
        "colab": {
          "base_uri": "https://localhost:8080/"
        },
        "id": "SVDGJDi_unYy",
        "outputId": "02d1d44b-deba-400e-9425-255201842cc7"
      },
      "outputs": [
        {
          "name": "stdout",
          "output_type": "stream",
          "text": [
            "OPENAI_API_KEY: ··········\n"
          ]
        }
      ],
      "source": [
        "import getpass\n",
        "import os\n",
        "\n",
        "def _set_env(var: str):\n",
        "    if not os.environ.get(var):\n",
        "        os.environ[var] = getpass.getpass(f\"{var}: \")\n",
        "\n",
        "_set_env(\"OPENAI_API_KEY\")"
      ]
    },
    {
      "cell_type": "code",
      "source": [
        "!pip install langchain_openai"
      ],
      "metadata": {
        "colab": {
          "base_uri": "https://localhost:8080/"
        },
        "collapsed": true,
        "id": "Beo1v-vYu_c5",
        "outputId": "ce1e1457-a3df-4d3f-bd65-c1a28188dee4"
      },
      "execution_count": 2,
      "outputs": [
        {
          "output_type": "stream",
          "name": "stdout",
          "text": [
            "Collecting langchain_openai\n",
            "  Downloading langchain_openai-0.3.33-py3-none-any.whl.metadata (2.4 kB)\n",
            "Collecting langchain-core<1.0.0,>=0.3.76 (from langchain_openai)\n",
            "  Downloading langchain_core-0.3.76-py3-none-any.whl.metadata (3.7 kB)\n",
            "Requirement already satisfied: openai<2.0.0,>=1.104.2 in /usr/local/lib/python3.12/dist-packages (from langchain_openai) (1.106.1)\n",
            "Requirement already satisfied: tiktoken<1,>=0.7 in /usr/local/lib/python3.12/dist-packages (from langchain_openai) (0.11.0)\n",
            "Requirement already satisfied: langsmith>=0.3.45 in /usr/local/lib/python3.12/dist-packages (from langchain-core<1.0.0,>=0.3.76->langchain_openai) (0.4.24)\n",
            "Requirement already satisfied: tenacity!=8.4.0,<10.0.0,>=8.1.0 in /usr/local/lib/python3.12/dist-packages (from langchain-core<1.0.0,>=0.3.76->langchain_openai) (8.5.0)\n",
            "Requirement already satisfied: jsonpatch<2.0,>=1.33 in /usr/local/lib/python3.12/dist-packages (from langchain-core<1.0.0,>=0.3.76->langchain_openai) (1.33)\n",
            "Requirement already satisfied: PyYAML>=5.3 in /usr/local/lib/python3.12/dist-packages (from langchain-core<1.0.0,>=0.3.76->langchain_openai) (6.0.2)\n",
            "Requirement already satisfied: typing-extensions>=4.7 in /usr/local/lib/python3.12/dist-packages (from langchain-core<1.0.0,>=0.3.76->langchain_openai) (4.15.0)\n",
            "Requirement already satisfied: packaging>=23.2 in /usr/local/lib/python3.12/dist-packages (from langchain-core<1.0.0,>=0.3.76->langchain_openai) (25.0)\n",
            "Requirement already satisfied: pydantic>=2.7.4 in /usr/local/lib/python3.12/dist-packages (from langchain-core<1.0.0,>=0.3.76->langchain_openai) (2.11.7)\n",
            "Requirement already satisfied: anyio<5,>=3.5.0 in /usr/local/lib/python3.12/dist-packages (from openai<2.0.0,>=1.104.2->langchain_openai) (4.10.0)\n",
            "Requirement already satisfied: distro<2,>=1.7.0 in /usr/local/lib/python3.12/dist-packages (from openai<2.0.0,>=1.104.2->langchain_openai) (1.9.0)\n",
            "Requirement already satisfied: httpx<1,>=0.23.0 in /usr/local/lib/python3.12/dist-packages (from openai<2.0.0,>=1.104.2->langchain_openai) (0.28.1)\n",
            "Requirement already satisfied: jiter<1,>=0.4.0 in /usr/local/lib/python3.12/dist-packages (from openai<2.0.0,>=1.104.2->langchain_openai) (0.10.0)\n",
            "Requirement already satisfied: sniffio in /usr/local/lib/python3.12/dist-packages (from openai<2.0.0,>=1.104.2->langchain_openai) (1.3.1)\n",
            "Requirement already satisfied: tqdm>4 in /usr/local/lib/python3.12/dist-packages (from openai<2.0.0,>=1.104.2->langchain_openai) (4.67.1)\n",
            "Requirement already satisfied: regex>=2022.1.18 in /usr/local/lib/python3.12/dist-packages (from tiktoken<1,>=0.7->langchain_openai) (2024.11.6)\n",
            "Requirement already satisfied: requests>=2.26.0 in /usr/local/lib/python3.12/dist-packages (from tiktoken<1,>=0.7->langchain_openai) (2.32.4)\n",
            "Requirement already satisfied: idna>=2.8 in /usr/local/lib/python3.12/dist-packages (from anyio<5,>=3.5.0->openai<2.0.0,>=1.104.2->langchain_openai) (3.10)\n",
            "Requirement already satisfied: certifi in /usr/local/lib/python3.12/dist-packages (from httpx<1,>=0.23.0->openai<2.0.0,>=1.104.2->langchain_openai) (2025.8.3)\n",
            "Requirement already satisfied: httpcore==1.* in /usr/local/lib/python3.12/dist-packages (from httpx<1,>=0.23.0->openai<2.0.0,>=1.104.2->langchain_openai) (1.0.9)\n",
            "Requirement already satisfied: h11>=0.16 in /usr/local/lib/python3.12/dist-packages (from httpcore==1.*->httpx<1,>=0.23.0->openai<2.0.0,>=1.104.2->langchain_openai) (0.16.0)\n",
            "Requirement already satisfied: jsonpointer>=1.9 in /usr/local/lib/python3.12/dist-packages (from jsonpatch<2.0,>=1.33->langchain-core<1.0.0,>=0.3.76->langchain_openai) (3.0.0)\n",
            "Requirement already satisfied: orjson>=3.9.14 in /usr/local/lib/python3.12/dist-packages (from langsmith>=0.3.45->langchain-core<1.0.0,>=0.3.76->langchain_openai) (3.11.3)\n",
            "Requirement already satisfied: requests-toolbelt>=1.0.0 in /usr/local/lib/python3.12/dist-packages (from langsmith>=0.3.45->langchain-core<1.0.0,>=0.3.76->langchain_openai) (1.0.0)\n",
            "Requirement already satisfied: zstandard>=0.23.0 in /usr/local/lib/python3.12/dist-packages (from langsmith>=0.3.45->langchain-core<1.0.0,>=0.3.76->langchain_openai) (0.24.0)\n",
            "Requirement already satisfied: annotated-types>=0.6.0 in /usr/local/lib/python3.12/dist-packages (from pydantic>=2.7.4->langchain-core<1.0.0,>=0.3.76->langchain_openai) (0.7.0)\n",
            "Requirement already satisfied: pydantic-core==2.33.2 in /usr/local/lib/python3.12/dist-packages (from pydantic>=2.7.4->langchain-core<1.0.0,>=0.3.76->langchain_openai) (2.33.2)\n",
            "Requirement already satisfied: typing-inspection>=0.4.0 in /usr/local/lib/python3.12/dist-packages (from pydantic>=2.7.4->langchain-core<1.0.0,>=0.3.76->langchain_openai) (0.4.1)\n",
            "Requirement already satisfied: charset_normalizer<4,>=2 in /usr/local/lib/python3.12/dist-packages (from requests>=2.26.0->tiktoken<1,>=0.7->langchain_openai) (3.4.3)\n",
            "Requirement already satisfied: urllib3<3,>=1.21.1 in /usr/local/lib/python3.12/dist-packages (from requests>=2.26.0->tiktoken<1,>=0.7->langchain_openai) (2.5.0)\n",
            "Downloading langchain_openai-0.3.33-py3-none-any.whl (74 kB)\n",
            "\u001b[2K   \u001b[90m━━━━━━━━━━━━━━━━━━━━━━━━━━━━━━━━━━━━━━━━\u001b[0m \u001b[32m75.0/75.0 kB\u001b[0m \u001b[31m3.5 MB/s\u001b[0m eta \u001b[36m0:00:00\u001b[0m\n",
            "\u001b[?25hDownloading langchain_core-0.3.76-py3-none-any.whl (447 kB)\n",
            "\u001b[2K   \u001b[90m━━━━━━━━━━━━━━━━━━━━━━━━━━━━━━━━━━━━━━━━\u001b[0m \u001b[32m447.5/447.5 kB\u001b[0m \u001b[31m14.5 MB/s\u001b[0m eta \u001b[36m0:00:00\u001b[0m\n",
            "\u001b[?25hInstalling collected packages: langchain-core, langchain_openai\n",
            "  Attempting uninstall: langchain-core\n",
            "    Found existing installation: langchain-core 0.3.75\n",
            "    Uninstalling langchain-core-0.3.75:\n",
            "      Successfully uninstalled langchain-core-0.3.75\n",
            "Successfully installed langchain-core-0.3.76 langchain_openai-0.3.33\n"
          ]
        }
      ]
    },
    {
      "cell_type": "markdown",
      "source": [
        "### 1. 가사 생성"
      ],
      "metadata": {
        "id": "yPQyxkS6vJT1"
      }
    },
    {
      "cell_type": "code",
      "source": [
        "from langchain_core.messages import AIMessage, BaseMessage, HumanMessage\n",
        "from langchain_core.prompts import ChatPromptTemplate, MessagesPlaceholder\n",
        "from langchain_openai import ChatOpenAI\n",
        "\n",
        "prompt = ChatPromptTemplate.from_messages(\n",
        "    [\n",
        "        (\n",
        "            \"system\",\n",
        "            \"당신은 5단락 노래가사를 훌륭하게 작성하는 작사 도우미입니다.\"\n",
        "            \"사용자의 요청에 따라 최고의 가사를 작성하세요.\"\n",
        "            \"사용자가 피드백을 제공할 경우, 이전 시도에서 개선된 수정본을 작성해 응답하세요.\",\n",
        "        ),\n",
        "        MessagesPlaceholder(variable_name=\"messages\"),\n",
        "    ]\n",
        ")\n",
        "\n",
        "llm = ChatOpenAI(model=\"gpt-5-nano\")\n",
        "generate = prompt | llm"
      ],
      "metadata": {
        "id": "BGgLB7tIvLSg"
      },
      "execution_count": 3,
      "outputs": []
    },
    {
      "cell_type": "code",
      "source": [
        "lyric = \"\"\n",
        "request = HumanMessage(\n",
        "    content=\"코딩에 대한 가사를 작성해주세요.\"\n",
        ")\n",
        "for chunk in generate.stream({\"messages\": [request]}):\n",
        "    print(chunk.content, end=\"\")\n",
        "    lyric += chunk.content"
      ],
      "metadata": {
        "colab": {
          "base_uri": "https://localhost:8080/"
        },
        "id": "YNtg3HbmvUZv",
        "outputId": "98e6d9a2-f22b-4b05-8cf6-d3d2ef56cc7d"
      },
      "execution_count": 8,
      "outputs": [
        {
          "output_type": "stream",
          "name": "stdout",
          "text": [
            "검은 화면 위로 번쩍이는 숫자의 노래가 흐른다\n",
            "커서가 깜빡일 때마다 세상은 다시 깨어난다\n",
            "커피 향과 전기의 냄새 속에서 나는 코드를 노래한다\n",
            "루프의 박자에 마음이 따라 흘러간다\n",
            "새로운 시작은 늘 한 줄의 코드에서 시작된다\n",
            "\n",
            "에러는 그림자, 디버거는 빛\n",
            "컴파일은 숨을 고르는 순간\n",
            "스택 트레이스가 길을 가리켜도 나는 포기하지 않는다\n",
            "원인을 찾아 한 줄씩 고쳐나가며 배우는 법\n",
            "브레이크포인트에 멈춰 선 마음은 다시 달려간다\n",
            "\n",
            "함수는 마음의 문을 열고 닫는 열쇠\n",
            "나는 이름 있는 인자들을 불러 모아 이야기를 만든다\n",
            "반환값은 어제와 오늘 사이의 약속\n",
            "조건문은 선택의 갈림길처럼 방향을 바꾼다\n",
            "참과 거짓 사이에서 나는 최적의 길을 찾아 간다\n",
            "\n",
            "깃은 협업의 지도, 커밋은 기억의 조각\n",
            "브랜치는 서로 다른 꿈의 가지\n",
            "병합은 충돌을 노래로 녹여 하나로 만든다\n",
            "푸시와 풀은 서로의 이야기를 세계로 흘려보낸다\n",
            "배포의 순간, 세상에 작은 기적이 모습을 드러낸다\n",
            "\n",
            "다음 버전의 창밖에서 새로운 문제를 기다린다\n",
            "계속 업데이트되며 배우는 나는 더 나아진다\n",
            "오류를 친구 삼아도 성장하는 나를 믿는다\n",
            "코드는 우리를 만났고, 함께 세상을 바꾼다\n",
            "오늘도 실행을 눌러 내일의 이야기를 시작한다"
          ]
        }
      ]
    },
    {
      "cell_type": "markdown",
      "source": [
        "### 2. 가사 개선"
      ],
      "metadata": {
        "id": "3YY5hELyvU67"
      }
    },
    {
      "cell_type": "code",
      "source": [
        "reflection_prompt = ChatPromptTemplate.from_messages(\n",
        "    [\n",
        "        (\n",
        "            \"system\",\n",
        "            \"당신은 가사를 채점하는 작사가입니다. 사용자가 제출한 작사에 대한 비평과 개선 사항을 작성하세요.\"\n",
        "            \"가사의 길이, 깊이, 문체 등을 포함해 구체적인 개선 요청을 제공하세요.\",\n",
        "        ),\n",
        "        MessagesPlaceholder(variable_name=\"messages\"),\n",
        "    ]\n",
        ")\n",
        "reflect = reflection_prompt | llm"
      ],
      "metadata": {
        "id": "QTfzzL2cvWHd"
      },
      "execution_count": 9,
      "outputs": []
    },
    {
      "cell_type": "code",
      "source": [
        "reflection = \"\"\n",
        "for chunk in reflect.stream({\"messages\": [request, HumanMessage(content=lyric)]}):\n",
        "    print(chunk.content, end=\"\")\n",
        "    reflection += chunk.content"
      ],
      "metadata": {
        "colab": {
          "base_uri": "https://localhost:8080/"
        },
        "id": "FN47sEFjw4Kg",
        "outputId": "0c726776-9d69-4edd-ea78-e976c8ad2c0f"
      },
      "execution_count": 11,
      "outputs": [
        {
          "output_type": "stream",
          "name": "stdout",
          "text": [
            "좋은 점\n",
            "- 코딩 용어를 골고루 배치해 주제에 집중하고, 기술적 현장을 감각적으로 그려냅니다.\n",
            "- 1인 화자의 관점으로 일관되게 이야기를 전개해 몰입감을 주고 있습니다.\n",
            "- 에너지의 상승과 하강 구도가 느껴지며, 마지막에 “오늘도 실행을 눌러 내일의 이야기를 시작한다”로 마무리하는 의지가 강합니다.\n",
            "\n",
            "개선 포인트(길이, 깊이, 문체 측면)\n",
            "- 길이/구성\n",
            "  - 현재 구절은 기술 이미지 중심으로 길게 이어집니다. 노래처럼 들리려면 후렴(코러스)을 한두 번 반복해 청중이 훅을 기억하도록 구성하는 것이 좋습니다.\n",
            "  - 제안: Verse 1 → 코러스(반복 가능한 훅) → Verse 2 → Bridge → Chorus → Outro 식의 구조를 고려해 보세요.\n",
            "- 깊이/감정\n",
            "  - 기술 은유가 장황하게 이어지지만, 개인적 갈등이나 성취의 구체적 사례가 부족합니다. 버그를 잡는 긴장, 마감 직전의 압박, 성공의 희열 같은 순간감을 추가하면 곡의 깊이가 살아납니다.\n",
            "  - 제안: 짧은 에피소드(예: 특정 버그를 찾고 고쳐내는 과정에서 느낀 좌절과 깨달음)를 삽입해 감정의 파고를 만드세요.\n",
            "- 문체/이미지\n",
            "  - 기술 용어의 사용은 좋지만, 상투적 비유가 섞여 있습니다. 더 신선한 이미지를 활용해 보세요. 예: 코드가 도시가 되고, 디버거가 가로수길의 등대가 되는 식의 새로운 은유.\n",
            "  - 중복되는 표현(예: “한 줄의 코드에서 시작된다”)의 재사용은 피하고, 어휘의 다양성으로 리듬과 이미지를 더 풍부하게 만드세요.\n",
            "- 리듬/운율\n",
            "  - 줄 길이가 비슷하게 길게 이어지는 구간이 많아 리듬이 다소 단조로울 수 있습니다. 각각의 연에서 길이를 조금씩 다르게 하고, 중간에 은유의 전환점을 넣은 뒤 후렴으로 리듬을 되살리는 구성을 추천합니다.\n",
            "- 후렴(후렴구) 강조\n",
            "  - 명확한 훅이 없고, 각 연의 마지막 줄에서 매번 같은 분위기로 끝나는 경향이 있습니다. 반복 가능한 후렴구를 만들어 곡의 체류감을 높이세요.\n",
            "\n",
            "구체적 개선 요청(실전용)\n",
            "- 구조 개선:\n",
            "  - 한두 구절 정도를 “코드로 말하는 훅”으로 고정하고, 다른 구절은 스토리 전개에 집중.\n",
            "- 이미지 강화:\n",
            "  - 은유를 재발견: 예를 들어 디버거를 “도시의 등대”로, 컴파일을 “숨 고르기”로 재구성해 신선도 확보.\n",
            "- 구문 다양화:\n",
            "  - 길고 복합한 문장을 피하고, 짧은 문장과 긴 문장을 번갈아 배치해 리듬감을 만들기.\n",
            "- 개인적 이야기 추가:\n",
            "  - 버그를 찾고 고치며 느낀 감정의 변화(좌절-집중-희열-다시 도전)를 구체적으로 묘사.\n",
            "\n",
            "실용적 개선 예시(부분 수정 샘플)\n",
            "- Verse 1 대체 제안\n",
            "  - 원문\n",
            "    검은 화면 위로 번쩍이는 숫자의 노래가 흐른다\n",
            "    커서가 깜빡일 때마다 세상은 다시 깨어난다\n",
            "    커피 향과 전기의 냄새 속에서 나는 코드를 노래한다\n",
            "    루프의 박자에 마음이 따라 흘러간다\n",
            "    새로운 시작은 늘 한 줄의 코드에서 시작된다\n",
            "  - 다듬은 버전\n",
            "    검은 화면 위 숫자들이 내 심장을 두드려,\n",
            "    커서가 깜빡일 때 세상은 또렷이 깨어난다.\n",
            "    커피 향과 전기의 냄새가 섞인 방에서\n",
            "    루프의 박자에 발걸음이 맞춰진다.\n",
            "    새 시작은 언제나, 한 줄의 코드에서 피어난다.\n",
            "\n",
            "- 후렴 후보(2-3개)\n",
            "  1) 코드로 말하자, 버그도 친구로 삼아\n",
            "     컴파일의 숨 고르기, 배포의 기적을 함께 노래하자\n",
            "     오늘의 작은 승리가 내일의 길을 만든다\n",
            "  2) 우리는 키를 누르는 손끝으로 길을 연다\n",
            "     브랜치가 갈림길을 비출 때도, 함께여서 괜찮다\n",
            "     실행 버튼 아래에 꿈을 적는다\n",
            "  3) 코드가 말하는 나의 이야기, 끝나지 않는 여정\n",
            "     커밋은 기억의 조각, 푸시는 세계를 지나간다\n",
            "     이 노래가 다시 시작될 때, 나는 달린다\n",
            "\n",
            "- Verse 2, Bridge 샘플 아이디어\n",
            "  - Verse 2는 함수와 인자, 반환값으로 감정의 흐름을 확장하고, Bridge에서는 배포와 팀 협업의 갈등/해소를 강하게 묘사해 분위기 전환을 만드세요.\n",
            "  - 예시 한 줄\n",
            "    반환값은 어제의 약속, 오늘의 선택이 된다는 확신으로.\n",
            "\n",
            "마무리 코멘트\n",
            "- 현재의 가사는 프로그래밍 세계에 대한 열정과 현장을 잘 담고 있습니다. 다만 노래로서의 기억성, 어조의 다양성, 그리고 감정의 구체적 흐름을 강화하면 훨씬 더 강렬한 곡이 될 거예요.\n",
            "- 위의 개선 방향을 참고해 코러스 중심의 훅, 개인적 에피소드의 삽입, 은유의 신선화, 리듬의 변화 등을 적용해 보세요. 필요하면 제가 구체적인 3-4분짜리 구조의 완성 버전도 함께 만들어 드리겠습니다."
          ]
        }
      ]
    },
    {
      "cell_type": "code",
      "source": [
        "for chunk in generate.stream(\n",
        "    {\"messages\": [request, AIMessage(content=lyric), HumanMessage(content=reflection)]}\n",
        "):\n",
        "    print(chunk.content, end=\"\")"
      ],
      "metadata": {
        "colab": {
          "base_uri": "https://localhost:8080/"
        },
        "id": "8OWOI03Qw5TL",
        "outputId": "ad094403-2727-4a5b-c13f-81265da36a1b"
      },
      "execution_count": 12,
      "outputs": [
        {
          "output_type": "stream",
          "name": "stdout",
          "text": [
            "Verse 1\n",
            "검은 화면에 숫자들이 내 심장을 두드려\n",
            "커서가 깜빡일 때 세상은 또렷이 깨어난다\n",
            "커피의 쓴맛과 냉기의 냄새가 방 안을 채우고\n",
            "루프의 박자에 발걸음이 따라간다\n",
            "새로운 시작은 언제나 코드의 한 줄에서 피어난다\n",
            "\n",
            "Chorus A\n",
            "코드로 말하자, 버그도 친구로 삼아\n",
            "컴파일의 숨 고르기로 마음을 다독이고\n",
            "배포의 빛이 도시에 내려앉을 때\n",
            "오늘의 작은 승리가 내일의 길을 만든다\n",
            "\n",
            "Verse 2\n",
            "버그를 좇아 로그를 해부하니\n",
            "레이턴시의 미로에서 변수들이 속삭인다\n",
            "마감 직전의 압박이 뼈를 묶듯 몰려와도\n",
            "나는 한 줄의 수정으로 숨을 고르고 다시 달린다\n",
            "스크롤의 끝에서, 어제보다 선명한 답이 떠오른다\n",
            "\n",
            "Bridge\n",
            "배포 파이프라인은 거친 바다처럼 흔들리고\n",
            "팀은 서로 다른 등대의 빛을 들고 걷는다\n",
            "충돌은 음악으로 섞이고, 대화는 다리를 놓는다\n",
            "그때 나는 분열이 합쳐지는 순간을 본다\n",
            "\n",
            "Chorus B\n",
            "코드로 말하자, 우리의 길은 함께 걷는 것\n",
            "버전은 다르고 배포는 하나의 약속\n",
            "나는 손끝에 남은 불빛으로 미래를 쓴다\n",
            "오늘의 작은 승리가 내일의 길을 만든다\n",
            "\n",
            "Outro\n",
            "새로운 버전의 도시를 바라보며\n",
            "실패를 배움으로 삼아 다시 손가락에 힘을 준다\n",
            "조용한 호흡으로 코드의 길을 닦고\n",
            "오늘도 실행을 눌러 내일의 이야기를 시작한다"
          ]
        }
      ]
    },
    {
      "cell_type": "markdown",
      "source": [
        "## 3. Graph로 Reflection 구현\n",
        "\n",
        "<img src=\"https://blog.kakaocdn.net/dna/o5rH8/btsQzMQpYWM/AAAAAAAAAAAAAAAAAAAAAAzuMjcIZ2pmzApKdNkpQiqy4UuGJg-XonjDqFlbDmsq/img.png?credential=yqXZFxpELC7KVnFOS48ylbz2pIh7yKj8&expires=1759244399&allow_ip=&allow_referer=&signature=0ss%2FS0wLtjfuwGZdpwdEgD0doWo%3D\">\n"
      ],
      "metadata": {
        "id": "BRzTt5KYw6fV"
      }
    },
    {
      "cell_type": "code",
      "source": [
        "!pip install langgraph"
      ],
      "metadata": {
        "colab": {
          "base_uri": "https://localhost:8080/"
        },
        "collapsed": true,
        "id": "qOLVN_QBw-4P",
        "outputId": "99c2ecd0-3436-4eed-d0b9-a39220854d85"
      },
      "execution_count": 13,
      "outputs": [
        {
          "output_type": "stream",
          "name": "stdout",
          "text": [
            "Collecting langgraph\n",
            "  Downloading langgraph-0.6.7-py3-none-any.whl.metadata (6.8 kB)\n",
            "Requirement already satisfied: langchain-core>=0.1 in /usr/local/lib/python3.12/dist-packages (from langgraph) (0.3.76)\n",
            "Collecting langgraph-checkpoint<3.0.0,>=2.1.0 (from langgraph)\n",
            "  Downloading langgraph_checkpoint-2.1.1-py3-none-any.whl.metadata (4.2 kB)\n",
            "Collecting langgraph-prebuilt<0.7.0,>=0.6.0 (from langgraph)\n",
            "  Downloading langgraph_prebuilt-0.6.4-py3-none-any.whl.metadata (4.5 kB)\n",
            "Collecting langgraph-sdk<0.3.0,>=0.2.2 (from langgraph)\n",
            "  Downloading langgraph_sdk-0.2.6-py3-none-any.whl.metadata (1.5 kB)\n",
            "Requirement already satisfied: pydantic>=2.7.4 in /usr/local/lib/python3.12/dist-packages (from langgraph) (2.11.7)\n",
            "Requirement already satisfied: xxhash>=3.5.0 in /usr/local/lib/python3.12/dist-packages (from langgraph) (3.5.0)\n",
            "Requirement already satisfied: langsmith>=0.3.45 in /usr/local/lib/python3.12/dist-packages (from langchain-core>=0.1->langgraph) (0.4.24)\n",
            "Requirement already satisfied: tenacity!=8.4.0,<10.0.0,>=8.1.0 in /usr/local/lib/python3.12/dist-packages (from langchain-core>=0.1->langgraph) (8.5.0)\n",
            "Requirement already satisfied: jsonpatch<2.0,>=1.33 in /usr/local/lib/python3.12/dist-packages (from langchain-core>=0.1->langgraph) (1.33)\n",
            "Requirement already satisfied: PyYAML>=5.3 in /usr/local/lib/python3.12/dist-packages (from langchain-core>=0.1->langgraph) (6.0.2)\n",
            "Requirement already satisfied: typing-extensions>=4.7 in /usr/local/lib/python3.12/dist-packages (from langchain-core>=0.1->langgraph) (4.15.0)\n",
            "Requirement already satisfied: packaging>=23.2 in /usr/local/lib/python3.12/dist-packages (from langchain-core>=0.1->langgraph) (25.0)\n",
            "Collecting ormsgpack>=1.10.0 (from langgraph-checkpoint<3.0.0,>=2.1.0->langgraph)\n",
            "  Downloading ormsgpack-1.10.0-cp312-cp312-manylinux_2_17_x86_64.manylinux2014_x86_64.whl.metadata (43 kB)\n",
            "\u001b[2K     \u001b[90m━━━━━━━━━━━━━━━━━━━━━━━━━━━━━━━━━━━━━━━━\u001b[0m \u001b[32m43.7/43.7 kB\u001b[0m \u001b[31m3.0 MB/s\u001b[0m eta \u001b[36m0:00:00\u001b[0m\n",
            "\u001b[?25hRequirement already satisfied: httpx>=0.25.2 in /usr/local/lib/python3.12/dist-packages (from langgraph-sdk<0.3.0,>=0.2.2->langgraph) (0.28.1)\n",
            "Requirement already satisfied: orjson>=3.10.1 in /usr/local/lib/python3.12/dist-packages (from langgraph-sdk<0.3.0,>=0.2.2->langgraph) (3.11.3)\n",
            "Requirement already satisfied: annotated-types>=0.6.0 in /usr/local/lib/python3.12/dist-packages (from pydantic>=2.7.4->langgraph) (0.7.0)\n",
            "Requirement already satisfied: pydantic-core==2.33.2 in /usr/local/lib/python3.12/dist-packages (from pydantic>=2.7.4->langgraph) (2.33.2)\n",
            "Requirement already satisfied: typing-inspection>=0.4.0 in /usr/local/lib/python3.12/dist-packages (from pydantic>=2.7.4->langgraph) (0.4.1)\n",
            "Requirement already satisfied: anyio in /usr/local/lib/python3.12/dist-packages (from httpx>=0.25.2->langgraph-sdk<0.3.0,>=0.2.2->langgraph) (4.10.0)\n",
            "Requirement already satisfied: certifi in /usr/local/lib/python3.12/dist-packages (from httpx>=0.25.2->langgraph-sdk<0.3.0,>=0.2.2->langgraph) (2025.8.3)\n",
            "Requirement already satisfied: httpcore==1.* in /usr/local/lib/python3.12/dist-packages (from httpx>=0.25.2->langgraph-sdk<0.3.0,>=0.2.2->langgraph) (1.0.9)\n",
            "Requirement already satisfied: idna in /usr/local/lib/python3.12/dist-packages (from httpx>=0.25.2->langgraph-sdk<0.3.0,>=0.2.2->langgraph) (3.10)\n",
            "Requirement already satisfied: h11>=0.16 in /usr/local/lib/python3.12/dist-packages (from httpcore==1.*->httpx>=0.25.2->langgraph-sdk<0.3.0,>=0.2.2->langgraph) (0.16.0)\n",
            "Requirement already satisfied: jsonpointer>=1.9 in /usr/local/lib/python3.12/dist-packages (from jsonpatch<2.0,>=1.33->langchain-core>=0.1->langgraph) (3.0.0)\n",
            "Requirement already satisfied: requests-toolbelt>=1.0.0 in /usr/local/lib/python3.12/dist-packages (from langsmith>=0.3.45->langchain-core>=0.1->langgraph) (1.0.0)\n",
            "Requirement already satisfied: requests>=2.0.0 in /usr/local/lib/python3.12/dist-packages (from langsmith>=0.3.45->langchain-core>=0.1->langgraph) (2.32.4)\n",
            "Requirement already satisfied: zstandard>=0.23.0 in /usr/local/lib/python3.12/dist-packages (from langsmith>=0.3.45->langchain-core>=0.1->langgraph) (0.24.0)\n",
            "Requirement already satisfied: charset_normalizer<4,>=2 in /usr/local/lib/python3.12/dist-packages (from requests>=2.0.0->langsmith>=0.3.45->langchain-core>=0.1->langgraph) (3.4.3)\n",
            "Requirement already satisfied: urllib3<3,>=1.21.1 in /usr/local/lib/python3.12/dist-packages (from requests>=2.0.0->langsmith>=0.3.45->langchain-core>=0.1->langgraph) (2.5.0)\n",
            "Requirement already satisfied: sniffio>=1.1 in /usr/local/lib/python3.12/dist-packages (from anyio->httpx>=0.25.2->langgraph-sdk<0.3.0,>=0.2.2->langgraph) (1.3.1)\n",
            "Downloading langgraph-0.6.7-py3-none-any.whl (153 kB)\n",
            "\u001b[2K   \u001b[90m━━━━━━━━━━━━━━━━━━━━━━━━━━━━━━━━━━━━━━━━\u001b[0m \u001b[32m153.3/153.3 kB\u001b[0m \u001b[31m7.8 MB/s\u001b[0m eta \u001b[36m0:00:00\u001b[0m\n",
            "\u001b[?25hDownloading langgraph_checkpoint-2.1.1-py3-none-any.whl (43 kB)\n",
            "\u001b[2K   \u001b[90m━━━━━━━━━━━━━━━━━━━━━━━━━━━━━━━━━━━━━━━━\u001b[0m \u001b[32m43.9/43.9 kB\u001b[0m \u001b[31m4.1 MB/s\u001b[0m eta \u001b[36m0:00:00\u001b[0m\n",
            "\u001b[?25hDownloading langgraph_prebuilt-0.6.4-py3-none-any.whl (28 kB)\n",
            "Downloading langgraph_sdk-0.2.6-py3-none-any.whl (54 kB)\n",
            "\u001b[2K   \u001b[90m━━━━━━━━━━━━━━━━━━━━━━━━━━━━━━━━━━━━━━━━\u001b[0m \u001b[32m54.6/54.6 kB\u001b[0m \u001b[31m5.5 MB/s\u001b[0m eta \u001b[36m0:00:00\u001b[0m\n",
            "\u001b[?25hDownloading ormsgpack-1.10.0-cp312-cp312-manylinux_2_17_x86_64.manylinux2014_x86_64.whl (216 kB)\n",
            "\u001b[2K   \u001b[90m━━━━━━━━━━━━━━━━━━━━━━━━━━━━━━━━━━━━━━━━\u001b[0m \u001b[32m216.7/216.7 kB\u001b[0m \u001b[31m17.7 MB/s\u001b[0m eta \u001b[36m0:00:00\u001b[0m\n",
            "\u001b[?25hInstalling collected packages: ormsgpack, langgraph-sdk, langgraph-checkpoint, langgraph-prebuilt, langgraph\n",
            "Successfully installed langgraph-0.6.7 langgraph-checkpoint-2.1.1 langgraph-prebuilt-0.6.4 langgraph-sdk-0.2.6 ormsgpack-1.10.0\n"
          ]
        }
      ]
    },
    {
      "cell_type": "code",
      "source": [
        "from typing import Annotated\n",
        "from typing_extensions import TypedDict\n",
        "\n",
        "from langgraph.graph import END, StateGraph, START\n",
        "from langgraph.graph.message import add_messages\n",
        "from langgraph.checkpoint.memory import MemorySaver\n",
        "\n",
        "\n",
        "class State(TypedDict):\n",
        "    messages: Annotated[list, add_messages]"
      ],
      "metadata": {
        "id": "PfvqZgxpzgjJ"
      },
      "execution_count": 14,
      "outputs": []
    },
    {
      "cell_type": "code",
      "source": [
        "def generation_node(state: State) -> State:\n",
        "    return {\"messages\": [generate.invoke(state[\"messages\"])]}"
      ],
      "metadata": {
        "id": "_dKL6BbDzjHr"
      },
      "execution_count": 15,
      "outputs": []
    },
    {
      "cell_type": "code",
      "source": [
        "def reflection_node(state: State) -> State:\n",
        "    cls_map = {\"ai\": AIMessage, \"human\": HumanMessage}\n",
        "\n",
        "    # 첫번째 사용자 요청 + 생성메시지 (reflection_node's input)\n",
        "    # 첫번째 사용자 요청 + 생성메시지 + 피드백메시지 (generation_node's input)\n",
        "    # 첫번째 사용자 요청 + 생성메시지 + 피드백메시지 + 수정된 생성메시지 (reflection_node's input)\n",
        "    # 첫번째 사용자 요청 + 생성메시지 + 피드백메시지 + 수정된 생성메시지 + 피드백메시지 (generation_node's input)\n",
        "    # ...\n",
        "    translated = [state[\"messages\"][0]] + [\n",
        "        cls_map[msg.type](content=msg.content) for msg in state[\"messages\"][1:]\n",
        "    ]\n",
        "    # translated = [state[\"messages\"][0]] + [\n",
        "    #     cls_map[msg.type](content=msg.content) for msg in state[\"messages\"][-2:]\n",
        "    # ]\n",
        "    res = reflect.invoke(translated)\n",
        "\n",
        "    return {\"messages\": [HumanMessage(content=res.content)]}"
      ],
      "metadata": {
        "id": "Y7W8EPkezke9"
      },
      "execution_count": 16,
      "outputs": []
    },
    {
      "cell_type": "code",
      "source": [
        "graph_builder = StateGraph(State)\n",
        "graph_builder.add_node(\"generate\", generation_node)\n",
        "graph_builder.add_node(\"reflect\", reflection_node)\n",
        "graph_builder.add_edge(START, \"generate\")"
      ],
      "metadata": {
        "colab": {
          "base_uri": "https://localhost:8080/"
        },
        "id": "WIe6tOuhzl-f",
        "outputId": "6fcc0e5f-8b9d-4bea-fdd7-0c84d2b0aceb"
      },
      "execution_count": 17,
      "outputs": [
        {
          "output_type": "execute_result",
          "data": {
            "text/plain": [
              "<langgraph.graph.state.StateGraph at 0x7b5640a4c9b0>"
            ]
          },
          "metadata": {},
          "execution_count": 17
        }
      ]
    },
    {
      "cell_type": "code",
      "source": [
        "from typing import Literal\n",
        "from langgraph.graph import END\n",
        "\n",
        "def should_continue(state: State) -> Literal[\"reflect\",\"END\"]:\n",
        "    if len(state[\"messages\"]) > 6:\n",
        "        return END\n",
        "    return \"reflect\"\n",
        "\n",
        "\n",
        "graph_builder.add_conditional_edges(\"generate\", should_continue)"
      ],
      "metadata": {
        "colab": {
          "base_uri": "https://localhost:8080/"
        },
        "id": "hoTNcYbrzoCr",
        "outputId": "f203a8ac-c99c-4dc7-b1ca-249159fdcd4e"
      },
      "execution_count": 18,
      "outputs": [
        {
          "output_type": "execute_result",
          "data": {
            "text/plain": [
              "<langgraph.graph.state.StateGraph at 0x7b5640a4c9b0>"
            ]
          },
          "metadata": {},
          "execution_count": 18
        }
      ]
    },
    {
      "cell_type": "code",
      "source": [
        "graph_builder.add_edge(\"reflect\", \"generate\")"
      ],
      "metadata": {
        "colab": {
          "base_uri": "https://localhost:8080/"
        },
        "id": "jdHT-5vBzqUF",
        "outputId": "9ac56db2-d22a-499c-dc76-4795d1cfdaae"
      },
      "execution_count": 19,
      "outputs": [
        {
          "output_type": "execute_result",
          "data": {
            "text/plain": [
              "<langgraph.graph.state.StateGraph at 0x7b5640a4c9b0>"
            ]
          },
          "metadata": {},
          "execution_count": 19
        }
      ]
    },
    {
      "cell_type": "code",
      "source": [
        "memory = MemorySaver()\n",
        "graph = graph_builder.compile(checkpointer=memory)\n",
        "graph"
      ],
      "metadata": {
        "colab": {
          "base_uri": "https://localhost:8080/",
          "height": 266
        },
        "id": "xXatUaRDzsER",
        "outputId": "8d9aa585-1e96-4182-ac3a-e226cdd7f950"
      },
      "execution_count": 20,
      "outputs": [
        {
          "output_type": "execute_result",
          "data": {
            "text/plain": [
              "<langgraph.graph.state.CompiledStateGraph object at 0x7b5640a4c590>"
            ],
            "image/png": "[encoded data removed]"
          },
          "metadata": {},
          "execution_count": 20
        }
      ]
    },
    {
      "cell_type": "code",
      "source": [
        "config = {\"configurable\": {\"thread_id\": \"1\"}}"
      ],
      "metadata": {
        "id": "fA3rKlcJzxK3"
      },
      "execution_count": 21,
      "outputs": []
    },
    {
      "cell_type": "code",
      "source": [
        "for event in graph.stream(\n",
        "    {\n",
        "        \"messages\": [\n",
        "            HumanMessage(\n",
        "                content=\"코딩에 대한 가사를 작성해주세요.\"\n",
        "            )\n",
        "        ],\n",
        "    },\n",
        "    config,\n",
        "):\n",
        "    print(event)\n",
        "    print(\"---\")"
      ],
      "metadata": {
        "colab": {
          "base_uri": "https://localhost:8080/"
        },
        "id": "HosbXninz3Iy",
        "outputId": "61ccb812-21d6-4ab3-cdd2-fca8969ed626"
      },
      "execution_count": 23,
      "outputs": [
        {
          "output_type": "stream",
          "name": "stdout",
          "text": [
            "{'generate': {'messages': [AIMessage(content='새벽 창가에 물방울 자국이 맺히고, 커서가 깜빡인다\\n화면은 은빛 달처럼 차분히 숨을 고르고\\n한 줄의 코드가 이 방의 공기를 바꾼다\\n타이핑 소리 밑에 커피의 쓴맛이 진동한다\\n\\n콘솔 로그가 빗물처럼 쏟아지고, 예외의 파도가 올라온다\\n널 포인터의 그림자가 손끝에서 스르르 떠난다\\n무한 루프의 기계적 숨, 나는 여전히 돌아가며 배우는 중\\n작은 버그 하나가 어제의 확신을 흔들어 놓는다\\n\\n디버거를 켜고 스택 트래스를 따라간다\\n함수의 골목에서 과거의 버그를 다시 바라본다\\n주석은 길잡이, 비어 있는 변수 이름은 내일의 꿈\\n리팩토링은 숨 고르기, 흐름은 점점 맑아진다\\n\\n마침표 대신 세미콜론이 일을 끝내고 화면이 떨림 없이 빛난다\\n컴파일의 축제가 시작되고 서버의 심장이 뛰기 시작한다\\n커밋 메시지는 오늘의 고백, 브랜치는 미래의 길\\n배포가 끝나자 방 안의 정적도 조용히 물러선다\\n\\n코드가 내 하루의 일부가 되고, 반복은 습관이 된다\\n에러는 배움의 씨앗, 성공은 또 다른 질문의 시작\\n다음 버전의 꿈을 밀어 올리고, 새로운 함수에 답을 찾아간다\\n나는 계속해서, 코드 위의 길을 걸어간다', additional_kwargs={'refusal': None}, response_metadata={'token_usage': {'completion_tokens': 3836, 'prompt_tokens': 1478, 'total_tokens': 5314, 'completion_tokens_details': {'accepted_prediction_tokens': 0, 'audio_tokens': 0, 'reasoning_tokens': 3456, 'rejected_prediction_tokens': 0}, 'prompt_tokens_details': {'audio_tokens': 0, 'cached_tokens': 0}}, 'model_name': 'gpt-5-nano-2025-08-07', 'system_fingerprint': None, 'id': 'chatcmpl-CFrYAZ4nSDWUKsmEgffqWzO5x7x3P', 'service_tier': 'default', 'finish_reason': 'stop', 'logprobs': None}, id='run--0a09fe9b-cda5-48d7-9c29-81b0d71f52ea-0', usage_metadata={'input_tokens': 1478, 'output_tokens': 3836, 'total_tokens': 5314, 'input_token_details': {'audio': 0, 'cache_read': 0}, 'output_token_details': {'audio': 0, 'reasoning': 3456}})]}}\n",
            "---\n",
            "{'reflect': {'messages': [HumanMessage(content='좋은 출발점입니다. 코딩이라는 구체적 세계를 음악적 이미지로 풀어낸 점이 매력적이고, 기술 용어를 은유로 녹여낸 의도도 돋보입니다. 아래는 비평과 구체적인 개선 제안입니다.\\n\\n전반적 평가\\n- 분위기와 주제의 일관성: 코딩 삶의 리듬과 문제 해결의 여정을 차분하게 따라갑니다. 시작부터 마무리까지 기술적 은유가 자연스럽게 흐르는 편입니다.\\n- 강점 포인트: 콘솔 로그, 예외, 무한 루프, 디버거, 주석, 리팩토링, 세미콜론, 배포 같은 구체 용어들이 실감나게 배치되어 있습니다. 이야기의 흐름도 “문제 인식 → 학습/개선 → 재배치” 같은 구조로 읽히며, 음악으로 옮겨도 충분히 떠올릴 수 있는 리듬감을 줍니다.\\n- 개선 필요점: \\n  - 진부한 표현과 반복이 다소 많고, 리듬이 고르게 느껴져 구간마다 함께 듣기보단 읽기 중심의 가사처럼 느껴질 수 있습니다.\\n  - 구체성과 이미지의 다양성이 더 필요합니다. 추상적 비유보다 현실 속 구체 물체나 상황을 더 많이 활용하면 상상력을 자극합니다.\\n  - 코러스나 반복 모티프가 없어 기억에 남는 훅이 약합니다. 노래로서의 재생성 힘을 키우려면 후렴 구성을 고려해보는 게 좋습니다.\\n  - 이야기의 전개에서 뚜렷한 전환점(클라이맥스)이 약합니다. 작은 사건이나 반전으로 방향 전환을 명확히 하면 몰입도가 올라갑니다.\\n\\n구체적 개선 제안\\n- 구체성 강화 아이디어\\n  - 업무 공간의 디테일을 넣기: 책상 위의 커피 잔 자국, 모니터에 남은 코드 스니펫, 벽에 붙은 노트나 포스트잇의 흔적 같은 실물 이미지.\\n  - 프로젝트 디테일 활용: Git 커밋 해시의 일부, CI 로그의 색상 변화, 버그 리포트 번호, 특정 라이브러리 버전 등 실제 개발 공간의 흔적을 활용.\\n  - 일상사 디테일: 버스 번호, 카페 냅킨 색, 우편함에 남은 메일 주소 등 작은 일상 요소로 무드를 다듬기.\\n- 리듬과 문체 다변화\\n  - 긴 행과 짧은 행을 교차 배치해 리듬의 맥박을 만들기. 예를 들어 중요한 메시지를 짧은 행으로 강하게 찍고, 그 뒤에 긴 은유 구절로 숨을 고르는 식.\\n  - 은유의 변주: 같은 기술 은유라도 방향을 조금씩 바꿔 반복의 지루함을 피하기. 예: 디버거를 “심장박동의 망사”처럼 비유했다가, 다음에는 “디버깅은 바람처럼 지나간 버그를 좇는 추적”처럼 다른 이미지로.\\n- 이야기의 전개 구조 제안\\n  - 도입부: 현재의 공허와 코드의 의의가 겹쳐 보이는 순간으로 시작.\\n  - 중반부: 구체적 기억과 사건(버그 발견, 재배치 시도, 커밋과 리팩토링)을 통해 방향 전환의 촉발점 제시.\\n  - 후반부: 교차되는 수용과 앞으로의 다짐으로 마무리. 코러스에서 후렴적 메시지나 훅을 하나 삽입해 기억에 남는 엔딩을 만듦.\\n- 코러스/후렴 아이디어\\n  - 한두 구절의 반복 훅을 만들고, 매번 어감이나 이미지를 살짝 바꿔 반복성을 유지하되 지루함을 줄이기.\\n  - 예: “코드가 내 하루를 다시 구성한다” 같은 짧은 후렴을 반복하되, 매번 다른 뉘앙스로 끝맺기.\\n- 어감 다듬기\\n  - “에러는 배움의 씨앗” 같은 표현은 쓰임새를 의도적으로 다듬거나 다른 비유로 바꿔 신선함 유지.\\n  - 직설적 표현과 은유의 비율을 조절해 더 시적이거나 더 직관적인 톤 중 하나를 선택.\\n\\n실제 적용 예시 샘플\\n- 구체성 강화 예시(짧은 대체 구간)\\n  원문: “콘솔 로그가 빗물처럼 쏟아지고, 예외의 파도가 올라온다”\\n  다듬은 예시: “콘솔 로그가 창문 틈새로 쏟아져 빗방울처럼 흘러내리고, 예외의 파도가 모니터 위를 스쳐 간다”\\n\\n- 리듬 다변화 예시(짧은 후렴 구절 아이디어)\\n  후렴 아이디어 1: “코드가 하루를 다시 쌓아 올린다, 잠깐의 멈춤 없이”\\n  후렴 아이디어 2: “버그 하나가 길을 바꿔도, 나는 다시 컴파일한다”\\n\\n실제 적용을 원하시면\\n- 원하시는 분위기 톤(더 어둡게, 더 희망적으로, 더 활기차게 등), 길이(버스 길이 같은 짧은 버전 vs 장편), 코러스 여부를 알려주시면 그에 맞춘 완성 편(완전 수정안)을 작성해 드리겠습니다. 원하시는 특정 도구나 기술 용어의 비율도 맞춰 드릴게요.', additional_kwargs={}, response_metadata={}, id='0eb91f2c-b729-4694-9fbd-f03e37a2cd5c')]}}\n",
            "---\n",
            "{'generate': {'messages': [AIMessage(content='다음은 피드백을 반영한 구체성 강화와 코러스 구성을 적용한 수정안 5단락 가사입니다.\\n\\n새벽 창가의 빛이 차갑게 번지고\\n책상 위 커피 잔의 자국은 아직 식지 않은 어제의 온기\\n모니터 커서가 깜빡이며 나를 호출한다\\n코드 조각들이 벽에 걸린 메모처럼 길을 그려낸다\\n후렴: 다시 컴파일한다, 루프를 고친 마음의 고동\\n후렴: 오늘의 버그를 지나, 나는 다시 일어선다\\n\\n예외가 창밖 파도처럼 밀려들고\\n버스 203의 숫자처럼 매일 같은 길 위에서 흔들린다\\n포스트잇의 글자 자국이 벽에 남아 내 남은 시간을 가리킨다\\n모니터의 푸른 빛이 내 어깨를 가볍게 눌러준다\\n후렴: 다시 컴파일한다, 루프를 바르게 고친다\\n후렴: 한 줄의 용기, 다음 줄의 길을 찾는다\\n\\n디버거를 켜고 스택 트레이스를 따라간다\\n주석은 길잡이, 변수 이름은 내일의 꿈이다\\n리팩토링은 느리게 숨을 고르는 행위\\n커밋 해시의 순간이 지나쳐도 마음은 변하지 않는다\\n후렴: 다시 컴파일한다, 루프를 바르게 고친다\\n후렴: 흐름은 맑아지고, 의심은 물러선다\\n\\n세미콜론이 끝맺음을 찍고 화면은 흔들림 없이 빛난다\\nCI의 초록 불빛이 켜지면 살아 있음을 느낀다\\n배포의 순간, 방의 정적이 도리어 가까워진다\\n아이콘의 작은 진동이 내 귀를 스친다\\n후렴: 다시 컴파일한다, 루프를 바르게 고친다\\n후렴: 코드와 하루가 하나가 된다\\n\\n결국 코드는 나의 하루를 닮아간다\\n에러는 배우는 씨앗, 성공은 또 다른 질문의 시작\\n다음 버전의 꿈을 밀어 올리며 더 넓은 길을 찾는다\\n새로운 함수에 답을 달고, 나는 다시 걷는다\\n후렴: 다시 컴파일한다, 오늘의 노래를 완성한다\\n후렴: 내일도 또 다른 버그를 벗겨 내며, 나는 계속한다\\n\\n원하시는 분위기(더 어둡게, 더 희망적으로 등), 길이, 코러스의 개수나 위치를 알려주시면 또다시 다듬어 드리겠습니다.', additional_kwargs={'refusal': None}, response_metadata={'token_usage': {'completion_tokens': 5728, 'prompt_tokens': 3140, 'total_tokens': 8868, 'completion_tokens_details': {'accepted_prediction_tokens': 0, 'audio_tokens': 0, 'reasoning_tokens': 5120, 'rejected_prediction_tokens': 0}, 'prompt_tokens_details': {'audio_tokens': 0, 'cached_tokens': 0}}, 'model_name': 'gpt-5-nano-2025-08-07', 'system_fingerprint': None, 'id': 'chatcmpl-CFrYoK7hHMr4EjlI5MhE5ko94cyIK', 'service_tier': 'default', 'finish_reason': 'stop', 'logprobs': None}, id='run--baa23eee-0015-4c04-8293-3f0d472b6652-0', usage_metadata={'input_tokens': 3140, 'output_tokens': 5728, 'total_tokens': 8868, 'input_token_details': {'audio': 0, 'cache_read': 0}, 'output_token_details': {'audio': 0, 'reasoning': 5120}})]}}\n",
            "---\n"
          ]
        }
      ]
    },
    {
      "cell_type": "code",
      "source": [
        "state = graph.get_state(config)"
      ],
      "metadata": {
        "id": "HS3FgpFdz5Qn"
      },
      "execution_count": 24,
      "outputs": []
    },
    {
      "cell_type": "code",
      "source": [
        "ChatPromptTemplate.from_messages(state.values[\"messages\"]).pretty_print()"
      ],
      "metadata": {
        "colab": {
          "base_uri": "https://localhost:8080/"
        },
        "id": "ZKWkxWo0z6X-",
        "outputId": "e7cbca19-7cfb-4a31-931d-1d8d8e27136a"
      },
      "execution_count": 25,
      "outputs": [
        {
          "output_type": "stream",
          "name": "stdout",
          "text": [
            "================================\u001b[1m Human Message \u001b[0m=================================\n",
            "\n",
            "이별에 대한 가사를 작성해주세요.\n",
            "\n",
            "==================================\u001b[1m Ai Message \u001b[0m==================================\n",
            "\n",
            "문을 열면 네 냄새가 남아 있어\n",
            "함께 남긴 약속의 글자들은 벽에 흐려져 가네\n",
            "창밖 빗소리는 네 이름을 속삭이며 흘려가고\n",
            "여전히 네 기억을 쫓아 걷는 내 발걸음\n",
            "\n",
            "네가 떠난 자리엔 차가운 바람이 스며들고\n",
            "사진 속 널 떠올리면 미소는 오래도록 선명해\n",
            "메시지는 시들고 화면은 어둠에 잠겨 있어\n",
            "오늘의 나는 네가 남긴 빈 자리에서 숨 쉬고 있어\n",
            "\n",
            "나는 남은 단어를 모아 작은 불을 지핀다\n",
            "기억은 종이에 긁힌 흔들림, 아직 타지 않은 선들\n",
            "네 이름을 불러보려 숨을 깊이 들이마셔 보았지만\n",
            "대답은 바람에 흩날려 돌아오지 않네\n",
            "\n",
            "그럼에도 나는 어둠을 가르고 길을 걷는다\n",
            "새벽의 첫 빛이 상처를 닦아 주고\n",
            "지나간 노래의 리듬이 아직 귀에 남아\n",
            "천천히, 그러나 멈추지 않는 걸음을 택해\n",
            "\n",
            "이별은 끝이 아니라 시작의 한 조각일 뿐\n",
            "너 없는 날들에 나는 다시 나를 찾아 걷는다\n",
            "언젠가 네가 남긴 빈자리에 햇살이 스며들기를\n",
            "안녕, 고마웠어. 이 편린으로 나는 살아가리\n",
            "\n",
            "================================\u001b[1m Human Message \u001b[0m=================================\n",
            "\n",
            "전반적 평가\n",
            "- 분위기와 주제의 일관성은 좋습니다. 이별의 고통에서 벗어나려는 의지까지 점진적으로 그려져 있어 독자에게 공감과 위로를 줍니다.\n",
            "- 강점으로는 감각적 이미지(냄새, 빗소리, 벽에 흐려지는 약속 글자), 의식의 흐름을 따라가는 서사구조, 그리고 마지막의 수용적 결말이 잘 연결됩니다.\n",
            "- 다만 몇 군데는 진부한 표현이 보이고, 리듬과 구성이 다소 평평하게 느껴질 수 있습니다. 구체성과 리듬감을 강화하면 더 강렬하고 기억에 남는 가사가 될 가능성이 큽니다.\n",
            "\n",
            "개선이 필요한 점\n",
            "- 구체성 부족: 크고 보편적인 비유보다는 함께하던 구체적 기억이나 사물의 흔적을 활용하면 독자의 상상력을 더 자극합니다.\n",
            "- 문체의 다양성 부족: 긴 문장과 짧은 문장을 섞어 리듬을 만들고, 같은 어감을 반복하지 않도록 약간의 어휘 변화를 주면 흐름이 살아납니다.\n",
            "- 진부한 표현 가능성: “끝이 아니라 시작의 조각” 같은 표현은 의도적으로 다듬거나 다른 신선한 비유로 바꾸면 효과가 큽니다.\n",
            "- 이야기의 진행점(클라이맥스/전환점) 명확성: 현재는 서정성이 강하지만, 중간에 한두 개의 구체적 사건이나 감정의 방향 전환을 추가해 여정의 모양새를 뚜렷하게 다듬으면 좋습니다.\n",
            "- 구조적 구성: 코러스나 반복되는 모티프를 하나 추가하면 노래의 기억도를 높일 수 있습니다.\n",
            "\n",
            "구체적인 개선 제안\n",
            "- 구체성 강화 아이디어\n",
            "  - 함께 남긴 공간의 디테일을 넣기: 예를 들어 “창가의 물방울 자국”, “책상 위의 반쯤 멈춘 커피 잔”, “메모지에 남은 작은 약속의 글자 자국” 같은 구체물 사용.\n",
            "  - 함께던 계절이나 일상사(예: 버스 번호, 자주 가던 카페의 냅킨 색깔, 우편함에 남은 주소의 흔적)로 입체감 강화.\n",
            "- 리듬과 문체 다변화\n",
            "  - 짧은 한두 개의 행으로 강한 충격을 주고, 그 뒤를 긴 은유적 행으로 이어가는 식으로 운율을 조정.\n",
            "  - 은유를 반복적으로 쓰되 말의 강도나 이미지의 방향을 조금씩 바꿔 같은 모티프라도 새로움이 느껴지게 만들기.\n",
            "- 이야기의 전개\n",
            "  - 도입부에서 현재의 공허를 먼저 보여주고, 중반에 과거의 구체적 기억으로 파고들었다가, 후반에 재생과 수용으로 마무리하는 구조를 명확히 구분.\n",
            "  - 마지막 구절에 다시 한 줄의 강한 후크를 배치해 여운을 남기기.\n",
            "- 어감 다듬기\n",
            "  - “네 이름을 불러보려” 같은 직설적 구절은 좀 더 은유적으로 바꾸면 더 멋진 효과를 냅니다.\n",
            "  - 반복되는 표현은 한두 단어를 바꿔 변주해 사용하면 지루함을 줄일 수 있습니다.\n",
            "\n",
            "실제 적용 예시(짧은 대체 구간 샘플)\n",
            "- 원문 일부를 다듬은 예시:\n",
            "  - 원문: “나는 남은 단어를 모아 작은 불을 지핀다 / 기억은 종이에 긁힌 흔들림, 아직 타지 않은 선들”\n",
            "  - 다듬은 예시: “남은 말들을 모아 창가의 불꽃 하나를 지피고 / 종이 위 남은 선들은 아직도 천천히 타오를 준비한다”\n",
            "- 원문: “네 이름을 불러보려 숨을 깊이 들이마셔 보았지만 / 대답은 바람에 흩날려 돌아오지 않네”\n",
            "  - 다듬은 예시: “네 이름을 속삭여 보려 숨을 들이켜도 / 대답은 먼지 속에 흩어져 벽을 스친다”\n",
            "\n",
            "원한다면 제가 위 제안을 바탕으로 한 편의 수정안(완전한 버전)을 만들어 드리겠습니다. 원하는 분위기 톤(더 어두운 쪽, 더 희망적, 강한 비유 등), 길이, 그리고 코러스 여부를 알려주시면 맞춤형으로 다듬어 드릴게요.\n",
            "\n",
            "================================\u001b[1m Human Message \u001b[0m=================================\n",
            "\n",
            "코딩에 대한 가사를 작성해주세요.\n",
            "\n",
            "==================================\u001b[1m Ai Message \u001b[0m==================================\n",
            "\n",
            "새벽 창가에 물방울 자국이 맺히고, 커서가 깜빡인다\n",
            "화면은 은빛 달처럼 차분히 숨을 고르고\n",
            "한 줄의 코드가 이 방의 공기를 바꾼다\n",
            "타이핑 소리 밑에 커피의 쓴맛이 진동한다\n",
            "\n",
            "콘솔 로그가 빗물처럼 쏟아지고, 예외의 파도가 올라온다\n",
            "널 포인터의 그림자가 손끝에서 스르르 떠난다\n",
            "무한 루프의 기계적 숨, 나는 여전히 돌아가며 배우는 중\n",
            "작은 버그 하나가 어제의 확신을 흔들어 놓는다\n",
            "\n",
            "디버거를 켜고 스택 트래스를 따라간다\n",
            "함수의 골목에서 과거의 버그를 다시 바라본다\n",
            "주석은 길잡이, 비어 있는 변수 이름은 내일의 꿈\n",
            "리팩토링은 숨 고르기, 흐름은 점점 맑아진다\n",
            "\n",
            "마침표 대신 세미콜론이 일을 끝내고 화면이 떨림 없이 빛난다\n",
            "컴파일의 축제가 시작되고 서버의 심장이 뛰기 시작한다\n",
            "커밋 메시지는 오늘의 고백, 브랜치는 미래의 길\n",
            "배포가 끝나자 방 안의 정적도 조용히 물러선다\n",
            "\n",
            "코드가 내 하루의 일부가 되고, 반복은 습관이 된다\n",
            "에러는 배움의 씨앗, 성공은 또 다른 질문의 시작\n",
            "다음 버전의 꿈을 밀어 올리고, 새로운 함수에 답을 찾아간다\n",
            "나는 계속해서, 코드 위의 길을 걸어간다\n",
            "\n",
            "================================\u001b[1m Human Message \u001b[0m=================================\n",
            "\n",
            "좋은 출발점입니다. 코딩이라는 구체적 세계를 음악적 이미지로 풀어낸 점이 매력적이고, 기술 용어를 은유로 녹여낸 의도도 돋보입니다. 아래는 비평과 구체적인 개선 제안입니다.\n",
            "\n",
            "전반적 평가\n",
            "- 분위기와 주제의 일관성: 코딩 삶의 리듬과 문제 해결의 여정을 차분하게 따라갑니다. 시작부터 마무리까지 기술적 은유가 자연스럽게 흐르는 편입니다.\n",
            "- 강점 포인트: 콘솔 로그, 예외, 무한 루프, 디버거, 주석, 리팩토링, 세미콜론, 배포 같은 구체 용어들이 실감나게 배치되어 있습니다. 이야기의 흐름도 “문제 인식 → 학습/개선 → 재배치” 같은 구조로 읽히며, 음악으로 옮겨도 충분히 떠올릴 수 있는 리듬감을 줍니다.\n",
            "- 개선 필요점: \n",
            "  - 진부한 표현과 반복이 다소 많고, 리듬이 고르게 느껴져 구간마다 함께 듣기보단 읽기 중심의 가사처럼 느껴질 수 있습니다.\n",
            "  - 구체성과 이미지의 다양성이 더 필요합니다. 추상적 비유보다 현실 속 구체 물체나 상황을 더 많이 활용하면 상상력을 자극합니다.\n",
            "  - 코러스나 반복 모티프가 없어 기억에 남는 훅이 약합니다. 노래로서의 재생성 힘을 키우려면 후렴 구성을 고려해보는 게 좋습니다.\n",
            "  - 이야기의 전개에서 뚜렷한 전환점(클라이맥스)이 약합니다. 작은 사건이나 반전으로 방향 전환을 명확히 하면 몰입도가 올라갑니다.\n",
            "\n",
            "구체적 개선 제안\n",
            "- 구체성 강화 아이디어\n",
            "  - 업무 공간의 디테일을 넣기: 책상 위의 커피 잔 자국, 모니터에 남은 코드 스니펫, 벽에 붙은 노트나 포스트잇의 흔적 같은 실물 이미지.\n",
            "  - 프로젝트 디테일 활용: Git 커밋 해시의 일부, CI 로그의 색상 변화, 버그 리포트 번호, 특정 라이브러리 버전 등 실제 개발 공간의 흔적을 활용.\n",
            "  - 일상사 디테일: 버스 번호, 카페 냅킨 색, 우편함에 남은 메일 주소 등 작은 일상 요소로 무드를 다듬기.\n",
            "- 리듬과 문체 다변화\n",
            "  - 긴 행과 짧은 행을 교차 배치해 리듬의 맥박을 만들기. 예를 들어 중요한 메시지를 짧은 행으로 강하게 찍고, 그 뒤에 긴 은유 구절로 숨을 고르는 식.\n",
            "  - 은유의 변주: 같은 기술 은유라도 방향을 조금씩 바꿔 반복의 지루함을 피하기. 예: 디버거를 “심장박동의 망사”처럼 비유했다가, 다음에는 “디버깅은 바람처럼 지나간 버그를 좇는 추적”처럼 다른 이미지로.\n",
            "- 이야기의 전개 구조 제안\n",
            "  - 도입부: 현재의 공허와 코드의 의의가 겹쳐 보이는 순간으로 시작.\n",
            "  - 중반부: 구체적 기억과 사건(버그 발견, 재배치 시도, 커밋과 리팩토링)을 통해 방향 전환의 촉발점 제시.\n",
            "  - 후반부: 교차되는 수용과 앞으로의 다짐으로 마무리. 코러스에서 후렴적 메시지나 훅을 하나 삽입해 기억에 남는 엔딩을 만듦.\n",
            "- 코러스/후렴 아이디어\n",
            "  - 한두 구절의 반복 훅을 만들고, 매번 어감이나 이미지를 살짝 바꿔 반복성을 유지하되 지루함을 줄이기.\n",
            "  - 예: “코드가 내 하루를 다시 구성한다” 같은 짧은 후렴을 반복하되, 매번 다른 뉘앙스로 끝맺기.\n",
            "- 어감 다듬기\n",
            "  - “에러는 배움의 씨앗” 같은 표현은 쓰임새를 의도적으로 다듬거나 다른 비유로 바꿔 신선함 유지.\n",
            "  - 직설적 표현과 은유의 비율을 조절해 더 시적이거나 더 직관적인 톤 중 하나를 선택.\n",
            "\n",
            "실제 적용 예시 샘플\n",
            "- 구체성 강화 예시(짧은 대체 구간)\n",
            "  원문: “콘솔 로그가 빗물처럼 쏟아지고, 예외의 파도가 올라온다”\n",
            "  다듬은 예시: “콘솔 로그가 창문 틈새로 쏟아져 빗방울처럼 흘러내리고, 예외의 파도가 모니터 위를 스쳐 간다”\n",
            "\n",
            "- 리듬 다변화 예시(짧은 후렴 구절 아이디어)\n",
            "  후렴 아이디어 1: “코드가 하루를 다시 쌓아 올린다, 잠깐의 멈춤 없이”\n",
            "  후렴 아이디어 2: “버그 하나가 길을 바꿔도, 나는 다시 컴파일한다”\n",
            "\n",
            "실제 적용을 원하시면\n",
            "- 원하시는 분위기 톤(더 어둡게, 더 희망적으로, 더 활기차게 등), 길이(버스 길이 같은 짧은 버전 vs 장편), 코러스 여부를 알려주시면 그에 맞춘 완성 편(완전 수정안)을 작성해 드리겠습니다. 원하시는 특정 도구나 기술 용어의 비율도 맞춰 드릴게요.\n",
            "\n",
            "==================================\u001b[1m Ai Message \u001b[0m==================================\n",
            "\n",
            "다음은 피드백을 반영한 구체성 강화와 코러스 구성을 적용한 수정안 5단락 가사입니다.\n",
            "\n",
            "새벽 창가의 빛이 차갑게 번지고\n",
            "책상 위 커피 잔의 자국은 아직 식지 않은 어제의 온기\n",
            "모니터 커서가 깜빡이며 나를 호출한다\n",
            "코드 조각들이 벽에 걸린 메모처럼 길을 그려낸다\n",
            "후렴: 다시 컴파일한다, 루프를 고친 마음의 고동\n",
            "후렴: 오늘의 버그를 지나, 나는 다시 일어선다\n",
            "\n",
            "예외가 창밖 파도처럼 밀려들고\n",
            "버스 203의 숫자처럼 매일 같은 길 위에서 흔들린다\n",
            "포스트잇의 글자 자국이 벽에 남아 내 남은 시간을 가리킨다\n",
            "모니터의 푸른 빛이 내 어깨를 가볍게 눌러준다\n",
            "후렴: 다시 컴파일한다, 루프를 바르게 고친다\n",
            "후렴: 한 줄의 용기, 다음 줄의 길을 찾는다\n",
            "\n",
            "디버거를 켜고 스택 트레이스를 따라간다\n",
            "주석은 길잡이, 변수 이름은 내일의 꿈이다\n",
            "리팩토링은 느리게 숨을 고르는 행위\n",
            "커밋 해시의 순간이 지나쳐도 마음은 변하지 않는다\n",
            "후렴: 다시 컴파일한다, 루프를 바르게 고친다\n",
            "후렴: 흐름은 맑아지고, 의심은 물러선다\n",
            "\n",
            "세미콜론이 끝맺음을 찍고 화면은 흔들림 없이 빛난다\n",
            "CI의 초록 불빛이 켜지면 살아 있음을 느낀다\n",
            "배포의 순간, 방의 정적이 도리어 가까워진다\n",
            "아이콘의 작은 진동이 내 귀를 스친다\n",
            "후렴: 다시 컴파일한다, 루프를 바르게 고친다\n",
            "후렴: 코드와 하루가 하나가 된다\n",
            "\n",
            "결국 코드는 나의 하루를 닮아간다\n",
            "에러는 배우는 씨앗, 성공은 또 다른 질문의 시작\n",
            "다음 버전의 꿈을 밀어 올리며 더 넓은 길을 찾는다\n",
            "새로운 함수에 답을 달고, 나는 다시 걷는다\n",
            "후렴: 다시 컴파일한다, 오늘의 노래를 완성한다\n",
            "후렴: 내일도 또 다른 버그를 벗겨 내며, 나는 계속한다\n",
            "\n",
            "원하시는 분위기(더 어둡게, 더 희망적으로 등), 길이, 코러스의 개수나 위치를 알려주시면 또다시 다듬어 드리겠습니다.\n"
          ]
        }
      ]
    },
    {
      "cell_type": "markdown",
      "source": [
        "## 2. Reflextion 구현\n",
        "[“Reflexion: Language Agents with Verbal Reinforcement Learning”](https://arxiv.org/abs/2303.11366)은, 2023년 3월 20일 최초 제출, 2023년 10월 10일 v4로 개정된 논문입니다. 저자는 Noah Shinn 외 5명이고, 핵심 내용은 언어 에이전트가 스스로 언어적 피드백(반성문)을 생성·메모리에 저장해 다음 시도에 반영함으로써 성능을 높이는 프레임워크를 제안했다는 점입니다. HumanEval 등에서 유의미한 향상을 보고합니다.\n",
        "\n",
        "<img src=\"https://blog.kakaocdn.net/dna/TE252/btsQwhkpIq8/AAAAAAAAAAAAAAAAAAAAAKpNciWbSIUMiGE5-K-UgaF4YTu3a1Z10Fx4OLCK2GRc/img.png?credential=yqXZFxpELC7KVnFOS48ylbz2pIh7yKj8&expires=1759244399&allow_ip=&allow_referer=&signature=bEVF2KybKuElMkq83PL%2FKLUB6PI%3D\">"
      ],
      "metadata": {
        "id": "VPKLFKc010k8"
      }
    },
    {
      "cell_type": "markdown",
      "source": [
        "- Actor (LM): 실제 행동(답안 작성, 코드 생성 등)을 내는 언어모델입니다.\n",
        "- Evaluator (LM): Actor가 낸 결과를 내부적으로 평가합니다(정확성·형식·테스트 통과 여부 판단 등).\n",
        "- Self-reflection (LM): 평가 결과를 바탕으로 “다음에는 이렇게 고치자” 같은 반성문(Reflective text)을 만들어 냅니다.\n",
        "- Trajectory (short-term memory): 이번 시도에서의 행동/관찰 기록(a₀, o₀, …)을 담는 단기 메모리입니다.\n",
        "- Experience (long-term memory): 누적된 반성문을 쌓아두는 장기 메모리(mem)입니다. 이후 시도에서 프롬프트에 이 기억을 넣어 같은 실수를 반복하지 않게 합니다.\n",
        "- Environment: 외부에서 관찰/보상(예: 유닛 테스트의 통과/실패, 웹툴의 응답 등)을 제공합니다. 외부 피드백이 있으면 - Evaluator의 판단과 함께 사용됩니다.\n",
        "\n",
        "<img src=\"https://blog.kakaocdn.net/dna/dxvilH/btsQzDeZ087/AAAAAAAAAAAAAAAAAAAAAJJ8QC-VUzoYLsotdKq1OrXdCNGqhzHG2zdCbJWUWL20/img.png?credential=yqXZFxpELC7KVnFOS48ylbz2pIh7yKj8&expires=1759244399&allow_ip=&allow_referer=&signature=3bY%2FbXiSMYffNl7EjR8Qtto1mK8%3D\" width=800>"
      ],
      "metadata": {
        "id": "msykUd_f2C-4"
      }
    },
    {
      "cell_type": "code",
      "source": [
        "def _set_env(var: str):\n",
        "    if not os.environ.get(var):\n",
        "        os.environ[var] = getpass.getpass(f\"{var}: \")\n",
        "\n",
        "_set_env(\"TAVILY_API_KEY\")"
      ],
      "metadata": {
        "colab": {
          "base_uri": "https://localhost:8080/"
        },
        "id": "fZJT82tl2Ne2",
        "outputId": "653e3ad2-557b-4dd3-e7b9-c69229a92df4"
      },
      "execution_count": 26,
      "outputs": [
        {
          "name": "stdout",
          "output_type": "stream",
          "text": [
            "TAVILY_API_KEY: ··········\n"
          ]
        }
      ]
    },
    {
      "cell_type": "code",
      "source": [
        "from langchain_openai import ChatOpenAI\n",
        "\n",
        "llm = ChatOpenAI(model=\"gpt-5-nano\")"
      ],
      "metadata": {
        "id": "i-QBKPY05e9x"
      },
      "execution_count": 27,
      "outputs": []
    },
    {
      "cell_type": "code",
      "source": [
        "!pip install langchain_community"
      ],
      "metadata": {
        "colab": {
          "base_uri": "https://localhost:8080/",
          "height": 1000
        },
        "collapsed": true,
        "id": "9U7qyMyH6SIy",
        "outputId": "084b579e-bf49-4bb6-cb57-f38ea98c0eb5"
      },
      "execution_count": 28,
      "outputs": [
        {
          "output_type": "stream",
          "name": "stdout",
          "text": [
            "Collecting langchain_community\n",
            "  Downloading langchain_community-0.3.29-py3-none-any.whl.metadata (2.9 kB)\n",
            "Requirement already satisfied: langchain-core<2.0.0,>=0.3.75 in /usr/local/lib/python3.12/dist-packages (from langchain_community) (0.3.76)\n",
            "Requirement already satisfied: langchain<2.0.0,>=0.3.27 in /usr/local/lib/python3.12/dist-packages (from langchain_community) (0.3.27)\n",
            "Requirement already satisfied: SQLAlchemy<3,>=1.4 in /usr/local/lib/python3.12/dist-packages (from langchain_community) (2.0.43)\n",
            "Collecting requests<3,>=2.32.5 (from langchain_community)\n",
            "  Downloading requests-2.32.5-py3-none-any.whl.metadata (4.9 kB)\n",
            "Requirement already satisfied: PyYAML>=5.3 in /usr/local/lib/python3.12/dist-packages (from langchain_community) (6.0.2)\n",
            "Requirement already satisfied: aiohttp<4.0.0,>=3.8.3 in /usr/local/lib/python3.12/dist-packages (from langchain_community) (3.12.15)\n",
            "Requirement already satisfied: tenacity!=8.4.0,<10,>=8.1.0 in /usr/local/lib/python3.12/dist-packages (from langchain_community) (8.5.0)\n",
            "Collecting dataclasses-json<0.7,>=0.6.7 (from langchain_community)\n",
            "  Downloading dataclasses_json-0.6.7-py3-none-any.whl.metadata (25 kB)\n",
            "Requirement already satisfied: pydantic-settings<3.0.0,>=2.10.1 in /usr/local/lib/python3.12/dist-packages (from langchain_community) (2.10.1)\n",
            "Requirement already satisfied: langsmith>=0.1.125 in /usr/local/lib/python3.12/dist-packages (from langchain_community) (0.4.24)\n",
            "Requirement already satisfied: httpx-sse<1.0.0,>=0.4.0 in /usr/local/lib/python3.12/dist-packages (from langchain_community) (0.4.1)\n",
            "Requirement already satisfied: numpy>=1.26.2 in /usr/local/lib/python3.12/dist-packages (from langchain_community) (2.0.2)\n",
            "Requirement already satisfied: aiohappyeyeballs>=2.5.0 in /usr/local/lib/python3.12/dist-packages (from aiohttp<4.0.0,>=3.8.3->langchain_community) (2.6.1)\n",
            "Requirement already satisfied: aiosignal>=1.4.0 in /usr/local/lib/python3.12/dist-packages (from aiohttp<4.0.0,>=3.8.3->langchain_community) (1.4.0)\n",
            "Requirement already satisfied: attrs>=17.3.0 in /usr/local/lib/python3.12/dist-packages (from aiohttp<4.0.0,>=3.8.3->langchain_community) (25.3.0)\n",
            "Requirement already satisfied: frozenlist>=1.1.1 in /usr/local/lib/python3.12/dist-packages (from aiohttp<4.0.0,>=3.8.3->langchain_community) (1.7.0)\n",
            "Requirement already satisfied: multidict<7.0,>=4.5 in /usr/local/lib/python3.12/dist-packages (from aiohttp<4.0.0,>=3.8.3->langchain_community) (6.6.4)\n",
            "Requirement already satisfied: propcache>=0.2.0 in /usr/local/lib/python3.12/dist-packages (from aiohttp<4.0.0,>=3.8.3->langchain_community) (0.3.2)\n",
            "Requirement already satisfied: yarl<2.0,>=1.17.0 in /usr/local/lib/python3.12/dist-packages (from aiohttp<4.0.0,>=3.8.3->langchain_community) (1.20.1)\n",
            "Collecting marshmallow<4.0.0,>=3.18.0 (from dataclasses-json<0.7,>=0.6.7->langchain_community)\n",
            "  Downloading marshmallow-3.26.1-py3-none-any.whl.metadata (7.3 kB)\n",
            "Collecting typing-inspect<1,>=0.4.0 (from dataclasses-json<0.7,>=0.6.7->langchain_community)\n",
            "  Downloading typing_inspect-0.9.0-py3-none-any.whl.metadata (1.5 kB)\n",
            "Requirement already satisfied: langchain-text-splitters<1.0.0,>=0.3.9 in /usr/local/lib/python3.12/dist-packages (from langchain<2.0.0,>=0.3.27->langchain_community) (0.3.11)\n",
            "Requirement already satisfied: pydantic<3.0.0,>=2.7.4 in /usr/local/lib/python3.12/dist-packages (from langchain<2.0.0,>=0.3.27->langchain_community) (2.11.7)\n",
            "Requirement already satisfied: jsonpatch<2.0,>=1.33 in /usr/local/lib/python3.12/dist-packages (from langchain-core<2.0.0,>=0.3.75->langchain_community) (1.33)\n",
            "Requirement already satisfied: typing-extensions>=4.7 in /usr/local/lib/python3.12/dist-packages (from langchain-core<2.0.0,>=0.3.75->langchain_community) (4.15.0)\n",
            "Requirement already satisfied: packaging>=23.2 in /usr/local/lib/python3.12/dist-packages (from langchain-core<2.0.0,>=0.3.75->langchain_community) (25.0)\n",
            "Requirement already satisfied: httpx<1,>=0.23.0 in /usr/local/lib/python3.12/dist-packages (from langsmith>=0.1.125->langchain_community) (0.28.1)\n",
            "Requirement already satisfied: orjson>=3.9.14 in /usr/local/lib/python3.12/dist-packages (from langsmith>=0.1.125->langchain_community) (3.11.3)\n",
            "Requirement already satisfied: requests-toolbelt>=1.0.0 in /usr/local/lib/python3.12/dist-packages (from langsmith>=0.1.125->langchain_community) (1.0.0)\n",
            "Requirement already satisfied: zstandard>=0.23.0 in /usr/local/lib/python3.12/dist-packages (from langsmith>=0.1.125->langchain_community) (0.24.0)\n",
            "Requirement already satisfied: python-dotenv>=0.21.0 in /usr/local/lib/python3.12/dist-packages (from pydantic-settings<3.0.0,>=2.10.1->langchain_community) (1.1.1)\n",
            "Requirement already satisfied: typing-inspection>=0.4.0 in /usr/local/lib/python3.12/dist-packages (from pydantic-settings<3.0.0,>=2.10.1->langchain_community) (0.4.1)\n",
            "Requirement already satisfied: charset_normalizer<4,>=2 in /usr/local/lib/python3.12/dist-packages (from requests<3,>=2.32.5->langchain_community) (3.4.3)\n",
            "Requirement already satisfied: idna<4,>=2.5 in /usr/local/lib/python3.12/dist-packages (from requests<3,>=2.32.5->langchain_community) (3.10)\n",
            "Requirement already satisfied: urllib3<3,>=1.21.1 in /usr/local/lib/python3.12/dist-packages (from requests<3,>=2.32.5->langchain_community) (2.5.0)\n",
            "Requirement already satisfied: certifi>=2017.4.17 in /usr/local/lib/python3.12/dist-packages (from requests<3,>=2.32.5->langchain_community) (2025.8.3)\n",
            "Requirement already satisfied: greenlet>=1 in /usr/local/lib/python3.12/dist-packages (from SQLAlchemy<3,>=1.4->langchain_community) (3.2.4)\n",
            "Requirement already satisfied: anyio in /usr/local/lib/python3.12/dist-packages (from httpx<1,>=0.23.0->langsmith>=0.1.125->langchain_community) (4.10.0)\n",
            "Requirement already satisfied: httpcore==1.* in /usr/local/lib/python3.12/dist-packages (from httpx<1,>=0.23.0->langsmith>=0.1.125->langchain_community) (1.0.9)\n",
            "Requirement already satisfied: h11>=0.16 in /usr/local/lib/python3.12/dist-packages (from httpcore==1.*->httpx<1,>=0.23.0->langsmith>=0.1.125->langchain_community) (0.16.0)\n",
            "Requirement already satisfied: jsonpointer>=1.9 in /usr/local/lib/python3.12/dist-packages (from jsonpatch<2.0,>=1.33->langchain-core<2.0.0,>=0.3.75->langchain_community) (3.0.0)\n",
            "Requirement already satisfied: annotated-types>=0.6.0 in /usr/local/lib/python3.12/dist-packages (from pydantic<3.0.0,>=2.7.4->langchain<2.0.0,>=0.3.27->langchain_community) (0.7.0)\n",
            "Requirement already satisfied: pydantic-core==2.33.2 in /usr/local/lib/python3.12/dist-packages (from pydantic<3.0.0,>=2.7.4->langchain<2.0.0,>=0.3.27->langchain_community) (2.33.2)\n",
            "Collecting mypy-extensions>=0.3.0 (from typing-inspect<1,>=0.4.0->dataclasses-json<0.7,>=0.6.7->langchain_community)\n",
            "  Downloading mypy_extensions-1.1.0-py3-none-any.whl.metadata (1.1 kB)\n",
            "Requirement already satisfied: sniffio>=1.1 in /usr/local/lib/python3.12/dist-packages (from anyio->httpx<1,>=0.23.0->langsmith>=0.1.125->langchain_community) (1.3.1)\n",
            "Downloading langchain_community-0.3.29-py3-none-any.whl (2.5 MB)\n",
            "\u001b[2K   \u001b[90m━━━━━━━━━━━━━━━━━━━━━━━━━━━━━━━━━━━━━━━━\u001b[0m \u001b[32m2.5/2.5 MB\u001b[0m \u001b[31m45.7 MB/s\u001b[0m eta \u001b[36m0:00:00\u001b[0m\n",
            "\u001b[?25hDownloading dataclasses_json-0.6.7-py3-none-any.whl (28 kB)\n",
            "Downloading requests-2.32.5-py3-none-any.whl (64 kB)\n",
            "\u001b[2K   \u001b[90m━━━━━━━━━━━━━━━━━━━━━━━━━━━━━━━━━━━━━━━━\u001b[0m \u001b[32m64.7/64.7 kB\u001b[0m \u001b[31m5.8 MB/s\u001b[0m eta \u001b[36m0:00:00\u001b[0m\n",
            "\u001b[?25hDownloading marshmallow-3.26.1-py3-none-any.whl (50 kB)\n",
            "\u001b[2K   \u001b[90m━━━━━━━━━━━━━━━━━━━━━━━━━━━━━━━━━━━━━━━━\u001b[0m \u001b[32m50.9/50.9 kB\u001b[0m \u001b[31m4.9 MB/s\u001b[0m eta \u001b[36m0:00:00\u001b[0m\n",
            "\u001b[?25hDownloading typing_inspect-0.9.0-py3-none-any.whl (8.8 kB)\n",
            "Downloading mypy_extensions-1.1.0-py3-none-any.whl (5.0 kB)\n",
            "Installing collected packages: requests, mypy-extensions, marshmallow, typing-inspect, dataclasses-json, langchain_community\n",
            "  Attempting uninstall: requests\n",
            "    Found existing installation: requests 2.32.4\n",
            "    Uninstalling requests-2.32.4:\n",
            "      Successfully uninstalled requests-2.32.4\n",
            "\u001b[31mERROR: pip's dependency resolver does not currently take into account all the packages that are installed. This behaviour is the source of the following dependency conflicts.\n",
            "google-colab 1.0.0 requires requests==2.32.4, but you have requests 2.32.5 which is incompatible.\u001b[0m\u001b[31m\n",
            "\u001b[0mSuccessfully installed dataclasses-json-0.6.7 langchain_community-0.3.29 marshmallow-3.26.1 mypy-extensions-1.1.0 requests-2.32.5 typing-inspect-0.9.0\n"
          ]
        },
        {
          "output_type": "display_data",
          "data": {
            "application/vnd.colab-display-data+json": {
              "pip_warning": {
                "packages": [
                  "requests"
                ]
              },
              "id": "07e5e8e190e049449a3f640fe7fd1775"
            }
          },
          "metadata": {}
        }
      ]
    },
    {
      "cell_type": "code",
      "source": [
        "!pip install langchain-tavily"
      ],
      "metadata": {
        "colab": {
          "base_uri": "https://localhost:8080/"
        },
        "collapsed": true,
        "id": "NBHTJk5D6Toa",
        "outputId": "feaa00b5-d1b4-45ff-c989-325bd607ba4b"
      },
      "execution_count": 29,
      "outputs": [
        {
          "output_type": "stream",
          "name": "stdout",
          "text": [
            "Collecting langchain-tavily\n",
            "  Downloading langchain_tavily-0.2.11-py3-none-any.whl.metadata (22 kB)\n",
            "Requirement already satisfied: aiohttp<4.0.0,>=3.11.14 in /usr/local/lib/python3.12/dist-packages (from langchain-tavily) (3.12.15)\n",
            "Requirement already satisfied: langchain<0.4.0,>=0.3.20 in /usr/local/lib/python3.12/dist-packages (from langchain-tavily) (0.3.27)\n",
            "Requirement already satisfied: langchain-core<0.4.0,>=0.3.15 in /usr/local/lib/python3.12/dist-packages (from langchain-tavily) (0.3.76)\n",
            "Requirement already satisfied: requests<3.0.0,>=2.32.3 in /usr/local/lib/python3.12/dist-packages (from langchain-tavily) (2.32.5)\n",
            "Requirement already satisfied: aiohappyeyeballs>=2.5.0 in /usr/local/lib/python3.12/dist-packages (from aiohttp<4.0.0,>=3.11.14->langchain-tavily) (2.6.1)\n",
            "Requirement already satisfied: aiosignal>=1.4.0 in /usr/local/lib/python3.12/dist-packages (from aiohttp<4.0.0,>=3.11.14->langchain-tavily) (1.4.0)\n",
            "Requirement already satisfied: attrs>=17.3.0 in /usr/local/lib/python3.12/dist-packages (from aiohttp<4.0.0,>=3.11.14->langchain-tavily) (25.3.0)\n",
            "Requirement already satisfied: frozenlist>=1.1.1 in /usr/local/lib/python3.12/dist-packages (from aiohttp<4.0.0,>=3.11.14->langchain-tavily) (1.7.0)\n",
            "Requirement already satisfied: multidict<7.0,>=4.5 in /usr/local/lib/python3.12/dist-packages (from aiohttp<4.0.0,>=3.11.14->langchain-tavily) (6.6.4)\n",
            "Requirement already satisfied: propcache>=0.2.0 in /usr/local/lib/python3.12/dist-packages (from aiohttp<4.0.0,>=3.11.14->langchain-tavily) (0.3.2)\n",
            "Requirement already satisfied: yarl<2.0,>=1.17.0 in /usr/local/lib/python3.12/dist-packages (from aiohttp<4.0.0,>=3.11.14->langchain-tavily) (1.20.1)\n",
            "Requirement already satisfied: langchain-text-splitters<1.0.0,>=0.3.9 in /usr/local/lib/python3.12/dist-packages (from langchain<0.4.0,>=0.3.20->langchain-tavily) (0.3.11)\n",
            "Requirement already satisfied: langsmith>=0.1.17 in /usr/local/lib/python3.12/dist-packages (from langchain<0.4.0,>=0.3.20->langchain-tavily) (0.4.24)\n",
            "Requirement already satisfied: pydantic<3.0.0,>=2.7.4 in /usr/local/lib/python3.12/dist-packages (from langchain<0.4.0,>=0.3.20->langchain-tavily) (2.11.7)\n",
            "Requirement already satisfied: SQLAlchemy<3,>=1.4 in /usr/local/lib/python3.12/dist-packages (from langchain<0.4.0,>=0.3.20->langchain-tavily) (2.0.43)\n",
            "Requirement already satisfied: PyYAML>=5.3 in /usr/local/lib/python3.12/dist-packages (from langchain<0.4.0,>=0.3.20->langchain-tavily) (6.0.2)\n",
            "Requirement already satisfied: tenacity!=8.4.0,<10.0.0,>=8.1.0 in /usr/local/lib/python3.12/dist-packages (from langchain-core<0.4.0,>=0.3.15->langchain-tavily) (8.5.0)\n",
            "Requirement already satisfied: jsonpatch<2.0,>=1.33 in /usr/local/lib/python3.12/dist-packages (from langchain-core<0.4.0,>=0.3.15->langchain-tavily) (1.33)\n",
            "Requirement already satisfied: typing-extensions>=4.7 in /usr/local/lib/python3.12/dist-packages (from langchain-core<0.4.0,>=0.3.15->langchain-tavily) (4.15.0)\n",
            "Requirement already satisfied: packaging>=23.2 in /usr/local/lib/python3.12/dist-packages (from langchain-core<0.4.0,>=0.3.15->langchain-tavily) (25.0)\n",
            "Requirement already satisfied: charset_normalizer<4,>=2 in /usr/local/lib/python3.12/dist-packages (from requests<3.0.0,>=2.32.3->langchain-tavily) (3.4.3)\n",
            "Requirement already satisfied: idna<4,>=2.5 in /usr/local/lib/python3.12/dist-packages (from requests<3.0.0,>=2.32.3->langchain-tavily) (3.10)\n",
            "Requirement already satisfied: urllib3<3,>=1.21.1 in /usr/local/lib/python3.12/dist-packages (from requests<3.0.0,>=2.32.3->langchain-tavily) (2.5.0)\n",
            "Requirement already satisfied: certifi>=2017.4.17 in /usr/local/lib/python3.12/dist-packages (from requests<3.0.0,>=2.32.3->langchain-tavily) (2025.8.3)\n",
            "Requirement already satisfied: jsonpointer>=1.9 in /usr/local/lib/python3.12/dist-packages (from jsonpatch<2.0,>=1.33->langchain-core<0.4.0,>=0.3.15->langchain-tavily) (3.0.0)\n",
            "Requirement already satisfied: httpx<1,>=0.23.0 in /usr/local/lib/python3.12/dist-packages (from langsmith>=0.1.17->langchain<0.4.0,>=0.3.20->langchain-tavily) (0.28.1)\n",
            "Requirement already satisfied: orjson>=3.9.14 in /usr/local/lib/python3.12/dist-packages (from langsmith>=0.1.17->langchain<0.4.0,>=0.3.20->langchain-tavily) (3.11.3)\n",
            "Requirement already satisfied: requests-toolbelt>=1.0.0 in /usr/local/lib/python3.12/dist-packages (from langsmith>=0.1.17->langchain<0.4.0,>=0.3.20->langchain-tavily) (1.0.0)\n",
            "Requirement already satisfied: zstandard>=0.23.0 in /usr/local/lib/python3.12/dist-packages (from langsmith>=0.1.17->langchain<0.4.0,>=0.3.20->langchain-tavily) (0.24.0)\n",
            "Requirement already satisfied: annotated-types>=0.6.0 in /usr/local/lib/python3.12/dist-packages (from pydantic<3.0.0,>=2.7.4->langchain<0.4.0,>=0.3.20->langchain-tavily) (0.7.0)\n",
            "Requirement already satisfied: pydantic-core==2.33.2 in /usr/local/lib/python3.12/dist-packages (from pydantic<3.0.0,>=2.7.4->langchain<0.4.0,>=0.3.20->langchain-tavily) (2.33.2)\n",
            "Requirement already satisfied: typing-inspection>=0.4.0 in /usr/local/lib/python3.12/dist-packages (from pydantic<3.0.0,>=2.7.4->langchain<0.4.0,>=0.3.20->langchain-tavily) (0.4.1)\n",
            "Requirement already satisfied: greenlet>=1 in /usr/local/lib/python3.12/dist-packages (from SQLAlchemy<3,>=1.4->langchain<0.4.0,>=0.3.20->langchain-tavily) (3.2.4)\n",
            "Requirement already satisfied: anyio in /usr/local/lib/python3.12/dist-packages (from httpx<1,>=0.23.0->langsmith>=0.1.17->langchain<0.4.0,>=0.3.20->langchain-tavily) (4.10.0)\n",
            "Requirement already satisfied: httpcore==1.* in /usr/local/lib/python3.12/dist-packages (from httpx<1,>=0.23.0->langsmith>=0.1.17->langchain<0.4.0,>=0.3.20->langchain-tavily) (1.0.9)\n",
            "Requirement already satisfied: h11>=0.16 in /usr/local/lib/python3.12/dist-packages (from httpcore==1.*->httpx<1,>=0.23.0->langsmith>=0.1.17->langchain<0.4.0,>=0.3.20->langchain-tavily) (0.16.0)\n",
            "Requirement already satisfied: sniffio>=1.1 in /usr/local/lib/python3.12/dist-packages (from anyio->httpx<1,>=0.23.0->langsmith>=0.1.17->langchain<0.4.0,>=0.3.20->langchain-tavily) (1.3.1)\n",
            "Downloading langchain_tavily-0.2.11-py3-none-any.whl (26 kB)\n",
            "Installing collected packages: langchain-tavily\n",
            "Successfully installed langchain-tavily-0.2.11\n"
          ]
        }
      ]
    },
    {
      "cell_type": "code",
      "source": [
        "from langchain_tavily import TavilySearch\n",
        "\n",
        "tavily_tool = TavilySearch(max_results=5)"
      ],
      "metadata": {
        "id": "rFoSGTFA6cEU"
      },
      "execution_count": 30,
      "outputs": []
    },
    {
      "cell_type": "markdown",
      "source": [
        "### 1. 필요한 데이터 클래스 정의\n",
        "\n",
        "- Reflection - 놓친것 / 불필요한 것"
      ],
      "metadata": {
        "id": "Xs5UeO976dsB"
      }
    },
    {
      "cell_type": "code",
      "source": [
        "from langchain_core.messages import HumanMessage, ToolMessage\n",
        "from langchain_core.prompts import ChatPromptTemplate, MessagesPlaceholder\n",
        "from pydantic import BaseModel, Field\n",
        "\n",
        "class Reflection(BaseModel):\n",
        "    missing: str = Field(description=\"누락되거나 부족한 부분에 대한 비평\")\n",
        "    superfluous: str = Field(description=\"불필요한 부분에 대한 비평\")"
      ],
      "metadata": {
        "id": "ADmdIQMu6fiB"
      },
      "execution_count": 32,
      "outputs": []
    },
    {
      "cell_type": "markdown",
      "source": [
        "- AnswerQuestion - 답변 / 답변에 대한 반성 / 개선하기 위한 검색 쿼리"
      ],
      "metadata": {
        "id": "brIy843i6hcm"
      }
    },
    {
      "cell_type": "code",
      "source": [
        "class AnswerQuestion(BaseModel):\n",
        "    answer: str = Field(description=\"질문에 대한 10문장 이내의 자세한 답변\")\n",
        "    search_queries: list[str] = Field(\n",
        "        description=\"현재 답변에 대한 비평을 해결하기 위한 추가 조사를 위한 1~3개의 웹 검색 쿼리\"\n",
        "    )\n",
        "    reflection: Reflection = Field(description=\"답변에 대한 자기반성 내용\")"
      ],
      "metadata": {
        "id": "DkyB6zTJ6kAV"
      },
      "execution_count": 33,
      "outputs": []
    },
    {
      "cell_type": "markdown",
      "source": [
        "- Responder - 구조화된 출력을 위한 답변기"
      ],
      "metadata": {
        "id": "2yXhmILr6mVN"
      }
    },
    {
      "cell_type": "code",
      "source": [
        "class Responder:\n",
        "    def __init__(self, runnable):\n",
        "        self.runnable = runnable # Chain\n",
        "\n",
        "    def respond(self, state: dict):\n",
        "        response = self.runnable.invoke(\n",
        "            {\"messages\": state[\"messages\"]}\n",
        "        )\n",
        "        return {\"messages\": response}"
      ],
      "metadata": {
        "id": "BSQdHD_p6nzC"
      },
      "execution_count": 34,
      "outputs": []
    },
    {
      "cell_type": "markdown",
      "source": [
        "### 2. 초기 답변기 만들기 (Initial responder)\n",
        "\n",
        "- 초기 답변을 위한 Chain 생성 -출력 스키마를 도구로 사용"
      ],
      "metadata": {
        "id": "-nbHXEKB6prB"
      }
    },
    {
      "cell_type": "code",
      "source": [
        "import datetime\n",
        "\n",
        "actor_prompt_template = ChatPromptTemplate.from_messages(\n",
        "    [\n",
        "        (\n",
        "            \"system\",\n",
        "            \"\"\"당신은 전문 연구자입니다.\n",
        "\n",
        "            1. {first_instruction}\n",
        "            2. <Reflect> 생성한 답변을 다시 되돌아보고 개선할 수 있도록 비판하세요.\n",
        "            3. <Recommend search queries> 답변의 질을 높이기 위해 추가적으로 조사해야 할 정보에 대한 웹 검색 쿼리를 추천하세요.\"\"\",\n",
        "        ),\n",
        "        MessagesPlaceholder(variable_name=\"messages\"),\n",
        "        (\n",
        "            \"user\",\n",
        "            \"\\n\\n<Reflect> 사용자 원래 질문과 지금까지의 행동을 되돌아보세요.\"\n",
        "        ),\n",
        "    ]\n",
        ")\n",
        "\n",
        "initial_answer_chain = actor_prompt_template.partial(\n",
        "    first_instruction=\"질문에 대한 10문장 이내의 자세한 답변을 제공해주세요.\", # 초기 답변\n",
        ") | llm.bind_tools(tools=[AnswerQuestion], tool_choice=\"any\")"
      ],
      "metadata": {
        "id": "mfrZqWDn6tJr"
      },
      "execution_count": 35,
      "outputs": []
    },
    {
      "cell_type": "markdown",
      "source": [
        "- [구조화 출력을 위해 스키마를 도구로 사용하는 방법](https://python.langchain.com/docs/concepts/structured_outputs/#using-tool-calling)"
      ],
      "metadata": {
        "id": "gOLK5h8Q-EGY"
      }
    },
    {
      "cell_type": "code",
      "source": [
        "llm_with_tool = llm.bind_tools(tools=[AnswerQuestion], tool_choice=\"any\")\n",
        "response = llm_with_tool.invoke([HumanMessage(content=\"AI Agent가 무엇인가요?\")])\n",
        "print(response)"
      ],
      "metadata": {
        "colab": {
          "base_uri": "https://localhost:8080/"
        },
        "id": "MN0qXhED-Htf",
        "outputId": "2cb75b05-c3a1-46c8-c1b1-26575966e010"
      },
      "execution_count": 36,
      "outputs": [
        {
          "output_type": "stream",
          "name": "stdout",
          "text": [
            "content='' additional_kwargs={'tool_calls': [{'id': 'call_S9IyPfKrJpVlQnhDjsiuwcAn', 'function': {'arguments': '{\"answer\":\"AI 에이전트는 특정 목표를 달성하기 위해 환경을 감지하고 판단한 뒤 행동을 선택하고 실행하는 소프트웨어 시스템이나 로봇을 말합니다. 일반적으로 입력(센서, 데이터)을 받아 상태를 이해하고, 목표를 달성하기 위한 계획을 세운 뒤, 적절한 행동(명령 실행, 데이터 처리, API 호출)을 수행합니다. 에이전트는 자율성, 학습 능력, 상호작용 정도에 따라 단순 반응형에서 고도 의사결정 시스템까지 다양합니다. 예를 들어 로봇 청소기는 방의 지도를 만들고 먼지 제거를 최적화하는 에이전트이고, 챗봇은 사용자의 의도에 맞춰 대답을 선택하는 대화 에이전트입니다. 또한 실행 환경이 바뀔 때도 적응하도록 설계될 수 있습니다. 유형으로는 심층 강화학습을 사용하는 학습 에이전트, 계획 기반 에이전트, 규칙 기반 에이전트 등이 있습니다. 핵심 구성은 감지(센서), 의사결정(정책/플래너), 행동(실행 모듈)로 요약할 수 있습니다.\",\"search_queries\":[\"AI 에이전트 정의 예시\",\"에이전트와 프로그램의 차이\",\"자율 에이전트 예시 로봇\"],\"reflection\":{\"missing\":\"실무 맥락의 예시와 안전/윤리 고려, 간단한 계층 아키텍처 다이어그램에 대한 언급이 보강되면 좋습니다.\",\"superfluous\":\"현재 설명은 초보자 이해에 충분하지만 아주 깊은 이론적 수학이나 고급 구현 세부는 필요 없거나 보강될 수 있습니다.\"}}', 'name': 'AnswerQuestion'}, 'type': 'function'}], 'refusal': None} response_metadata={'token_usage': {'completion_tokens': 2068, 'prompt_tokens': 208, 'total_tokens': 2276, 'completion_tokens_details': {'accepted_prediction_tokens': 0, 'audio_tokens': 0, 'reasoning_tokens': 1664, 'rejected_prediction_tokens': 0}, 'prompt_tokens_details': {'audio_tokens': 0, 'cached_tokens': 0}}, 'model_name': 'gpt-5-nano-2025-08-07', 'system_fingerprint': None, 'id': 'chatcmpl-CFsEvvIHjzGNJL2zqM36ckcWoDKwM', 'service_tier': 'default', 'finish_reason': 'tool_calls', 'logprobs': None} id='run--44ba757f-db1d-4a0c-a299-2f2f36b3f39b-0' tool_calls=[{'name': 'AnswerQuestion', 'args': {'answer': 'AI 에이전트는 특정 목표를 달성하기 위해 환경을 감지하고 판단한 뒤 행동을 선택하고 실행하는 소프트웨어 시스템이나 로봇을 말합니다. 일반적으로 입력(센서, 데이터)을 받아 상태를 이해하고, 목표를 달성하기 위한 계획을 세운 뒤, 적절한 행동(명령 실행, 데이터 처리, API 호출)을 수행합니다. 에이전트는 자율성, 학습 능력, 상호작용 정도에 따라 단순 반응형에서 고도 의사결정 시스템까지 다양합니다. 예를 들어 로봇 청소기는 방의 지도를 만들고 먼지 제거를 최적화하는 에이전트이고, 챗봇은 사용자의 의도에 맞춰 대답을 선택하는 대화 에이전트입니다. 또한 실행 환경이 바뀔 때도 적응하도록 설계될 수 있습니다. 유형으로는 심층 강화학습을 사용하는 학습 에이전트, 계획 기반 에이전트, 규칙 기반 에이전트 등이 있습니다. 핵심 구성은 감지(센서), 의사결정(정책/플래너), 행동(실행 모듈)로 요약할 수 있습니다.', 'search_queries': ['AI 에이전트 정의 예시', '에이전트와 프로그램의 차이', '자율 에이전트 예시 로봇'], 'reflection': {'missing': '실무 맥락의 예시와 안전/윤리 고려, 간단한 계층 아키텍처 다이어그램에 대한 언급이 보강되면 좋습니다.', 'superfluous': '현재 설명은 초보자 이해에 충분하지만 아주 깊은 이론적 수학이나 고급 구현 세부는 필요 없거나 보강될 수 있습니다.'}}, 'id': 'call_S9IyPfKrJpVlQnhDjsiuwcAn', 'type': 'tool_call'}] usage_metadata={'input_tokens': 208, 'output_tokens': 2068, 'total_tokens': 2276, 'input_token_details': {'audio': 0, 'cache_read': 0}, 'output_token_details': {'audio': 0, 'reasoning': 1664}}\n"
          ]
        }
      ]
    },
    {
      "cell_type": "code",
      "source": [
        "response.tool_calls[0]['args']"
      ],
      "metadata": {
        "colab": {
          "base_uri": "https://localhost:8080/"
        },
        "id": "AF0G0dST-I2m",
        "outputId": "fc32abe7-99cd-48d1-df3f-8ac99cb6fe33"
      },
      "execution_count": 37,
      "outputs": [
        {
          "output_type": "execute_result",
          "data": {
            "text/plain": [
              "{'answer': 'AI 에이전트는 특정 목표를 달성하기 위해 환경을 감지하고 판단한 뒤 행동을 선택하고 실행하는 소프트웨어 시스템이나 로봇을 말합니다. 일반적으로 입력(센서, 데이터)을 받아 상태를 이해하고, 목표를 달성하기 위한 계획을 세운 뒤, 적절한 행동(명령 실행, 데이터 처리, API 호출)을 수행합니다. 에이전트는 자율성, 학습 능력, 상호작용 정도에 따라 단순 반응형에서 고도 의사결정 시스템까지 다양합니다. 예를 들어 로봇 청소기는 방의 지도를 만들고 먼지 제거를 최적화하는 에이전트이고, 챗봇은 사용자의 의도에 맞춰 대답을 선택하는 대화 에이전트입니다. 또한 실행 환경이 바뀔 때도 적응하도록 설계될 수 있습니다. 유형으로는 심층 강화학습을 사용하는 학습 에이전트, 계획 기반 에이전트, 규칙 기반 에이전트 등이 있습니다. 핵심 구성은 감지(센서), 의사결정(정책/플래너), 행동(실행 모듈)로 요약할 수 있습니다.',\n",
              " 'search_queries': ['AI 에이전트 정의 예시', '에이전트와 프로그램의 차이', '자율 에이전트 예시 로봇'],\n",
              " 'reflection': {'missing': '실무 맥락의 예시와 안전/윤리 고려, 간단한 계층 아키텍처 다이어그램에 대한 언급이 보강되면 좋습니다.',\n",
              "  'superfluous': '현재 설명은 초보자 이해에 충분하지만 아주 깊은 이론적 수학이나 고급 구현 세부는 필요 없거나 보강될 수 있습니다.'}}"
            ]
          },
          "metadata": {},
          "execution_count": 37
        }
      ]
    },
    {
      "cell_type": "code",
      "source": [
        "first_responder = Responder(runnable=initial_answer_chain)"
      ],
      "metadata": {
        "id": "Mvq-1U0X-KNb"
      },
      "execution_count": 38,
      "outputs": []
    },
    {
      "cell_type": "code",
      "source": [
        "example_question = \"AI Agent가 무엇인가요?\"\n",
        "initial = first_responder.respond(\n",
        "    {\"messages\": [HumanMessage(content=example_question)]}\n",
        ")"
      ],
      "metadata": {
        "id": "iDZ5UxP0-NbF"
      },
      "execution_count": 39,
      "outputs": []
    },
    {
      "cell_type": "code",
      "source": [
        "initial"
      ],
      "metadata": {
        "colab": {
          "base_uri": "https://localhost:8080/"
        },
        "id": "qcXEfD-3-OlY",
        "outputId": "5d0fb652-fe45-425c-8834-459883e1da54"
      },
      "execution_count": 40,
      "outputs": [
        {
          "output_type": "execute_result",
          "data": {
            "text/plain": [
              "{'messages': AIMessage(content='', additional_kwargs={'tool_calls': [{'id': 'call_qRHHAcsryXtNTBoNIfvsd8lX', 'function': {'arguments': '{\"answer\":\"AI Agent(인공지능 에이전트)는 특정 목표를 달성하기 위해 독립적으로 판단하고 행동하는 소프트웨어 구성요소 또는 시스템을 말합니다. 보통 입력을 받아 환경의 상태를 이해하고, 그 상태에 기반해 의사결정을 내리며, 특정 행동을 실행합니다. 에이전트는 주어진 목표와 약속된 제약 내에서 작동하며, 일부는 학습 capacity가 있어 경험으로 정책을 개선합니다. 예를 들어 스마트홈의 온도 조정 시스템, 자동화된 챗봇, 자율주행차의 의사결정 모듈 등이 에이전트의 예시일 수 있습니다. 오늘날의 AI 에이전트는 크게 반응형(현 상태만 보는)부터 계획형(장기 목표를 세워 단계적으로 실행)까지 다양합니다. 주된 차이는 목표 정의 방식, 환경에 대한 관찰 능력, 결정을 내리는 알고리즘의 복잡도, 그리고 피드백으로 정책을 업데이트하는 여부입니다. 간단히 말해 에이전트는 \\'무엇을 원하는가\\'를 정의하고, \\'그 결과를 얻기 위해 무엇을 할 것인가\\'를 스스로 결정합니다. 사용 사례에 따라 인간과의 협업형 에이전트, 완전 자동화 에이전트, 또는 혼합형 시스템으로 분류됩니다. 이 개념은 인공지능의 더 큰 분야인 에이전트 기반 시스템, 강화학습, 자동화와 밀접하게 연결됩니다. 필요하시면 구체적인 사례를 더 설명하겠습니다.\",\"search_queries\":[\"AI 에이전트 정의 구성요소 관찰-판단-행동 루프\",\"에이전트 기반 시스템과 강화학습의 차이 비교\",\"실무에서의 AI 에이전트 사례와 적용 분야\"],\"reflection\":{\"missing\":\"좀 더 구체적으로 관찰-판단-행동 루프, 상태 관리, 자율성 수준, 학습 여부에 대한 분류를 보강하면 좋습니다.\",\"superfluous\":\"기술적 세부사항(모델 아키텍처, 파라미터 수)이나 윤리적 이슈 같은 주제는 이 기본 정의에서 제외하는 편이 좋습니다.\"}}', 'name': 'AnswerQuestion'}, 'type': 'function'}], 'refusal': None}, response_metadata={'token_usage': {'completion_tokens': 4347, 'prompt_tokens': 325, 'total_tokens': 4672, 'completion_tokens_details': {'accepted_prediction_tokens': 0, 'audio_tokens': 0, 'reasoning_tokens': 3840, 'rejected_prediction_tokens': 0}, 'prompt_tokens_details': {'audio_tokens': 0, 'cached_tokens': 0}}, 'model_name': 'gpt-5-nano-2025-08-07', 'system_fingerprint': None, 'id': 'chatcmpl-CFsGAZqwVjSRM1tzxFUaFRBGedD6Q', 'service_tier': 'default', 'finish_reason': 'tool_calls', 'logprobs': None}, id='run--778e5fa7-595e-4f69-9552-4f678ad75c5a-0', tool_calls=[{'name': 'AnswerQuestion', 'args': {'answer': \"AI Agent(인공지능 에이전트)는 특정 목표를 달성하기 위해 독립적으로 판단하고 행동하는 소프트웨어 구성요소 또는 시스템을 말합니다. 보통 입력을 받아 환경의 상태를 이해하고, 그 상태에 기반해 의사결정을 내리며, 특정 행동을 실행합니다. 에이전트는 주어진 목표와 약속된 제약 내에서 작동하며, 일부는 학습 capacity가 있어 경험으로 정책을 개선합니다. 예를 들어 스마트홈의 온도 조정 시스템, 자동화된 챗봇, 자율주행차의 의사결정 모듈 등이 에이전트의 예시일 수 있습니다. 오늘날의 AI 에이전트는 크게 반응형(현 상태만 보는)부터 계획형(장기 목표를 세워 단계적으로 실행)까지 다양합니다. 주된 차이는 목표 정의 방식, 환경에 대한 관찰 능력, 결정을 내리는 알고리즘의 복잡도, 그리고 피드백으로 정책을 업데이트하는 여부입니다. 간단히 말해 에이전트는 '무엇을 원하는가'를 정의하고, '그 결과를 얻기 위해 무엇을 할 것인가'를 스스로 결정합니다. 사용 사례에 따라 인간과의 협업형 에이전트, 완전 자동화 에이전트, 또는 혼합형 시스템으로 분류됩니다. 이 개념은 인공지능의 더 큰 분야인 에이전트 기반 시스템, 강화학습, 자동화와 밀접하게 연결됩니다. 필요하시면 구체적인 사례를 더 설명하겠습니다.\", 'search_queries': ['AI 에이전트 정의 구성요소 관찰-판단-행동 루프', '에이전트 기반 시스템과 강화학습의 차이 비교', '실무에서의 AI 에이전트 사례와 적용 분야'], 'reflection': {'missing': '좀 더 구체적으로 관찰-판단-행동 루프, 상태 관리, 자율성 수준, 학습 여부에 대한 분류를 보강하면 좋습니다.', 'superfluous': '기술적 세부사항(모델 아키텍처, 파라미터 수)이나 윤리적 이슈 같은 주제는 이 기본 정의에서 제외하는 편이 좋습니다.'}}, 'id': 'call_qRHHAcsryXtNTBoNIfvsd8lX', 'type': 'tool_call'}], usage_metadata={'input_tokens': 325, 'output_tokens': 4347, 'total_tokens': 4672, 'input_token_details': {'audio': 0, 'cache_read': 0}, 'output_token_details': {'audio': 0, 'reasoning': 3840}})}"
            ]
          },
          "metadata": {},
          "execution_count": 40
        }
      ]
    },
    {
      "cell_type": "markdown",
      "source": [
        "- tool 호출 결과 확인 (AnswerQuestion 에 맞춰 출력 생성)"
      ],
      "metadata": {
        "id": "74l-Lken-l96"
      }
    },
    {
      "cell_type": "code",
      "source": [
        "initial[\"messages\"].tool_calls[0][\"args\"]"
      ],
      "metadata": {
        "colab": {
          "base_uri": "https://localhost:8080/"
        },
        "id": "opelku30-nWL",
        "outputId": "9010d45e-a94b-4351-a6c0-085fa9076f9b"
      },
      "execution_count": 41,
      "outputs": [
        {
          "output_type": "execute_result",
          "data": {
            "text/plain": [
              "{'answer': \"AI Agent(인공지능 에이전트)는 특정 목표를 달성하기 위해 독립적으로 판단하고 행동하는 소프트웨어 구성요소 또는 시스템을 말합니다. 보통 입력을 받아 환경의 상태를 이해하고, 그 상태에 기반해 의사결정을 내리며, 특정 행동을 실행합니다. 에이전트는 주어진 목표와 약속된 제약 내에서 작동하며, 일부는 학습 capacity가 있어 경험으로 정책을 개선합니다. 예를 들어 스마트홈의 온도 조정 시스템, 자동화된 챗봇, 자율주행차의 의사결정 모듈 등이 에이전트의 예시일 수 있습니다. 오늘날의 AI 에이전트는 크게 반응형(현 상태만 보는)부터 계획형(장기 목표를 세워 단계적으로 실행)까지 다양합니다. 주된 차이는 목표 정의 방식, 환경에 대한 관찰 능력, 결정을 내리는 알고리즘의 복잡도, 그리고 피드백으로 정책을 업데이트하는 여부입니다. 간단히 말해 에이전트는 '무엇을 원하는가'를 정의하고, '그 결과를 얻기 위해 무엇을 할 것인가'를 스스로 결정합니다. 사용 사례에 따라 인간과의 협업형 에이전트, 완전 자동화 에이전트, 또는 혼합형 시스템으로 분류됩니다. 이 개념은 인공지능의 더 큰 분야인 에이전트 기반 시스템, 강화학습, 자동화와 밀접하게 연결됩니다. 필요하시면 구체적인 사례를 더 설명하겠습니다.\",\n",
              " 'search_queries': ['AI 에이전트 정의 구성요소 관찰-판단-행동 루프',\n",
              "  '에이전트 기반 시스템과 강화학습의 차이 비교',\n",
              "  '실무에서의 AI 에이전트 사례와 적용 분야'],\n",
              " 'reflection': {'missing': '좀 더 구체적으로 관찰-판단-행동 루프, 상태 관리, 자율성 수준, 학습 여부에 대한 분류를 보강하면 좋습니다.',\n",
              "  'superfluous': '기술적 세부사항(모델 아키텍처, 파라미터 수)이나 윤리적 이슈 같은 주제는 이 기본 정의에서 제외하는 편이 좋습니다.'}}"
            ]
          },
          "metadata": {},
          "execution_count": 41
        }
      ]
    },
    {
      "cell_type": "markdown",
      "source": [
        "### 3. 수정 단계(Revision)"
      ],
      "metadata": {
        "id": "4RB5m4lO-otX"
      }
    },
    {
      "cell_type": "code",
      "source": [
        "class ReviseAnswer(AnswerQuestion):\n",
        "    # 답변 > 반성 > 근거 인용 > 검색 제안\n",
        "    \"\"\"Revise your original answer to your question. Provide an answer, reflection,\n",
        "\n",
        "    cite your reflection with references, and finally\n",
        "    add search queries to improve the answer.\"\"\"\n",
        "\n",
        "    references: list[str] = Field(\n",
        "        description=\"업데이트된 답변에 사용된 인용 출처\"\n",
        "    )"
      ],
      "metadata": {
        "id": "3H7jC0dv-qMI"
      },
      "execution_count": 43,
      "outputs": []
    },
    {
      "cell_type": "code",
      "source": [
        "revise_instructions = \"\"\"이전 답변을 새로운 정보를 바탕으로 수정하세요.\n",
        "- 이전 비평 내용을 활용해 중요한 정보를 추가해야 합니다.\n",
        "  - 수정된 답변에는 반드시 숫자로 된 인용 표시를 포함하여 검증 가능하도록 해야 합니다.\n",
        "  - 답변 하단에 \"참고문헌\" 섹션을 추가하세요 (이 부분은 단어 수 제한에 포함되지 않습니다). 형식은 다음과 같습니다:\n",
        "    - [1] https://example.com\n",
        "    - [2] https://example.com\n",
        "\n",
        "- 이전 비평 내용을 바탕으로 불필요한 정보를 제거하고, 최종 답변은 반드시 200자를 넘지 않도록 하세요.\n",
        "\"\"\"\n",
        "\n",
        "\n",
        "revision_chain = actor_prompt_template.partial(\n",
        "    first_instruction=revise_instructions,\n",
        ") | llm.bind_tools(tools=[ReviseAnswer], tool_choice=\"any\")\n",
        "\n",
        "\n",
        "revisor = Responder(runnable=revision_chain)"
      ],
      "metadata": {
        "id": "jhSomq78-rP4"
      },
      "execution_count": 46,
      "outputs": []
    },
    {
      "cell_type": "markdown",
      "source": [
        "- 초기답변에서 생성한 웹검색 쿼리를 Tool 실행한 결과를 함께 입력"
      ],
      "metadata": {
        "id": "1mUtuZPE-s-v"
      }
    },
    {
      "cell_type": "code",
      "source": [
        "import json\n",
        "\n",
        "revised = revisor.respond(\n",
        "    {\n",
        "        \"messages\": [\n",
        "            HumanMessage(content=example_question),\n",
        "            initial[\"messages\"],\n",
        "            ToolMessage(\n",
        "                tool_call_id=initial['messages'].additional_kwargs['tool_calls'][0]['id'],\n",
        "                content=json.dumps(\n",
        "                    tavily_tool.invoke(\n",
        "                        {\n",
        "                            \"query\": initial[\"messages\"].tool_calls[0][\"args\"]['search_queries'][0]\n",
        "                        }\n",
        "                    )\n",
        "                ),\n",
        "            ),\n",
        "        ]\n",
        "    }\n",
        ")"
      ],
      "metadata": {
        "id": "78iUlNhs-uFS"
      },
      "execution_count": 47,
      "outputs": []
    },
    {
      "cell_type": "markdown",
      "source": [
        "<img src=\"https://blog.kakaocdn.net/dna/bk9H1l/btsQzJzpfvC/AAAAAAAAAAAAAAAAAAAAACJKpwEAA8XFASLM3eNktiwFHoYdWKTyU6DOvuweWB3S/img.png?credential=yqXZFxpELC7KVnFOS48ylbz2pIh7yKj8&expires=1759244399&allow_ip=&allow_referer=&signature=9c%2BBXwbClSPdn8Pra4HPaL4KLqw%3D\" width=800>"
      ],
      "metadata": {
        "id": "BycSglY2-v0e"
      }
    },
    {
      "cell_type": "code",
      "source": [
        "revised[\"messages\"]"
      ],
      "metadata": {
        "colab": {
          "base_uri": "https://localhost:8080/"
        },
        "id": "qZaKkagD-zvS",
        "outputId": "7e59830d-775c-4344-c953-cfac596050f9"
      },
      "execution_count": 48,
      "outputs": [
        {
          "output_type": "execute_result",
          "data": {
            "text/plain": [
              "AIMessage(content='', additional_kwargs={'tool_calls': [{'id': 'call_IDorpVb8I5zzIZbZ8XKTvIW7', 'function': {'arguments': '{\"answer\":\"AI 에이전트는 목표 달성을 위해 관찰-판단-행동 루프를 독립적으로 수행하는 소프트웨어 구성요소입니다. 입력 정보를 해석하고 의사결정을 내려 행동을 실행합니다. 자율성 수준과 학습 여부에 따라 반응형에서 계획형까지 다양합니다. [1] [2]\",\"search_queries\":[\"AI 에이전트 정의 구성요소 관찰-판단-행동 루프\",\"에이전트 기반 시스템과 강화학습의 차이 비교\",\"실무에서의 AI 에이전트 사례와 적용 분야\"],\"reflection\":{\"missing\":\"좀 더 구체적으로 관찰-판단-행동 루프, 상태 관리, 자율성 수준, 학습 여부에 대한 분류를 보강하면 좋습니다.\",\"superfluous\":\"기술적 세부사항(모델 아키텍처, 파라미터 수)이나 윤리적 이슈 같은 주제는 이 기본 정의에서 제외하는 편이 좋습니다.\"},\"references\":[\"https://cloud.google.com/discover/what-are-ai-agents?hl=ko\",\"https://www.automationanywhere.com/kr/company/blog/automation-ai/exploring-ai-agents-types-capabilities-and-real-world-applications\"]}', 'name': 'ReviseAnswer'}, 'type': 'function'}], 'refusal': None}, response_metadata={'token_usage': {'completion_tokens': 3043, 'prompt_tokens': 3930, 'total_tokens': 6973, 'completion_tokens_details': {'accepted_prediction_tokens': 0, 'audio_tokens': 0, 'reasoning_tokens': 2752, 'rejected_prediction_tokens': 0}, 'prompt_tokens_details': {'audio_tokens': 0, 'cached_tokens': 0}}, 'model_name': 'gpt-5-nano-2025-08-07', 'system_fingerprint': None, 'id': 'chatcmpl-CFsOzMUfw9tdF2DQd2pgBSnuR3TL4', 'service_tier': 'default', 'finish_reason': 'tool_calls', 'logprobs': None}, id='run--d9e04de2-4f4e-42f5-b50c-766fb9fb72da-0', tool_calls=[{'name': 'ReviseAnswer', 'args': {'answer': 'AI 에이전트는 목표 달성을 위해 관찰-판단-행동 루프를 독립적으로 수행하는 소프트웨어 구성요소입니다. 입력 정보를 해석하고 의사결정을 내려 행동을 실행합니다. 자율성 수준과 학습 여부에 따라 반응형에서 계획형까지 다양합니다. [1] [2]', 'search_queries': ['AI 에이전트 정의 구성요소 관찰-판단-행동 루프', '에이전트 기반 시스템과 강화학습의 차이 비교', '실무에서의 AI 에이전트 사례와 적용 분야'], 'reflection': {'missing': '좀 더 구체적으로 관찰-판단-행동 루프, 상태 관리, 자율성 수준, 학습 여부에 대한 분류를 보강하면 좋습니다.', 'superfluous': '기술적 세부사항(모델 아키텍처, 파라미터 수)이나 윤리적 이슈 같은 주제는 이 기본 정의에서 제외하는 편이 좋습니다.'}, 'references': ['https://cloud.google.com/discover/what-are-ai-agents?hl=ko', 'https://www.automationanywhere.com/kr/company/blog/automation-ai/exploring-ai-agents-types-capabilities-and-real-world-applications']}, 'id': 'call_IDorpVb8I5zzIZbZ8XKTvIW7', 'type': 'tool_call'}], usage_metadata={'input_tokens': 3930, 'output_tokens': 3043, 'total_tokens': 6973, 'input_token_details': {'audio': 0, 'cache_read': 0}, 'output_token_details': {'audio': 0, 'reasoning': 2752}})"
            ]
          },
          "metadata": {},
          "execution_count": 48
        }
      ]
    },
    {
      "cell_type": "code",
      "source": [
        "revised[\"messages\"].tool_calls"
      ],
      "metadata": {
        "colab": {
          "base_uri": "https://localhost:8080/"
        },
        "id": "Md-XcTP8-1Zb",
        "outputId": "c6cb6ae7-5781-48bb-953a-58e3c250c237"
      },
      "execution_count": 49,
      "outputs": [
        {
          "output_type": "execute_result",
          "data": {
            "text/plain": [
              "[{'name': 'ReviseAnswer',\n",
              "  'args': {'answer': 'AI 에이전트는 목표 달성을 위해 관찰-판단-행동 루프를 독립적으로 수행하는 소프트웨어 구성요소입니다. 입력 정보를 해석하고 의사결정을 내려 행동을 실행합니다. 자율성 수준과 학습 여부에 따라 반응형에서 계획형까지 다양합니다. [1] [2]',\n",
              "   'search_queries': ['AI 에이전트 정의 구성요소 관찰-판단-행동 루프',\n",
              "    '에이전트 기반 시스템과 강화학습의 차이 비교',\n",
              "    '실무에서의 AI 에이전트 사례와 적용 분야'],\n",
              "   'reflection': {'missing': '좀 더 구체적으로 관찰-판단-행동 루프, 상태 관리, 자율성 수준, 학습 여부에 대한 분류를 보강하면 좋습니다.',\n",
              "    'superfluous': '기술적 세부사항(모델 아키텍처, 파라미터 수)이나 윤리적 이슈 같은 주제는 이 기본 정의에서 제외하는 편이 좋습니다.'},\n",
              "   'references': ['https://cloud.google.com/discover/what-are-ai-agents?hl=ko',\n",
              "    'https://www.automationanywhere.com/kr/company/blog/automation-ai/exploring-ai-agents-types-capabilities-and-real-world-applications']},\n",
              "  'id': 'call_IDorpVb8I5zzIZbZ8XKTvIW7',\n",
              "  'type': 'tool_call'}]"
            ]
          },
          "metadata": {},
          "execution_count": 49
        }
      ]
    },
    {
      "cell_type": "markdown",
      "source": [
        "### 4. 웹검색을 위한 툴 노드 생성"
      ],
      "metadata": {
        "id": "e8TqkSNSBGzH"
      }
    },
    {
      "cell_type": "code",
      "source": [
        "tavily_tool.batch(\n",
        "    [\n",
        "        {\"query\": initial[\"messages\"].tool_calls[0][\"args\"]['search_queries'][0]}\n",
        "    ]\n",
        ")"
      ],
      "metadata": {
        "colab": {
          "base_uri": "https://localhost:8080/"
        },
        "id": "ZWm-PIgKBIp7",
        "outputId": "8be07c76-6c64-4b7d-cdc7-2a7d87aad309"
      },
      "execution_count": 50,
      "outputs": [
        {
          "output_type": "execute_result",
          "data": {
            "text/plain": [
              "[{'query': 'AI 에이전트 정의 구성요소 관찰-판단-행동 루프',\n",
              "  'follow_up_questions': None,\n",
              "  'answer': None,\n",
              "  'images': [],\n",
              "  'results': [{'url': 'https://aiheroes.ai/community/300',\n",
              "    'title': 'AI 에이전트는 어떻게 작동할까? 에이전트 워크플로우 완벽 이해하기',\n",
              "    'content': \"생각과 행동(액션)에 이어서, 에이전트 워크플로우의 마지막 핵심 구성 요소는 '관찰'입니다. 관찰은 에이전트가 세계를 이해하고, 자신의 행동 결과\",\n",
              "    'score': 0.98593,\n",
              "    'raw_content': None},\n",
              "   {'url': 'https://www.automationanywhere.com/kr/company/blog/automation-ai/exploring-ai-agents-types-capabilities-and-real-world-applications',\n",
              "    'title': 'AI 에이전트 알아보기: 유형, 기능 및 활용 분야 - Automation Anywhere',\n",
              "    'content': 'AI 에이전트는 환경을 인식하고, 수집된 정보를 바탕으로 추론하며, 미리 정의된 목표를 달성하기 위해 적절한 행동을 취하는 정교한 소프트웨어 프로그램',\n",
              "    'score': 0.98302,\n",
              "    'raw_content': None},\n",
              "   {'url': 'https://tech.ktcloud.com/entry/2025-03-ktcloud-ai-agent-%EC%97%90%EC%9D%B4%EC%A0%84%ED%8A%B8-%EC%9C%A0%ED%98%95%EA%B3%BC%ED%8A%B9%EC%84%B1',\n",
              "    'title': '[Tech Series] kt cloud AI 에이전트 #2 : 에이전트의 유형과 특성',\n",
              "    'content': '![[Tech Series] kt cloud AI 에이전트 #2 : 에이전트의 유형과 특성](https://blog.kakaocdn.net/dna/q9Ba1/btsMUmB48DV/AAAAAAAAAAAAAAAAAAAAAMQ0xpWV1QEa18MHYhkeQAq1nW-wUQ5x1EVuGb6cIgAX/img.png? ![[Tech Series] kt cloud AI 에이전트 #2 : 에이전트의 유형과 특성](https://blog.kakaocdn.net/dna/q9Ba1/btsMUmB48DV/AAAAAAAAAAAAAAAAAAAAAMQ0xpWV1QEa18MHYhkeQAq1nW-wUQ5x1EVuGb6cIgAX/img.png? ![[Tech Series] kt cloud AI 에이전트 #2 : 에이전트의 유형과 특성](https://blog.kakaocdn.net/dna/mk65g/btsMUzafjqk/AAAAAAAAAAAAAAAAAAAAAIVZRj03khT0Vf8S-ELNZo5A2NwkoKHWY2ZI-hiJ4BVz/img.png? ![[Tech Series] kt cloud AI 에이전트 #2 : 에이전트의 유형과 특성](https://blog.kakaocdn.net/dna/mk65g/btsMUzafjqk/AAAAAAAAAAAAAAAAAAAAAIVZRj03khT0Vf8S-ELNZo5A2NwkoKHWY2ZI-hiJ4BVz/img.png? ![[Tech Series] kt cloud AI 에이전트 #2 : 에이전트의 유형과 특성](https://blog.kakaocdn.net/dna/cQa3v0/btsMVyWtnSm/AAAAAAAAAAAAAAAAAAAAAHkLrXKODnVUqrsH0cG6_weJ8autWnfbxI1-c4vLyJ6H/img.png? ![[Tech Series] kt cloud AI 에이전트 #2 : 에이전트의 유형과 특성](https://blog.kakaocdn.net/dna/ejjrqW/btsMVznDZY0/AAAAAAAAAAAAAAAAAAAAAL4pIzRqAfp9gnj8v5F_RZhj82q89Raoa56jXUe9zNds/img.png? ![[Tech Series] kt cloud AI 에이전트 #2 : 에이전트의 유형과 특성](https://blog.kakaocdn.net/dna/ejjrqW/btsMVznDZY0/AAAAAAAAAAAAAAAAAAAAAL4pIzRqAfp9gnj8v5F_RZhj82q89Raoa56jXUe9zNds/img.png? ![[Tech Series] kt cloud AI 에이전트 #2 : 에이전트의 유형과 특성](https://blog.kakaocdn.net/dna/xZDXd/btsMTYIS1n8/AAAAAAAAAAAAAAAAAAAAANulolHwh7MVNelLVc3d6si9VCeLeKUIK1sxAsG9s3EN/img.png? ![[Tech Series] kt cloud AI 에이전트 #2 : 에이전트의 유형과 특성](https://blog.kakaocdn.net/dna/xZDXd/btsMTYIS1n8/AAAAAAAAAAAAAAAAAAAAANulolHwh7MVNelLVc3d6si9VCeLeKUIK1sxAsG9s3EN/img.png? ![[Tech Series] kt cloud AI 에이전트 #2 : 에이전트의 유형과 특성](https://blog.kakaocdn.net/dna/GXzlm/btsMWUYyjaG/AAAAAAAAAAAAAAAAAAAAAHXpvAxjdh0GbMhgSdUagmWCYddM2mdyV3zdpEBXIjU-/img.png? ![[Tech Series] kt cloud AI 에이전트 #2 : 에이전트의 유형과 특성](https://blog.kakaocdn.net/dna/GXzlm/btsMWUYyjaG/AAAAAAAAAAAAAAAAAAAAAHXpvAxjdh0GbMhgSdUagmWCYddM2mdyV3zdpEBXIjU-/img.png?',\n",
              "    'score': 0.97884,\n",
              "    'raw_content': None},\n",
              "   {'url': 'https://wikidocs.net/287639',\n",
              "    'title': '08-03. 에이전트 행동 시스템의 패러다임 - 위키독스',\n",
              "    'content': '이 세 가지 구성 요소는 함께 AI 에이전트의 행동 시스템이 어떤 범위를 가지고, 어떤 특성을 지니며, 어떻게 구성되고 실행되는지를 총체적으로 정의',\n",
              "    'score': 0.97429,\n",
              "    'raw_content': None},\n",
              "   {'url': 'https://cloud.google.com/discover/what-are-ai-agents?hl=ko',\n",
              "    'title': 'AI 에이전트란 무엇인가요? 정의, 예시, 유형 - Google Cloud',\n",
              "    'content': 'AI 에이전트는 AI를 사용해 사용자를 대신하여 목표를 추구하고 태스크를 완료하는 소프트웨어 시스템입니다. AI 에이전트는 추론, 계획, 기억이 가능하며 일정 수준의',\n",
              "    'score': 0.97072,\n",
              "    'raw_content': None}],\n",
              "  'response_time': 1.27,\n",
              "  'request_id': 'd0abf751-6c5a-401d-b3ec-f4eda5e697a0'}]"
            ]
          },
          "metadata": {},
          "execution_count": 50
        }
      ]
    },
    {
      "cell_type": "code",
      "source": [
        "from langchain_core.tools import StructuredTool\n",
        "\n",
        "from langgraph.prebuilt import ToolNode\n",
        "\n",
        "\n",
        "def run_queries(search_queries: list[str], **kwargs):   # 키워드 arguments\n",
        "    \"\"\"Run the generated queries.\"\"\"\n",
        "    return tavily_tool.batch([{\"query\": query} for query in search_queries])\n",
        "\n",
        "\n",
        "tool_node = ToolNode(\n",
        "    [\n",
        "        StructuredTool.from_function(run_queries, name=AnswerQuestion.__name__),\n",
        "        StructuredTool.from_function(run_queries, name=ReviseAnswer.__name__),\n",
        "    ]\n",
        ")"
      ],
      "metadata": {
        "id": "Py_1YetJBKyy"
      },
      "execution_count": 54,
      "outputs": []
    },
    {
      "cell_type": "markdown",
      "source": [
        "### 5. 그래프 생성하기"
      ],
      "metadata": {
        "id": "rIFjTUBuCDmO"
      }
    },
    {
      "cell_type": "code",
      "source": [
        "from langgraph.graph import END, StateGraph, START\n",
        "from langgraph.graph.message import add_messages\n",
        "from typing import Annotated\n",
        "from typing_extensions import TypedDict\n",
        "\n",
        "\n",
        "class State(TypedDict):\n",
        "    messages: Annotated[list, add_messages]"
      ],
      "metadata": {
        "id": "HJ6asTd8CEsE"
      },
      "execution_count": 55,
      "outputs": []
    },
    {
      "cell_type": "code",
      "source": [
        "MAX_ITERATIONS = 5\n",
        "graph_builder = StateGraph(State)\n",
        "graph_builder.add_node(\"draft\", first_responder.respond)\n",
        "\n",
        "graph_builder.add_node(\"execute_tools\", tool_node) # 웹 검색 진행\n",
        "graph_builder.add_node(\"revise\", revisor.respond)\n",
        "\n",
        "graph_builder.add_edge(\"draft\", \"execute_tools\")\n",
        "graph_builder.add_edge(\"execute_tools\", \"revise\")"
      ],
      "metadata": {
        "colab": {
          "base_uri": "https://localhost:8080/"
        },
        "id": "fiIfn_4sCGPL",
        "outputId": "653f0d54-c18d-4291-fdbb-d422152bba88"
      },
      "execution_count": 56,
      "outputs": [
        {
          "output_type": "execute_result",
          "data": {
            "text/plain": [
              "<langgraph.graph.state.StateGraph at 0x7b5640961b20>"
            ]
          },
          "metadata": {},
          "execution_count": 56
        }
      ]
    },
    {
      "cell_type": "code",
      "source": [
        "def _get_num_iterations(state: list):\n",
        "    i = 0\n",
        "    for m in state[::-1]:\n",
        "        if m.type not in {\"tool\", \"ai\"}:\n",
        "            break\n",
        "        i += 1\n",
        "    return i\n",
        "\n",
        "\n",
        "def event_loop(state: list):\n",
        "    num_iterations = _get_num_iterations(state[\"messages\"])\n",
        "    if num_iterations > MAX_ITERATIONS:\n",
        "        return END\n",
        "    return \"execute_tools\"\n",
        "\n",
        "\n",
        "graph_builder.add_conditional_edges(\"revise\", event_loop, [\"execute_tools\", END])\n",
        "graph_builder.add_edge(START, \"draft\")\n",
        "graph = graph_builder.compile()\n",
        "graph"
      ],
      "metadata": {
        "colab": {
          "base_uri": "https://localhost:8080/",
          "height": 449
        },
        "id": "Wtb9udaTCZl7",
        "outputId": "ba0ee54c-8a2e-4f38-bd1a-c03ac68b7214"
      },
      "execution_count": 57,
      "outputs": [
        {
          "output_type": "execute_result",
          "data": {
            "text/plain": [
              "<langgraph.graph.state.CompiledStateGraph object at 0x7b564091ab10>"
            ],
            "image/png": "[encoded data removed]"
          },
          "metadata": {},
          "execution_count": 57
        }
      ]
    },
    {
      "cell_type": "code",
      "source": [
        "events = graph.stream(\n",
        "    {\"messages\": [HumanMessage(content=\"AI Agent가 무엇인가요?\")]},\n",
        "    stream_mode=\"values\",\n",
        ")\n",
        "for i, step in enumerate(events):\n",
        "    print(f\"Step {i}\")\n",
        "    step[\"messages\"][-1].pretty_print()"
      ],
      "metadata": {
        "colab": {
          "base_uri": "https://localhost:8080/"
        },
        "id": "aqWs4bivCgL2",
        "outputId": "b5404459-35d4-480d-ad61-362221a47283"
      },
      "execution_count": 58,
      "outputs": [
        {
          "output_type": "stream",
          "name": "stdout",
          "text": [
            "Step 0\n",
            "================================\u001b[1m Human Message \u001b[0m=================================\n",
            "\n",
            "AI Agent가 무엇인가요?\n",
            "Step 1\n",
            "==================================\u001b[1m Ai Message \u001b[0m==================================\n",
            "Tool Calls:\n",
            "  AnswerQuestion (call_jazmMD4wLyvV2mhJlTPwOFaT)\n",
            " Call ID: call_jazmMD4wLyvV2mhJlTPwOFaT\n",
            "  Args:\n",
            "    answer: AI 에이전트(Agent)란 주어진 목표를 달성하기 위해 환경을 인지하고 행동하는 자율적 시스템입니다. 일반적으로 에이전트는 환경을 감지하는 센서와 행동을 실행하는 액추에이터를 통해 상호작용합니다. 에이전트는 관찰(퍼셙션)을 바탕으로 의사결정을 하고, 경우에 따라 계획하고 학습하며 행동합니다. 합리적 에이전트는 주어진 지식과 기대되는 결과를 바탕으로 성능을 최대화하는 행동을 선택합니다. 에이전트의 유형으로는 반응적(즉시 자극에 반응), 계획적(미래를 고려한 계획), 학습 에이전트, 목표 기반/효용 기반 에이전트 등이 있습니다. 대화형 에이전트(챗봇 등)도 흔한 예로, 사용자와 상호작용하는 소프트웨어 에이전트입니다. 에이전트와 일반 프로그램의 차이는 목표 지향성, 상태 유지, 학습 및 적응 능력, 그리고 다른 에이전트와의 상호작용 여부에 있습니다. 설계 시 성능 척도(성과함수), 환경 모델, 가능한 행동 공간, 학습 방법을 정의해야 합니다. 한계로는 불완전한 정보, 확정불가능한 환경, 안전성과 윤리적 고려가 필요합니다.\n",
            "    search_queries: ['AI 에이전트 정의 합리적 에이전트', '에이전트-환경 상호작용 퍼셉션-액션 루프', '학습 에이전트 예시 그리고 차이점']\n",
            "    reflection: {'missing': '좀 더 포멀한 정의를 수식적으로 보일 수 있다면 좋고, 예시를 도메인별로 구체적으로 제시하면 이해도가 높아질 수 있습니다.', 'superfluous': '일반적인 설명으로 충분히 다뤘으나, 학습, 계획, 추론의 구체적 메커니즘에 대한 심화 내용은 간략화되어 있습니다.'}\n",
            "Step 2\n",
            "=================================\u001b[1m Tool Message \u001b[0m=================================\n",
            "Name: AnswerQuestion\n",
            "\n",
            "[{\"query\": \"AI 에이전트 정의 합리적 에이전트\", \"follow_up_questions\": null, \"answer\": null, \"images\": [], \"results\": [{\"url\": \"https://brainpod.ai/ko/%ED%95%A9%EB%A6%AC%EC%A0%81-%EC%97%90%EC%9D%B4%EC%A0%84%ED%8A%B8-ai%EC%9D%98-%EC%A3%BC%EC%9A%94-%EC%9C%A0%ED%98%95-%EC%B0%A8%EC%9D%B4%EC%A0%90-%EB%B0%8F-%EC%8B%A4%EC%A0%9C-%EC%82%AC%EB%A1%80/\", \"title\": \"합리적 에이전트 AI 이해하기: 주요 유형, 차이점 및 실제 사례\", \"content\": \"인공지능(AI)에서 합리적 에이전트는 미리 정의된 목표 집합에 따라 기대 성능을 극대화하기 위해 행동하는 지능형 에이전트로 정의됩니다. 이러한 에이전트는 논리적\", \"score\": 0.9184877, \"raw_content\": null}, {\"url\": \"https://ai-ceo.com/blog/what-is-ai-agents/\", \"title\": \"AI 에이전트란 무엇인가 - AI CEO - 아이쎄오\", \"content\": \"합리적 에이전트는 주어진 지각열(percept sequence)과 성과측도(performance measure)에 대해 기대 효용을 극대화하는 행동을 선택하는 존재로 정의된다.\", \"score\": 0.9037116, \"raw_content\": null}, {\"url\": \"https://brainpod.ai/ko/ai%EC%97%90%EC%84%9C-%ED%95%A9%EB%A6%AC%EC%A0%81-%EC%97%90%EC%9D%B4%EC%A0%84%ED%8A%B8-%EC%9D%B4%ED%95%B4-%EC%A3%BC%EC%9A%94-%EC%B0%A8%EC%9D%B4%EC%A0%90-%EC%9C%A0%ED%98%95-%EB%B0%8F-%EC%98%88/\", \"title\": \"AI에서 합리적 에이전트 이해하기: 주요 차이점, 유형 및 예시\", \"content\": \"합리적인 AI 에이전트는 논리적 추론과 사용 가능한 정보를 바탕으로 특정 목표를 달성할 가능성을 극대화하기 위해 결정을 내리고 행동을 취하도록 설계된 지능형 시스템\", \"score\": 0.86981434, \"raw_content\": null}, {\"url\": \"https://blog.naver.com/jaeyoon_95/221096281001\", \"title\": \"[인공지능 기초]2.Intelligent Agents : 네이버 블로그\", \"content\": \"어떻게 인식하느냐에 따라 agent의 action이 결정됩니다. ​. 합리적 에이전트(Rational Agent). Rational agent는 각각의 가능한 지각열에 대해, 자신의\", \"score\": 0.79958355, \"raw_content\": null}, {\"url\": \"https://www.automationanywhere.com/kr/rpa/ai-agents\", \"title\": \"AI 에이전트란?\", \"content\": \"AI 에이전트는 자체 환경에서 학습하고 인지 작업을 수행할 수 있는 소프트웨어 프로그램입니다. 유형 및 이점을 포함하여 AI 에이전트에 대한 모든 것을 알아보세요.\", \"score\": 0.6690754, \"raw_content\": null}], \"response_time\": 0.96, \"request_id\": \"1867041e-64a3-41f7-968d-c45e5d3db9c3\"}, {\"query\": \"에이전트-환경 상호작용 퍼셉션-액션 루프\", \"follow_up_questions\": null, \"answer\": null, \"images\": [], \"results\": [{\"url\": \"https://owl-d.tistory.com/45\", \"title\": \"[Spinning Up 해석] Part 1 : Key Concepts in RL - ABOUT - 티스토리\", \"content\": \"에이전트-환경 상호작용 루프. 강화학습(RL)의 주인공은 에이전트(agent)와 환경(environment)이다. 환경은 에이전트가 살고 상호작용하는 world이다.\", \"score\": 0.6601948, \"raw_content\": null}, {\"url\": \"https://m.blog.naver.com/ydot/222092734116\", \"title\": \"[바닥부터 배우는 강화 학습] 에이전트와 환경 - 블로그\", \"content\": \"[바닥부터 배우는 강화 학습] 에이전트와 환경 : 네이버 블로그 [바닥부터 배우는 강화 학습] 에이전트와 환경 이 포스팅을 읽기전에 [바닥부터 배우는 강화 학습] 연재 글을 읽어보세요!!!! Image 5[**[바닥부터 배우는 강화 학습] 지도 학습과 강화 학습** ​드디어 강화 학습에 대해 배우는 긴 여정이 시작되었습니다. Image 6[**[바닥부터 배우는 강화학습] 순차적 의사결정 문제** ​​강화 학습이 풀고자 하는 문제는 바로 순차적 의사결정sequential decision making 문제입니다. Image 7[**[바닥부터 배우는 강화 학습] 보상** ​보상reward이란 의사결정을 얼마나 잘하고 있는지 알려주는 신호입니다. 에이전트가 **액션****action****(행동)**을 하고 그에 따라 상황이 변하는 것을 하나의 **루프****loop**라 했을 때 이 루프가 끊임없이 반복되는 것을 순차적 의사결정 문제라 할 수 있습니다. Image 8 Image 9 **바닥부터 배우는 강화 학습**저자 노승은 출판 영진닷컴 발매 2020.09.15. Image 10 {\\\"title\\\":\\\"[바닥부터 배우는 강화 학습] 에이전트와 환경\\\",\\\"source\\\":\\\"https://blog.naver.com/ydot/222092734116\\\",\\\"blogName\\\":\\\"영진닷컴 ..\\\",\\\"domainIdOrBlogId\\\":\\\"ydot\\\",\\\"nicknameOrBlogId\\\":\\\"영진닷컴\\\",\\\"logNo\\\":222092734116,\\\"smartEditorVersion\\\":4,\\\"lineDisplay\\\":true,\\\"outsideDisplay\\\":true,\\\"meDisplay\\\":true,\\\"cafeDisplay\\\":true,\\\"blogDisplay\\\":true} Image 16\", \"score\": 0.5568099, \"raw_content\": null}, {\"url\": \"https://yoonschallenge.tistory.com/845\", \"title\": \"The Rise and Potential of Large Language Model Based Agents\", \"content\": \"이 프레임워크는 브레인(Brain), 지각(Perception), 액션(Action)이라는 세 가지 핵심 모듈로 구성됩니다. 각 모듈은 에이전트가 환경과 상호작용하고\", \"score\": 0.5568099, \"raw_content\": null}, {\"url\": \"https://wikidocs.net/286004\", \"title\": \"01-03. 인간의 뇌를 닮은 AI, 가능한가요? - 위키독스\", \"content\": \"즉, '에이전트 루프(agent loop)'는 AI가 주변 환경과 상호작용하고, 내부 정보를 바탕으로 다음 행동을 결정하며, 그 결과를 반영해 또다시 학습하는\", \"score\": 0.521886, \"raw_content\": null}, {\"url\": \"https://wikidocs.net/287639\", \"title\": \"08-03. 에이전트 행동 시스템의 패러다임 - 위키독스\", \"content\": \"정의: 에이전트가 환경과 상호작용하면서 어떤 행동을 선택할지 경험을 통해 학습하는 과정. · 관련 기술: 강화학습(RL): 보상을 기반으로 행동을 조정함\", \"score\": 0.49143207, \"raw_content\": null}], \"response_time\": 1.23, \"request_id\": \"2886869a-f706-49fd-8e70-2a6b740da4e6\"}, {\"query\": \"학습 에이전트 예시 그리고 차이점\", \"follow_up_questions\": null, \"answer\": null, \"images\": [], \"results\": [{\"url\": \"https://botpress.com/ko/blog/real-world-applications-of-ai-agents\", \"title\": \"AI 에이전트의 실제 사례 36가지 - Botpress\", \"content\": \"모델 기반 반사 에이전트는 예측할 수 없는 환경을 처리하기 위해 내부 세계 모델을 유지하고 학습 에이전트는 새로운 데이터와 경험을 기반으로 시간이\", \"score\": 0.50007385, \"raw_content\": null}, {\"url\": \"https://blog.naver.com/hanksi/223987546803?fromRss=true&trackingCode=rss\", \"title\": \"AI 에이전트 vs Agentic AI: 개념부터 차이점까지 상세 분석 by Gemini\", \"content\": \"학습 능력 (Learning): 경험을 통해 시간이 지남에 따라 성능을 개선하고 새로운 상황에 적응할 수 있습니다. ​. 작동 방식 및 아키텍처. AI 에이전트는\", \"score\": 0.44912744, \"raw_content\": null}, {\"url\": \"https://www.reddit.com/r/reinforcementlearning/comments/nkep1x/reinforcement_learning_agent_vs_network_vs_model/?tl=ko\", \"title\": \"강화 학습: 에이전트 vs 네트워크 vs 모델 vs 정책 - Reddit\", \"content\": \"에이전트를 훈련하는 데 사용되거나 그 결과로 생성됩니다. 에이전트는 구조에 따라 하나 이상을 가질 수 있습니다. (예: AC 네트워크는 기술적으로 두\", \"score\": 0.42033842, \"raw_content\": null}, {\"url\": \"https://www.cio.com/article/4006536/%EC%97%90%EC%9D%B4%EC%A0%84%ED%8B%B1-ai%EC%99%80-ai-%EC%97%90%EC%9D%B4%EC%A0%84%ED%8A%B8-%EB%AC%B4%EC%97%87%EC%9D%B4-%EB%8B%A4%EB%A5%B8%EA%B0%80.html\", \"title\": \"에이전틱 AI와 AI 에이전트, 무엇이 다른가 - CIO\", \"content\": \"에이전틱 AI는 아직 초기 단계이지만, 많은 기업이 AI 에이전트를 빠르게 도입하고 있다. 반면, 초기 단계에 있는 에이전틱 AI는 여러 에이전트와 AI 도구를 활용해 스스로 목표를 설정하고, 학습하며, 작업 전반에 걸쳐 추론할 수 있는 완전 자율 시스템을 구성하는 상위 개념 기술이다.” 소프트웨어 거버넌스 서비스 업체 모델옵(ModelOp)의 CTO 짐 올슨은 AI 에이전트는 개별 플레이어 또는 직원으로, 에이전틱 AI는 팀 전체로 이해하면 된다고 설명했다. 에이전틱 AI와 AI 에이전트의 차이는 단순한 용어 문제처럼 들릴 수 있지만, 아이베리파이의 다마니는 이 구분이 CIO에게 매우 중요하다고 강조했다. 다마니는 AI 에이전트와 에이전틱 AI가 어떻게 작동하는지 충분히 이해하지 못하면, CIO와 IT 리더가 관련 리스크나 필요한 관리 수준을 간과할 수 있다고 경고했다. Grant Gross, a senior writer at CIO, is a long-time IT journalist who has focused on AI, enterprise technology, and tech policy.\", \"score\": 0.23074678, \"raw_content\": null}, {\"url\": \"https://aiheroes.ai/community/291\", \"title\": \"AI 에이전트 100% 알아보기! 에이전틱 AI와 다른 점은 무엇일까?\", \"content\": \"# AI 에이전트 100% 알아보기! 1. AI 에이전트(AI Agent)란 무엇일까? 2. 글로벌 빅테크의 AI 에이전트 AI 에이전트(AI Agent)란 무엇일까? ### 1) 챗봇 vs AI 에이전트 이러한 지속적인 학습을 통해 AI 에이전트는 변화하는 환경에 적응하며 더 나은 솔루션을 제안할 수 있게 됩니다. ### ⚠️ AI 에이전트 vs 에이전틱 AI #### 📌 AI 에이전트 #### 📌 에이전틱 AI 글로벌 빅테크의 AI 에이전트 프로젝트 아스트라는 아직 일부 테스터에게만 공개되고 있지만, 더 발전된 AI 에이전트 모델로 제미나이 앱과의 통합을 통해 더욱 강력한 AI 경험을 제공한다고 설명했습니다. ### 1) 신뢰할 수 있는 AI 에이전트 AI 에이전트는 앞으로 더욱 복잡한 업무를 수행하며 중요한 결정을 내리게 될 것이기 때문에 사용자가 AI를 신뢰할 수 있도록 하는 UX 설계가 중요할 것입니다.\", \"score\": 0.18728161, \"raw_content\": null}], \"response_time\": 0.89, \"request_id\": \"40f1527e-991c-4959-a364-bc5425b5bcf5\"}]\n",
            "Step 3\n",
            "==================================\u001b[1m Ai Message \u001b[0m==================================\n",
            "Tool Calls:\n",
            "  ReviseAnswer (call_oGXFGTSbiWh39FUcFVcMVg9f)\n",
            " Call ID: call_oGXFGTSbiWh39FUcFVcMVg9f\n",
            "  Args:\n",
            "    answer: 원래 질문은 AI 에이전트의 정의였고, 이전 답변은 환경을 인지하고 행동하는 구조, 합리적 에이전트의 목표 지향성, 유형(반응적/계획적/학습/효용 기반) 및 대화형 에저트 예를 제시했습니다. 또한 에이전트와 일반 프로그램의 차이와 설계 시 성능 척도와 학습 방법의 필요성을 언급했습니다. 강점은 핵심 구성요소(센서/액추에이터), 퍼셉션-액션 루프, 도메인별 예시의 포괄성입니다. 개선점으로는 수학적/수식적 정의의 부재, 학습·추론의 구체적 메커니즘에 대한 심층 설명 부족, 안전성과 윤리 프레임워크의 구체적 제시가 필요합니다. 앞으로는 도메인별 구체 사례와 정량적 성능 척도 예시를 추가하면 이해도가 높아질 것입니다.\n",
            "    search_queries: ['합리적 에이전트 수학적 정의', '에이전트-환경 루프 정량적 모델', '도메인별 AI 에이전트 예시']\n",
            "    reflection: {'missing': '정의의 수식화, 성능함수/환경 모델의 구체 예시, 안전성·윤리성의 수치화 프레임워크 추가', 'superfluous': '기본 개념 설명 외 학습/추론 메커니즘의 세부 심화 내용은 현재 필요하지 않음'}\n",
            "    references: ['https://brainpod.ai/ko/%ED%95%A9%EB%A6%AC%EC%A0%81-%EC%97%90%EC%9D%B4%EC%A0%84%ED%8A%B8-ai%EC%9D%98-%EC%A3%BC%94%EC%9A%94-%EC%9C%A0%ED%98%95-%EC%B0%A8%EC%9D%B4%EC%A0%90-%EB%8C%80%EB%8B%AC%EB%A5%BC-%EC%97%B0%EA%B5%AC/', 'https://ai-ceo.com/blog/what-is-ai-agents/']\n",
            "Step 4\n",
            "=================================\u001b[1m Tool Message \u001b[0m=================================\n",
            "Name: ReviseAnswer\n",
            "\n",
            "[{\"query\": \"합리적 에이전트 수학적 정의\", \"follow_up_questions\": null, \"answer\": null, \"images\": [], \"results\": [{\"url\": \"https://blog.naver.com/keebh/20206697388?viewType=pc\", \"title\": \"AI 소개 : 네이버 블로그\", \"content\": \"합리적인 에이전트 (rational agent) 란 최상의 결과 (outcome), 불확실성이 있는 경우에는 최상의 기대 (expected) 결과를 얻을 수 있도록 행동하는\", \"score\": 0.86080295, \"raw_content\": null}, {\"url\": \"https://velog.io/@eunaahn/%EC%9D%B8%EA%B3%B5%EC%A7%80%EB%8A%A5%EA%B3%BC-%EA%B8%B0%EA%B3%84%ED%95%99%EC%8A%B5-\", \"title\": \"인공지능과 기계학습 - Rational Agent\", \"content\": \"합리적 에이전트라고 하며 최상의 결과를(불확실성이 존재할 경우에는 기대할 수 있는 최상의 결과를) 내도록 행동하는 에이전트이다. Percept. 어떤 순간\", \"score\": 0.8173562, \"raw_content\": null}, {\"url\": \"https://wikidocs.net/198338\", \"title\": \"A_04. Intelligent Agents from Wiki - B. Artificial intelligence - 한글\", \"content\": \"\\\"합리적 에이전트\\\"를 다음과 같이 정의합니다. \\\"과거의 경험과 지식을 바탕으로 성능 측정의 기대값을 최대화하도록 행동하는 에이전트.\\\" \\\"인공 지능\", \"score\": 0.8124067, \"raw_content\": null}, {\"url\": \"https://eastk1te.github.io/posts/AI(1)/\", \"title\": \"[Study]Chapter 1 & 2, 지능적 에이전트 - Eastk1te\", \"content\": \"합리적 에이전트의 정의→ 각각의 가능한 지각열에 대해, 합리적 에이전트는 자신의 지각열과 에이전트의 내장지식이 제공하는 증거에 기초해서 성과\", \"score\": 0.76972175, \"raw_content\": null}, {\"url\": \"https://wikidocs.net/198339\", \"title\": \"A_05. Intelligent Agents - A - Deep Learning Bible - 위키독스\", \"content\": \"수학적으로 말하면 에이전트의 행동은 주어진 지각 순서를 행동에 매핑하는 에이전트 기능으로 설명됩니다.\", \"score\": 0.74363416, \"raw_content\": null}], \"response_time\": 1.09, \"request_id\": \"1e6614c2-b514-4945-99a7-cf15440a6514\"}, {\"query\": \"에이전트-환경 루프 정량적 모델\", \"follow_up_questions\": null, \"answer\": null, \"images\": [], \"results\": [{\"url\": \"https://www.dbpia.co.kr/journal/articleDetail?nodeId=NODE02374547\", \"title\": \"Human-in-the-loop 에이전트 기반 모델링 및 시뮬레이션 구현 - DBpia\", \"content\": \"이 연구는 Human-in-the-loop(HITL) 시뮬레이션을 활용하여 인간 행동을 정량적으로 분석하고 이를 기반으로 에이전트 기반 시뮬레이션 모델을 개발하는 데 초점을 맞춘다.\", \"score\": 0.5622973, \"raw_content\": null}, {\"url\": \"https://koreascience.kr/article/JAKO201831342439555.pdf\", \"title\": \"[PDF] 에이전트 기반 모델링 및 네트워크 통신 환경을 고려한 UGV 효과분석\", \"content\": \"Figure 3은 모델 내에서 에이전트가 어떻게 구성되는. 지를 보여주고 있다. 전장을 의미하는 Main 에이전트와. 전장에서 활동하는 Unit에이전트, 그리고 Unit을 구성하.\", \"score\": 0.27478218, \"raw_content\": null}, {\"url\": \"https://bluedayj.tistory.com/631\", \"title\": \"LLM을 활용한 AI 에이전트 언어 상호작용 성능 혁신 가이드\", \"content\": \"특히 LLM(대규모 언어 모델)의 발전은 AI 에이전트의 언어 상호작용 능력이 비약적으로 향상되는 계기를 마련하였고, 이로 인해 기업들은 업무 효율성과 고객 경험을 동시에 개선할 수 있는 기회를 맞이하고 있습니다. 이처럼 Code Interpreter의 도입은 AI Agent가 사용자의 니즈에 대해 보다 유연하고 실질적인 해결책을 제공하는 데 중추적인 역할을 하며, 이를 통해 기업의 업무 효율성을 극대화할 수 있는 기회를 창출하고 있습니다. 이러한 AI 에이전트는 단순한 대화형 시스템을 넘어, 실제 업무를 수행하고 사용자 경험을 극대화할 수 있는 효과적인 도구로 자리 잡고 있습니다. AI 에이전트는 사용자의 다양한 요구를 처리하며, 그 과정에서 오류나 예외 상황이 발생할 수 있습니다. 이러한 성능 평가는 AI 시스템의 발전과 더불어 지속적인 개선이 필요하며, 이를 통해 효과적으로 사용자 요구에 부합하는 서비스를 제공할 수 있습니다. 설문조사나 피드백 수집을 통해 AI 사용 후의 경험을 분석하면, 사용자들이 느끼는 만족도를 정량화할 수 있습니다.\", \"score\": 0.15878677, \"raw_content\": null}, {\"url\": \"https://newrelic.com/kr/resources/ebooks/devops-maturity-phases\", \"title\": \"데브옵스 성숙도의 3단계 - New Relic\", \"content\": \"SLO는 서비스 수준 표시기(SLI)라고 하는 정해진 정량적 측정치에 대해 목표값을 정의합니다. ... 환경 배포로 이동할 수 있는 프로세스를 구축하는 것\", \"score\": 0.094518974, \"raw_content\": null}, {\"url\": \"https://dataplatform.cloud.ibm.com/docs/content/wsj/model/wxgov-agentic-ai-evaluation-sdk.html?context=wx&locale=ko\", \"title\": \"에이전트 AI 평가 — Docs | IBM watsonx\", \"content\": \"에이전트 AI 평가 모듈은 에이전트 AI 도구의 성능을 측정하는 지표를 계산하여 사용 사례의 워크플로우를 간소화하고 위험을 관리하는 데 도움을 줍니다.\", \"score\": 0.06506231, \"raw_content\": null}], \"response_time\": 0.98, \"request_id\": \"ef10d327-718b-470c-808d-1c471dc8bb53\"}, {\"query\": \"도메인별 AI 에이전트 예시\", \"follow_up_questions\": null, \"answer\": null, \"images\": [], \"results\": [{\"url\": \"https://www.scnews.kr/news/articleView.html?idxno=12056\", \"title\": \"2025년 AI, 도메인 특화와 에이전트 기술이 핵심 트렌드로 부상\", \"content\": \"뤼튼, 올거나이즈, 페르소나 AI 등은 AI 에이전트가 단순한 답변을 제공하는 챗봇을 넘어 복잡한 업무를 처리하며 B2C 시장에서 핵심 역할을 할 것으로\", \"score\": 0.61834323, \"raw_content\": null}, {\"url\": \"https://www.allibee.ai/blog/domain-specific-business-agent\", \"title\": \"비즈니스에 ChatGPT가 아닌 전문 AI 에이전트가 필요한 이유\", \"content\": \"법률 전문가처럼 생각하는 도메인 특화 AI 에이전트, 앨리비 도메인 특화 AI 에이전트는 이러한 도메인별 특성을 깊이 이해하고, 해당 분야의 전문가처럼 판단하고 응답할 수 있어야 합니다. | 비교 항목 | ChatGPT (범용 AI) | 앨리비 비즈니스 에이전트 (법률 특화 AI) | ## 법률 전문가처럼 생각하는 도메인 특화 AI 에이전트, 앨리비 뿐만 아니라 기술적 측면에서 앨리비는 법률 특화 OCR, 청킹, 레이아웃 분석, 리걸 LLM 등 다양한 기술을 유기적으로 통합하고 있기 때문에, 이러한 기술들이 단순히 '있다/없다'의 문제가 아니라 법률 도메인에 최적화되어 적용되고 있다는 점이 핵심이라고 할 수 있습니다. 그러나 앨리비는 **도메인 전문가와의 협업을 통해 도메인 특화 AI 에이전트 개발에 대한 노하우**를 지니고 있으며, 이렇게 개발한 다양한 AI기술을 비즈니스 에이전트와 같은 실제 서비스에 녹여내 활용하고 있습니다.\", \"score\": 0.585789, \"raw_content\": null}, {\"url\": \"https://clickup.com/ko/blog/456142/ai-agents-examples\", \"title\": \"산업을 변화시키는 12가지의 강력한 AI 에이전트 예시 - ClickUp\", \"content\": \"산업별 AI 에이전트 예시 · 1. 고객 지원 · 2. 영업 팀 · 3. 마케팅 · 4. 운영 · 5. 채용 · 6. 코딩 · 7. 개인 생산성 · 8. 금융.\", \"score\": 0.5476824, \"raw_content\": null}, {\"url\": \"https://aisparkup.com/posts/2148\", \"title\": \"2025년 주목해야 할 7가지 AI 에이전트와 멀티모달 트렌드\", \"content\": \"이러한 Super General AI 에이전트들은 복잡한 작업을 자율적으로 수행하고, 다양한 도메인에서 맥락을 이해하며, 최소한의 인간 개입으로 변화하는 환경에 적응할 수 있는 능력을 갖추고 있습니다. 최신 AI 에이전트는 기존의 일반적인 AI 어시스턴트와 달리, 단순한 명령-응답 상호작용을 넘어 확장된 세션에서 맥락을 유지하고, 여러 기능을 조정하며, 복잡한 작업을 완료하는 데 더 큰 자율성을 보여줍니다. Devin은 소프트웨어 개발 분야에 특화된 AI 에이전트로, 코드 작성, 테스트, 디버깅, 리팩토링 등의 작업을 자율적으로 수행할 수 있습니다. 텍스트뿐만 아니라 이미지, 오디오, 비디오 등 다양한 형식의 데이터를 처리하고 통합할 수 있는 멀티모달 AI 에이전트가 주류로 자리잡고 있습니다. 특히 멀티모달 AI 에이전트의 부상은 텍스트뿐만 아니라 이미지, 음성, 영상 등 다양한 형태의 데이터를 종합적으로 이해하고 처리할 수 있는 능력을 통해, 더욱 풍부하고 인간적인 상호작용을 가능하게 할 것입니다.\", \"score\": 0.52962893, \"raw_content\": null}, {\"url\": \"https://www.aitimes.com/news/articleView.html?idxno=166545\", \"title\": \"\\\"2025년은 멀티모달·RAG가 핵심...도메인별 전문 모델 대세될 것\\\" - AI ...\", \"content\": \"국내도 AI 비즈니스 이슈가 진화한 것으로 볼 수 있다. 우선, 뤼튼은 B2C 서비스에서 AI 에이전트가 기존 답만 내놓던 챗봇을 넘어 각종 업무를 처리해 줄 것으로 봤다. 하지만 실제 현장에서는 아직 구체적인 사례가 적은 AI 에이전트보다 멀티모달이 더 큰 영향을 줄 것으로 예측했다. * [[2024 결산] (1) 뤼튼과 제타, AI 'B2C 서비스' 본격 확대한 주인공](https://www.aitimes.com/news/articleView.html? * [[신년사] 이창수 올거나이즈 대표 \\\"에이전트 AI에 RAG 접목해 출시 예정 \\\"](https://www.aitimes.com/news/articleView.html? * [[신년사] 슈퍼브AI “엣지·멀티모달 강화로 AI 올인원 솔루션 지원할 것”](https://www.aitimes.com/news/articleView.html? * [[신년사] 윤성호 마키나락스 대표 “산업 특화 AI 선두 지킬 것”](https://www.aitimes.com/news/articleView.html? * [[신년사] 한국딥러닝 “비전 AI 기술 고도화…B2B·B2G 맞춤형 AI 도입 지원”](https://www.aitimes.com/news/articleView.html? * [[신년사] 김세엽 셀렉트스타 대표 \\\"AI 신뢰성 평가 중심 토털 서비스 기업으로 성장할 것\\\"](https://www.aitimes.com/news/articleView.html? #AI\", \"score\": 0.5230555, \"raw_content\": null}], \"response_time\": 1.07, \"request_id\": \"ed05eba5-f60c-4444-9f4f-8f82c1aced7f\"}]\n",
            "Step 5\n",
            "==================================\u001b[1m Ai Message \u001b[0m==================================\n",
            "Tool Calls:\n",
            "  ReviseAnswer (call_13jh0CCs37O2CCNkZmf88r1q)\n",
            " Call ID: call_13jh0CCs37O2CCNkZmf88r1q\n",
            "  Args:\n",
            "    answer: Reflect: 원래 질의는 AI 에이전트의 정의였다. 이전 답변은 기본 개념은 다루었으나 수식적 정의[1], 도메인별 구체 사례[2], 안전/윤리의 정량 프레임이 부족했다. 보완하겠다.\n",
            "    search_queries: ['합리적 에이전트의 수식적 정의', '에이전트-환경 루프 정량 모델', '도메인별 AI 에이전트 예시']\n",
            "    reflection: {'missing': '수식화된 정의, 정량적 성능 척도 예시, 안전/윤리 프레임의 수치화', 'superfluous': '일반 설명은 충분했으나 세부 학습/추론 메커니즘 심화는 제외'}\n",
            "    references: ['https://brainpod.ai/ko/%ED%95%A9%EB%A6%AC%EC%A0%81-%EC%97%90%EC%9D%B4%EC%A0%84%ED%8A%B8-ai%EC%9D%98-%EC%A3%BC%94%EC%9A%94-%EC%9C%A0%ED%98%95-%EC%B0%A8%EC%9D%B4%EC%A0%90-%EB%8C%80%EB%8B%AC%EB%A5%BC-%EC%97%B0%EA%B5%AC/', 'https://ai-ceo.com/blog/what-is-ai-agents/']\n",
            "Step 6\n",
            "=================================\u001b[1m Tool Message \u001b[0m=================================\n",
            "Name: ReviseAnswer\n",
            "\n",
            "[{\"query\": \"합리적 에이전트의 수식적 정의\", \"follow_up_questions\": null, \"answer\": null, \"images\": [], \"results\": [{\"url\": \"https://blog.naver.com/jaeyoon_95/221096281001\", \"title\": \"[인공지능 기초]2.Intelligent Agents : 네이버 블로그\", \"content\": \"합리적 에이전트(Rational Agent)​​ 즉, 행동을 하기 전에 어떤 행동이 가장 좋은 결과를 가져올지 매 순간 선택합니다. (기준은 행동을 하기 전 상황입니\", \"score\": 0.81097376, \"raw_content\": null}, {\"url\": \"https://startagainbornagain.tistory.com/65\", \"title\": \"스튜어드 러셀의 인공지능을 읽어보자(3) : 지능적 에이전트?\", \"content\": \"합리적 에이전트(rational agent)는 옳은 일(right thing)을 하는 에이전트입니다. 개념적으로 말하자면. 에이전트 함소 표의 모든 항목이 정확히 채워진\", \"score\": 0.79369855, \"raw_content\": null}, {\"url\": \"https://velog.io/@eunaahn/%EC%9D%B8%EA%B3%B5%EC%A7%80%EB%8A%A5%EA%B3%BC-%EA%B8%B0%EA%B3%84%ED%95%99%EC%8A%B5-\", \"title\": \"인공지능과 기계학습 - Rational Agent\", \"content\": \"합리적 에이전트라고 하며 최상의 결과를(불확실성이 존재할 경우에는 기대할 수 있는 최상의 결과를) 내도록 행동하는 에이전트이다. Percept. 어떤 순간\", \"score\": 0.78214747, \"raw_content\": null}, {\"url\": \"https://eastk1te.github.io/posts/AI(1)/\", \"title\": \"[Study]Chapter 1 & 2, 지능적 에이전트 - Eastk1te\", \"content\": \"합리적 에이전트의 정의→ 각각의 가능한 지각열에 대해, 합리적 에이전트는 자신의 지각열과 에이전트의 내장지식이 제공하는 증거에 기초해서 성과\", \"score\": 0.6994397, \"raw_content\": null}, {\"url\": \"https://coreeny.tistory.com/147\", \"title\": \"[인공지능] 3주차 - 인공지능의 발전과정, 지능형 에이전트\", \"content\": \"▷ 합리적인 에이전트 · agent는 현재까지의 인식된 정보 순서에만 의존(정보수집), 입력 정보에 대한 결과는 몰라야 함 · 즉 agent는 학습을 통해 결과를\", \"score\": 0.6222074, \"raw_content\": null}], \"response_time\": 1.03, \"request_id\": \"f552663f-cea7-4ec8-97b3-3ba4f414e367\"}, {\"query\": \"에이전트-환경 루프 정량 모델\", \"follow_up_questions\": null, \"answer\": null, \"images\": [], \"results\": [{\"url\": \"https://blog.naver.com/oaziz/223507964894\", \"title\": \"게임 시뮬레이션 환경(Gymnasium)에서 Agent와 환경의 상호작용\", \"content\": \"에이전트-환경 상호작용 루프. 에이전트는 환경에서 상태를 관찰하고, 그에 따라 행동을 선택하며, 그 결과를 반영하여 학습하는 과정을 반복. 상호작용\", \"score\": 0.5760895, \"raw_content\": null}, {\"url\": \"https://wikidocs.net/198338\", \"title\": \"A_04. Intelligent Agents from Wiki - B. Artificial intelligence - 한글\", \"content\": \"무한 루프는 부분적으로 관찰 가능한 환경에서 작동하는 단순 반사 ... 모델 기반 에이전트는 부분적으로 관찰 가능한 환경을 처리할 수 있습니다.\", \"score\": 0.40471974, \"raw_content\": null}, {\"url\": \"https://wikidocs.net/286004\", \"title\": \"01-03. 인간의 뇌를 닮은 AI, 가능한가요? - 위키독스\", \"content\": \"즉, '에이전트 루프(agent loop)'는 AI가 주변 환경과 상호작용하고, 내부 정보를 바탕으로 다음 행동을 결정하며, 그 결과를 반영해 또다시 학습하는\", \"score\": 0.34112197, \"raw_content\": null}, {\"url\": \"https://developer.nvidia.com/ko-kr/blog/build-your-first-human-in-the-loop-ai-agent-with-nvidia-nim/\", \"title\": \"NVIDIA NIM으로 첫번째 휴먼 인더 루프 AI 에이전트 구축하기\", \"content\": \"콘텐츠 크리에이터 에이전트는 NVIDIA LLM NIM 마이크로서비스로 가속화된 Llama 3.1 405B 모델을 사용합니다. 안정적이고 체계적인 결과를 보장하기 위해\", \"score\": 0.25571102, \"raw_content\": null}, {\"url\": \"https://discuss.pytorch.kr/t/ai/4327\", \"title\": \"추론, 계획 및 도구 사용을 위한 AI 에이전트 구조에 대한 서베이 논문\", \"content\": \"특히 에이전트 시스템에는 계획, 루프, 반영 및 기타 제어 구조라는 개념이 있어 모델의 고유한 추론 기능을 크게 활용하여 엔드투엔드 작업을 수행할 수\", \"score\": 0.18639141, \"raw_content\": null}], \"response_time\": 1.02, \"request_id\": \"2d94b802-52df-4f5f-987a-fb5d8c506eb3\"}, {\"query\": \"도메인별 AI 에이전트 예시\", \"follow_up_questions\": null, \"answer\": null, \"images\": [], \"results\": [{\"url\": \"https://www.scnews.kr/news/articleView.html?idxno=12056\", \"title\": \"2025년 AI, 도메인 특화와 에이전트 기술이 핵심 트렌드로 부상\", \"content\": \"뤼튼, 올거나이즈, 페르소나 AI 등은 AI 에이전트가 단순한 답변을 제공하는 챗봇을 넘어 복잡한 업무를 처리하며 B2C 시장에서 핵심 역할을 할 것으로\", \"score\": 0.61834323, \"raw_content\": null}, {\"url\": \"https://www.allibee.ai/blog/domain-specific-business-agent\", \"title\": \"비즈니스에 ChatGPT가 아닌 전문 AI 에이전트가 필요한 이유\", \"content\": \"법률 전문가처럼 생각하는 도메인 특화 AI 에이전트, 앨리비 도메인 특화 AI 에이전트는 이러한 도메인별 특성을 깊이 이해하고, 해당 분야의 전문가처럼 판단하고 응답할 수 있어야 합니다. | 비교 항목 | ChatGPT (범용 AI) | 앨리비 비즈니스 에이전트 (법률 특화 AI) | ## 법률 전문가처럼 생각하는 도메인 특화 AI 에이전트, 앨리비 뿐만 아니라 기술적 측면에서 앨리비는 법률 특화 OCR, 청킹, 레이아웃 분석, 리걸 LLM 등 다양한 기술을 유기적으로 통합하고 있기 때문에, 이러한 기술들이 단순히 '있다/없다'의 문제가 아니라 법률 도메인에 최적화되어 적용되고 있다는 점이 핵심이라고 할 수 있습니다. 그러나 앨리비는 **도메인 전문가와의 협업을 통해 도메인 특화 AI 에이전트 개발에 대한 노하우**를 지니고 있으며, 이렇게 개발한 다양한 AI기술을 비즈니스 에이전트와 같은 실제 서비스에 녹여내 활용하고 있습니다.\", \"score\": 0.585789, \"raw_content\": null}, {\"url\": \"https://clickup.com/ko/blog/456142/ai-agents-examples\", \"title\": \"산업을 변화시키는 12가지의 강력한 AI 에이전트 예시 - ClickUp\", \"content\": \"산업별 AI 에이전트 예시 · 1. 고객 지원 · 2. 영업 팀 · 3. 마케팅 · 4. 운영 · 5. 채용 · 6. 코딩 · 7. 개인 생산성 · 8. 금융.\", \"score\": 0.5476824, \"raw_content\": null}, {\"url\": \"https://aisparkup.com/posts/2148\", \"title\": \"2025년 주목해야 할 7가지 AI 에이전트와 멀티모달 트렌드\", \"content\": \"이러한 Super General AI 에이전트들은 복잡한 작업을 자율적으로 수행하고, 다양한 도메인에서 맥락을 이해하며, 최소한의 인간 개입으로 변화하는 환경에 적응할 수 있는 능력을 갖추고 있습니다. 최신 AI 에이전트는 기존의 일반적인 AI 어시스턴트와 달리, 단순한 명령-응답 상호작용을 넘어 확장된 세션에서 맥락을 유지하고, 여러 기능을 조정하며, 복잡한 작업을 완료하는 데 더 큰 자율성을 보여줍니다. Devin은 소프트웨어 개발 분야에 특화된 AI 에이전트로, 코드 작성, 테스트, 디버깅, 리팩토링 등의 작업을 자율적으로 수행할 수 있습니다. 텍스트뿐만 아니라 이미지, 오디오, 비디오 등 다양한 형식의 데이터를 처리하고 통합할 수 있는 멀티모달 AI 에이전트가 주류로 자리잡고 있습니다. 특히 멀티모달 AI 에이전트의 부상은 텍스트뿐만 아니라 이미지, 음성, 영상 등 다양한 형태의 데이터를 종합적으로 이해하고 처리할 수 있는 능력을 통해, 더욱 풍부하고 인간적인 상호작용을 가능하게 할 것입니다.\", \"score\": 0.52962893, \"raw_content\": null}, {\"url\": \"https://www.aitimes.com/news/articleView.html?idxno=166545\", \"title\": \"\\\"2025년은 멀티모달·RAG가 핵심...도메인별 전문 모델 대세될 것\\\" - AI ...\", \"content\": \"국내도 AI 비즈니스 이슈가 진화한 것으로 볼 수 있다. 우선, 뤼튼은 B2C 서비스에서 AI 에이전트가 기존 답만 내놓던 챗봇을 넘어 각종 업무를 처리해 줄 것으로 봤다. 하지만 실제 현장에서는 아직 구체적인 사례가 적은 AI 에이전트보다 멀티모달이 더 큰 영향을 줄 것으로 예측했다. * [[2024 결산] (1) 뤼튼과 제타, AI 'B2C 서비스' 본격 확대한 주인공](https://www.aitimes.com/news/articleView.html? * [[신년사] 이창수 올거나이즈 대표 \\\"에이전트 AI에 RAG 접목해 출시 예정 \\\"](https://www.aitimes.com/news/articleView.html? * [[신년사] 슈퍼브AI “엣지·멀티모달 강화로 AI 올인원 솔루션 지원할 것”](https://www.aitimes.com/news/articleView.html? * [[신년사] 윤성호 마키나락스 대표 “산업 특화 AI 선두 지킬 것”](https://www.aitimes.com/news/articleView.html? * [[신년사] 한국딥러닝 “비전 AI 기술 고도화…B2B·B2G 맞춤형 AI 도입 지원”](https://www.aitimes.com/news/articleView.html? * [[신년사] 김세엽 셀렉트스타 대표 \\\"AI 신뢰성 평가 중심 토털 서비스 기업으로 성장할 것\\\"](https://www.aitimes.com/news/articleView.html? #AI\", \"score\": 0.5230555, \"raw_content\": null}], \"response_time\": 1.24, \"request_id\": \"0756db08-9df8-4057-bae9-1f2669cb04af\"}]\n",
            "Step 7\n",
            "==================================\u001b[1m Ai Message \u001b[0m==================================\n",
            "Tool Calls:\n",
            "  ReviseAnswer (call_WHONoiKgm3waYGyxtCWqlzUk)\n",
            " Call ID: call_WHONoiKgm3waYGyxtCWqlzUk\n",
            "  Args:\n",
            "    answer: Reflect: 원래 질문은 AI 에이전트의 정의였고, 핵심은 환경 감지-행동 루프와 합리적 에이전트의 목표 최적화였습니다. 다만 수식적 정의와 안전/윤리 프레임, 도메인별 구체 예시가 부족했습니다. [1] [2]\n",
            "    search_queries: ['합리적 에이전트 수식적 정의', '에이전트-환경 루프 정량 모델', '도메인별 AI 에이전트 예시']\n",
            "    reflection: {'missing': '수식적 정의, 정량적 성능 척도 예시, 안전성/윤리 프레임의 구체적 수치화', 'superfluous': '학습/추론 메커니즘의 구체적 심화 내용은 현재 필요하지 않음'}\n",
            "    references: ['https://brainpod.ai/ko/%ED%95%A9%EB%A6%AC%EC%A0%81-%EC%97%90%EC%9D%B4%EC%A0%84%ED%8A%B8-ai%EC%9D%98-%EC%A3%BC%94%EC%9A%94-%EC%9C%A0%ED%98%95-%EC%B0%A8%EC%9D%B4%EC%A0%90-%EB%8C%80%EB%8B%AC%EB%A5%BC-%EC%97%B0%EA%B5%AC/', 'https://ai-ceo.com/blog/what-is-ai-agents/']\n"
          ]
        }
      ]
    }
  ]
}