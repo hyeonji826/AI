{
  "nbformat": 4,
  "nbformat_minor": 0,
  "metadata": {
    "colab": {
      "provenance": [],
      "authorship_tag": "ABX9TyMtmg0ZYqlRpc4cqFq2VBIw",
      "include_colab_link": true
    },
    "kernelspec": {
      "name": "python3",
      "display_name": "Python 3"
    },
    "language_info": {
      "name": "python"
    }
  },
  "cells": [
    {
      "cell_type": "markdown",
      "metadata": {
        "id": "view-in-github",
        "colab_type": "text"
      },
      "source": [
        "<a href=\"https://colab.research.google.com/github/hyeonji826/AI/blob/main/AI%20Agent/2_LangGraph.ipynb\" target=\"_parent\"><img src=\"https://colab.research.google.com/assets/colab-badge.svg\" alt=\"Open In Colab\"/></a>"
      ]
    },
    {
      "cell_type": "markdown",
      "source": [
        "## 1. 랭그래프\n",
        "랭그래프(LangGraph)는 LangChain 생태계에서 에이전트나 RAG 시스템을 단계별로 구성하고 실행할 수 있게 해주는 그래프 기반 오케스트레이션 프레임워크입니다. 기존 RAG가 직선형 파이프라인이었다면, 랭그래프는 노드(작업 단위)와 엣지(흐름)를 그래프 형태로 정의해 분기, 반복, 조건 처리, 에이전트 루프 같은 복잡한 흐름을 명확하게 표현하고 실행할 수 있습니다. 이를 통해 “검색 → 답변 생성 → 자기평가 → 재검색” 같은 Agentic RAG 워크플로우를 안정적으로 설계·관리할 수 있으며, 디버깅과 모니터링도 쉬워집니다.\n",
        "\n",
        "<img src=\"https://blog.kakaocdn.net/dna/dCXdCS/btsQoqUWdVJ/AAAAAAAAAAAAAAAAAAAAABrGGXVai_cShdt1hTKc4kcVDpOgOtalk5mfXbfboWst/img.png?credential=yqXZFxpELC7KVnFOS48ylbz2pIh7yKj8&expires=1759244399&allow_ip=&allow_referer=&signature=av38DkZxu04jWrqKJ7cI%2FMfnBSo%3D\" width=800>"
      ],
      "metadata": {
        "id": "QA4mwJU-3Fz_"
      }
    },
    {
      "cell_type": "markdown",
      "source": [
        "### 그래프 구조\n",
        "그래프 구조(Graph Structure)는 객체(노드, vertex)와 그 객체들을 잇는 관계(간선, edge)로 표현되는 데이터 구조입니다. 노드는 개체를, 간선은 개체 간의 연결이나 관계를 나타내며, 방향성이 있는 경우 방향 그래프, 없는 경우 무방향 그래프로 구분됩니다. 이 구조는 복잡한 관계망을 직관적으로 표현하고 탐색할 수 있어, 소셜 네트워크 분석, 추천 시스템, 경로 탐색, 지식 그래프 등 다양한 분야에서 활용됩니다.\n",
        "\n",
        "<img src=\"https://blog.kakaocdn.net/dna/83o32/btsQnVgI25k/AAAAAAAAAAAAAAAAAAAAAFK-jCWBYxG_A5y4uJ5N5RhJgXDaBvvy-T5ldB42oSol/img.png?credential=yqXZFxpELC7KVnFOS48ylbz2pIh7yKj8&expires=1759244399&allow_ip=&allow_referer=&signature=PJ8%2FSWEdIpiac%2FqcJHkIHAmBGhI%3D\" width=800>"
      ],
      "metadata": {
        "id": "bSPDgr8g3LaO"
      }
    },
    {
      "cell_type": "markdown",
      "source": [
        "## 2. 그래프\n",
        "\n",
        "* 실제 세계의 현상이나 사물을 정점(Vertect) 또는 노드(Node)와 간선(Edge)으로 표현하기 위해 사용\n",
        "* 노드 : 위치, 정점\n",
        "* 간선 : 위치간의 관계를 표시한 선으로 노드를 연결한 선(line 또는 branch라고도 함)"
      ],
      "metadata": {
        "id": "XrOe132s5J6B"
      }
    },
    {
      "cell_type": "markdown",
      "source": [
        "### 1. 그래프 종류\n",
        "\n",
        "* 무방향 그래프 : 방향이 없는 그래프, 간선을 통해 노드는 양방향으로 갈 수 있음\n",
        "\n",
        "* 방향 그래프 : 간선에 방향이 있는 그래프, 보통 노드 A, B가 A -> B로 가는 간선으로 연결되어 있는 경우 <A,B>로 표기\n",
        "\n",
        "* 가중치 그래프 : 간선에 비용 또는 가중치가 할당된 그래프\n",
        "\n",
        "*  연결 그래프 : 무방향 그래프에 있는 모든 노드에 대해 항상 경로가 존재하는 경우\n",
        "\n",
        "* 비연결 그래프 : 무방향 그래프에서 특정 노드에 대해 경로가 존재하지 않는 경우\n",
        "\n",
        "* 순환 그래프 : 단순 경로의 시작 노드와 종료 노드가 동일한 경우\n",
        "* 비순환 그래프 : 사이클이 없는 그래프"
      ],
      "metadata": {
        "id": "4CGTx2DE6t_C"
      }
    },
    {
      "cell_type": "markdown",
      "source": [
        "### 2. 그래프와 트리의 차이\n",
        "<div style=\"text-align:left\">\n",
        "<table>\n",
        "  <tr>\n",
        "    <th></th>\n",
        "    <th style=\"text-align:center\">그래프</th>\n",
        "    <th style=\"text-align:center\">트리</th>\n",
        "  </tr>\n",
        "  <tr>\n",
        "    <td style=\"text-align:center\">정의</td>\n",
        "    <td style=\"text-align:left\">노드와 노드를 연결하는 간선으로 표현되는 자료 구조</td>\n",
        "    <td style=\"text-align:left\">그래프의 한 종류, 방향성이 있는 비순환 그래프</td>\n",
        "  </tr>\n",
        "  <tr>\n",
        "    <td style=\"text-align:center\">방향성</td>\n",
        "    <td style=\"text-align:left\">방향 그래프, 무방향 그래프 둘다 존재함</td>\n",
        "    <td style=\"text-align:left\">방향 그래프만 존재함</td>\n",
        "  </tr>\n",
        "  <tr>\n",
        "    <td style=\"text-align:center\">사이클</td>\n",
        "    <td style=\"text-align:left\">사이클 가능함, 순환 및 비순환 그래프 모두 존재함</td>\n",
        "    <td style=\"text-align:left\">비순환 그래프로 사이클이 존재하지 않음</td>\n",
        "  </tr>\n",
        "  <tr>\n",
        "    <td style=\"text-align:center\">루트 노드</td>\n",
        "    <td style=\"text-align:left\">루트 노드 존재하지 않음</td>\n",
        "    <td style=\"text-align:left\">루트 노드 존재함</td>\n",
        "  </tr>\n",
        "  <tr>\n",
        "    <td style=\"text-align:center\">부모/자식 관계</td>\n",
        "    <td style=\"text-align:left\">부모 자식 개념이 존재하지 않음</td>\n",
        "    <td style=\"text-align:left\">부모 자식 관계가 존재함</td>\n",
        "  </tr>\n",
        "</table>\n",
        "</div>"
      ],
      "metadata": {
        "id": "Bujd1Cb5708m"
      }
    },
    {
      "cell_type": "markdown",
      "source": [
        "### 3. 너비 우선 탐색\n",
        "* BFS(Breadth-First Search) : 대표적인 그래프 탐색 알고리즘\n",
        "\n",
        "* 정점들과 같은 레벨에 있는 노드들(형제 노드들)을 먼저 우선 탐색하는 방식\n",
        "\n",
        "* 한 단계씩 내려가면서 해당 노드와 같은 레벨에 있는 노드들을 먼저 순회"
      ],
      "metadata": {
        "id": "8seCXznZ8Z7P"
      }
    },
    {
      "cell_type": "markdown",
      "source": [
        "<img src=\"https://blog.kakaocdn.net/dna/clo8B4/btsQqrFlt0N/AAAAAAAAAAAAAAAAAAAAAIM6kkxmt0sEJITmmLcF08Qz0PNINu4nEjwFcBC1SSR3/img.gif?credential=yqXZFxpELC7KVnFOS48ylbz2pIh7yKj8&expires=1759244399&allow_ip=&allow_referer=&signature=wB1mcnmHkyf3pFFnmNx9jfiEQhw%3D\" width=600>"
      ],
      "metadata": {
        "id": "CX-_M3XE-QSC"
      }
    },
    {
      "cell_type": "markdown",
      "source": [
        "<img src=\"https://blog.kakaocdn.net/dna/ciFIqZ/btsQmTjqAZ5/AAAAAAAAAAAAAAAAAAAAABx75zqsfTUU3D064o-LNe2cTkgDe2T7DvzxB0Gib0yu/img.png?credential=yqXZFxpELC7KVnFOS48ylbz2pIh7yKj8&expires=1759244399&allow_ip=&allow_referer=&signature=yX%2BDDTATA9AuSHl5mL0JCgryJWk%3D\" width=800>\n",
        "\n",
        "\n",
        "```\n",
        "graph = dict()\n",
        "graph['A'] = ['B', 'C']\n",
        "graph['B'] = ['A', 'D']\n",
        "graph['C'] = ['A', 'G', 'H', 'I']\n",
        "graph['D'] = ['B', 'E', 'F']\n",
        "graph['E'] = ['D']\n",
        "graph['F'] = ['D']\n",
        "graph['G'] = ['C']\n",
        "graph['H'] = ['C']\n",
        "graph['I'] = ['C', 'J']\n",
        "graph['J'] = ['I']\n",
        "\n",
        "```\n",
        "<img src=\"https://blog.kakaocdn.net/dna/k6AYN/btsQmXMQTaO/AAAAAAAAAAAAAAAAAAAAAFJDsdgF-ooMHbPQogqeEIZivpX3SRrXUSnIloo3Yrm_/img.png?credential=yqXZFxpELC7KVnFOS48ylbz2pIh7yKj8&expires=1759244399&allow_ip=&allow_referer=&signature=HGQ9Bg9TOzkswEhJ1l0ppRDyjQw%3D\">\n",
        "\n",
        "<img src=\"https://blog.kakaocdn.net/dna/cT3NIc/btsQnDAAcBW/AAAAAAAAAAAAAAAAAAAAAIVIcYBmqI8TAaN7VYVG1-ESaeXlPph4bm3WfTX5H-xl/img.png?credential=yqXZFxpELC7KVnFOS48ylbz2pIh7yKj8&expires=1759244399&allow_ip=&allow_referer=&signature=6PCp%2FVzzdFeYUay1mpyuZp8nRoM%3D\">\n",
        "\n"
      ],
      "metadata": {
        "id": "ZBqK2n9U_BU2"
      }
    },
    {
      "cell_type": "code",
      "source": [
        "graph = dict()\n",
        "graph['A'] = ['B', 'C']\n",
        "graph['B'] = ['A', 'D']\n",
        "graph['C'] = ['A', 'G', 'H', 'I']\n",
        "graph['D'] = ['B', 'E', 'F']\n",
        "graph['E'] = ['D']\n",
        "graph['F'] = ['D']\n",
        "graph['G'] = ['C']\n",
        "graph['H'] = ['C']\n",
        "graph['I'] = ['C', 'J']\n",
        "graph['J'] = ['I']"
      ],
      "metadata": {
        "id": "Fb6_UXb5Byr3"
      },
      "execution_count": null,
      "outputs": []
    },
    {
      "cell_type": "code",
      "source": [
        "graph"
      ],
      "metadata": {
        "colab": {
          "base_uri": "https://localhost:8080/"
        },
        "id": "ZxopasYVBzgm",
        "outputId": "94bb1af4-4f3b-4c59-9b82-4d9ce3a42ac7"
      },
      "execution_count": null,
      "outputs": [
        {
          "output_type": "execute_result",
          "data": {
            "text/plain": [
              "{'A': ['B', 'C'],\n",
              " 'B': ['A', 'D'],\n",
              " 'C': ['A', 'G', 'H', 'I'],\n",
              " 'D': ['B', 'E', 'F'],\n",
              " 'E': ['D'],\n",
              " 'F': ['D'],\n",
              " 'G': ['C'],\n",
              " 'H': ['C'],\n",
              " 'I': ['C', 'J'],\n",
              " 'J': ['I']}"
            ]
          },
          "metadata": {},
          "execution_count": 2
        }
      ]
    },
    {
      "cell_type": "markdown",
      "source": [
        "### 방문했던 리스트\n",
        "```A B C D E F G H I J ```"
      ],
      "metadata": {
        "id": "5fSWaO9bCF4y"
      }
    },
    {
      "cell_type": "markdown",
      "source": [
        "### 방문해야할 리스트\n",
        "\n",
        "```\n",
        "{'A': ['B', 'C'],\n",
        " 'B': ['A', 'D'],\n",
        " 'C': ['A', 'G', 'H', 'I'],\n",
        " 'D': ['B', 'E', 'F'],\n",
        " 'E': ['D'],\n",
        " 'F': ['D'],\n",
        " 'G': ['C'],\n",
        " 'H': ['C'],\n",
        " 'I': ['C', 'J'],\n",
        " 'J': ['I']}\n",
        "```"
      ],
      "metadata": {
        "id": "nYTbf-oJCMFo"
      }
    },
    {
      "cell_type": "code",
      "source": [
        "def bfs(graph, start_node):\n",
        "    visited,need_visit = list(),list()\n",
        "    need_visit.append(start_node)\n",
        "\n",
        "    while need_visit:\n",
        "        node = need_visit.pop(0)\n",
        "        if node not in visited:\n",
        "            visited.append(node)\n",
        "            need_visit.extend(graph[node])\n",
        "    return visited"
      ],
      "metadata": {
        "id": "xbYtuhJAFzfq"
      },
      "execution_count": null,
      "outputs": []
    },
    {
      "cell_type": "code",
      "source": [
        "bfs(graph, 'A')"
      ],
      "metadata": {
        "colab": {
          "base_uri": "https://localhost:8080/"
        },
        "id": "QLB0a4mAGsRd",
        "outputId": "5a649629-8af0-47a6-ae57-7034df2d89d7"
      },
      "execution_count": null,
      "outputs": [
        {
          "output_type": "execute_result",
          "data": {
            "text/plain": [
              "['A', 'B', 'C', 'D', 'G', 'H', 'I', 'E', 'F', 'J']"
            ]
          },
          "metadata": {},
          "execution_count": 4
        }
      ]
    },
    {
      "cell_type": "markdown",
      "source": [
        "## 3. 랭그래프의 필수 구성요소"
      ],
      "metadata": {
        "id": "4rPXYSoL3RVd"
      }
    },
    {
      "cell_type": "markdown",
      "source": [
        "### 1. 노드(Node)\n",
        "노드는 LangGraph 워크플로우 안에서 실행되는 개별 작업 단위입니다. 예를 들어 “질문을 임베딩하기”, “벡터DB에서 관련 문서 검색하기”, “LLM으로 답변 생성하기” 같은 단계가 각각 하나의 노드가 됩니다. 즉, 노드는 전체 워크플로우를 이루는 핵심 블록이라고 할 수 있습니다."
      ],
      "metadata": {
        "id": "KfyM3fF03S33"
      }
    },
    {
      "cell_type": "markdown",
      "source": [
        "### 2. 엣지(Edge)\n",
        "엣지는 노드와 노드를 연결하는 흐름을 의미합니다. 한 노드의 결과가 다음 노드의 입력으로 이어지도록 만들어 주며, 워크플로우가 순차적으로 진행될 수 있게 합니다. 예를 들어 “검색 결과 → 답변 생성” 같은 연결이 엣지입니다."
      ],
      "metadata": {
        "id": "aH-pREap3UYz"
      }
    },
    {
      "cell_type": "markdown",
      "source": [
        "### 3. 상태(State)\n",
        "상태는 워크플로우 실행 중 유지되고 공유되는 데이터 저장소와 같습니다. 사용자 질문, 검색 결과, 현재까지의 답변 초안 등이 상태에 담겨 각 노드가 읽고 쓸 수 있습니다. 이 덕분에 그래프 전체가 일관된 맥락을 유지할 수 있습니다."
      ],
      "metadata": {
        "id": "m76p8Vls3WAQ"
      }
    },
    {
      "cell_type": "markdown",
      "source": [
        "### 4. 조건 분기와 루프(Flow Control)\n",
        "조건 분기는 특정 상황에 따라 워크플로우의 진행 경로를 바꾸는 기능입니다. 예를 들어 “검색 결과가 충분하면 답변 생성, 부족하면 재검색” 같은 분기 처리가 가능합니다. 루프는 특정 단계를 반복 실행하도록 해주며, 답변이 불충분할 경우 재검색-재생성을 반복하는 Agentic RAG 같은 구조를 구현할 수 있게 합니다.\n",
        "\n",
        "\n",
        "\n",
        "👉 이렇게 네 가지 구성요소(노드, 엣지, 상태, 조건 분기·루프)가 맞물려 LangGraph는 단순한 RAG부터 복잡한 Agentic RAG까지 유연하게 표현할 수 있는 강력한 워크플로우 프레임워크가 됩니다."
      ],
      "metadata": {
        "id": "o-OsASff3YTH"
      }
    },
    {
      "cell_type": "markdown",
      "source": [
        "## 4. 상태\n",
        "State는 에이전트가 현재 어떤 정보를 가지고 있는지를 표현하는 데이터 구조로, 파이썬에서는 TypedDict나 Pydantic BaseModel을 사용해 정의할 수 있습니다. TypedDict는 단순히 키와 값의 타입을 명시하는 수준이라 잘못된 타입이 들어가도 실행은 되지만, 타입 검사기(mypy 등)에서만 잡아줍니다. 반면 Pydantic BaseModel은 실제 실행 시점에 타입을 엄격하게 검사하여 잘못된 데이터가 들어오면 오류를 발생시킵니다. 따라서 State를 정의할 때는 상황에 따라 단순히 구조만 명시할 것인지, 혹은 런타임에서 데이터 유효성까지 보장할 것인지를 고려해 TypedDict와 Pydantic을 선택하여 활용합니다."
      ],
      "metadata": {
        "id": "M-t5gJfU3f6D"
      }
    },
    {
      "cell_type": "code",
      "execution_count": null,
      "metadata": {
        "colab": {
          "base_uri": "https://localhost:8080/"
        },
        "id": "czP7gszK20HL",
        "outputId": "b78c0043-9085-46c0-982b-78c34e9990c9"
      },
      "outputs": [
        {
          "output_type": "stream",
          "name": "stdout",
          "text": [
            "{'id': 1, 'name': '김사과', 'email': 'apple@apple.com'}\n"
          ]
        }
      ],
      "source": [
        "from typing import TypedDict\n",
        "\n",
        "class User(TypedDict):  # 타입을 고정하는건 아님!\n",
        "    id: int\n",
        "    name: str\n",
        "    email: str\n",
        "\n",
        "user1: User = {\n",
        "    'id': 1,\n",
        "    'name': '김사과',\n",
        "    'email': 'apple@apple.com'\n",
        "}\n",
        "print(user1)"
      ]
    },
    {
      "cell_type": "code",
      "source": [
        "user1: User = {\n",
        "    'id': 1,\n",
        "    'name': 12345678,\n",
        "    'email': 'apple@apple.com'\n",
        "}\n",
        "print(user1)"
      ],
      "metadata": {
        "colab": {
          "base_uri": "https://localhost:8080/"
        },
        "id": "wnFyT-mCJdJn",
        "outputId": "35b83c42-651a-40fd-b603-7a5aefd2f68a"
      },
      "execution_count": null,
      "outputs": [
        {
          "output_type": "stream",
          "name": "stdout",
          "text": [
            "{'id': 1, 'name': 12345678, 'email': 'apple@apple.com'}\n"
          ]
        }
      ]
    },
    {
      "cell_type": "code",
      "source": [
        "from pydantic import BaseModel\n",
        "\n",
        "class User(BaseModel):\n",
        "    id: int\n",
        "    name: str\n",
        "    email: str\n",
        "\n",
        "user_data = {\n",
        "    'id': 1,\n",
        "    'name': '김사과',\n",
        "    'email': 'apple@apple.com'\n",
        "}\n",
        "\n",
        "user1 = User(**user_data)   # 딕셔너리에 접근해서 각각의 키와 값을 변수로 처리\n",
        "print(user1)"
      ],
      "metadata": {
        "colab": {
          "base_uri": "https://localhost:8080/"
        },
        "id": "GJsx7S__KLl3",
        "outputId": "e3522e50-9c18-4a39-c5b3-4591e00fb54e"
      },
      "execution_count": null,
      "outputs": [
        {
          "output_type": "stream",
          "name": "stdout",
          "text": [
            "id=1 name='김사과' email='apple@apple.com'\n"
          ]
        }
      ]
    },
    {
      "cell_type": "code",
      "source": [
        "# 타입이 안맞기때문에 에러가 분명히 난다.\n",
        "user_data = {\n",
        "    'id': 1,\n",
        "    'name': 12345678,\n",
        "    'email': 'apple@apple.com'\n",
        "}\n",
        "\n",
        "user = User(**user_data)\n",
        "print(user)"
      ],
      "metadata": {
        "colab": {
          "base_uri": "https://localhost:8080/",
          "height": 418
        },
        "id": "LCWBvRInKQiu",
        "outputId": "a683565a-29af-4fae-b267-8b223202d71d"
      },
      "execution_count": null,
      "outputs": [
        {
          "output_type": "error",
          "ename": "ValidationError",
          "evalue": "1 validation error for User\nname\n  Input should be a valid string [type=string_type, input_value=12345678, input_type=int]\n    For further information visit https://errors.pydantic.dev/2.11/v/string_type",
          "traceback": [
            "\u001b[0;31m---------------------------------------------------------------------------\u001b[0m",
            "\u001b[0;31mValidationError\u001b[0m                           Traceback (most recent call last)",
            "\u001b[0;32m/tmp/ipython-input-2714168979.py\u001b[0m in \u001b[0;36m<cell line: 0>\u001b[0;34m()\u001b[0m\n\u001b[1;32m      5\u001b[0m }\n\u001b[1;32m      6\u001b[0m \u001b[0;34m\u001b[0m\u001b[0m\n\u001b[0;32m----> 7\u001b[0;31m \u001b[0muser\u001b[0m \u001b[0;34m=\u001b[0m \u001b[0mUser\u001b[0m\u001b[0;34m(\u001b[0m\u001b[0;34m**\u001b[0m\u001b[0muser_data\u001b[0m\u001b[0;34m)\u001b[0m\u001b[0;34m\u001b[0m\u001b[0;34m\u001b[0m\u001b[0m\n\u001b[0m\u001b[1;32m      8\u001b[0m \u001b[0mprint\u001b[0m\u001b[0;34m(\u001b[0m\u001b[0muser\u001b[0m\u001b[0;34m)\u001b[0m\u001b[0;34m\u001b[0m\u001b[0;34m\u001b[0m\u001b[0m\n",
            "\u001b[0;32m/usr/local/lib/python3.12/dist-packages/pydantic/main.py\u001b[0m in \u001b[0;36m__init__\u001b[0;34m(self, **data)\u001b[0m\n\u001b[1;32m    251\u001b[0m         \u001b[0;31m# `__tracebackhide__` tells pytest and some other tools to omit this function from tracebacks\u001b[0m\u001b[0;34m\u001b[0m\u001b[0;34m\u001b[0m\u001b[0m\n\u001b[1;32m    252\u001b[0m         \u001b[0m__tracebackhide__\u001b[0m \u001b[0;34m=\u001b[0m \u001b[0;32mTrue\u001b[0m\u001b[0;34m\u001b[0m\u001b[0;34m\u001b[0m\u001b[0m\n\u001b[0;32m--> 253\u001b[0;31m         \u001b[0mvalidated_self\u001b[0m \u001b[0;34m=\u001b[0m \u001b[0mself\u001b[0m\u001b[0;34m.\u001b[0m\u001b[0m__pydantic_validator__\u001b[0m\u001b[0;34m.\u001b[0m\u001b[0mvalidate_python\u001b[0m\u001b[0;34m(\u001b[0m\u001b[0mdata\u001b[0m\u001b[0;34m,\u001b[0m \u001b[0mself_instance\u001b[0m\u001b[0;34m=\u001b[0m\u001b[0mself\u001b[0m\u001b[0;34m)\u001b[0m\u001b[0;34m\u001b[0m\u001b[0;34m\u001b[0m\u001b[0m\n\u001b[0m\u001b[1;32m    254\u001b[0m         \u001b[0;32mif\u001b[0m \u001b[0mself\u001b[0m \u001b[0;32mis\u001b[0m \u001b[0;32mnot\u001b[0m \u001b[0mvalidated_self\u001b[0m\u001b[0;34m:\u001b[0m\u001b[0;34m\u001b[0m\u001b[0;34m\u001b[0m\u001b[0m\n\u001b[1;32m    255\u001b[0m             warnings.warn(\n",
            "\u001b[0;31mValidationError\u001b[0m: 1 validation error for User\nname\n  Input should be a valid string [type=string_type, input_value=12345678, input_type=int]\n    For further information visit https://errors.pydantic.dev/2.11/v/string_type"
          ]
        }
      ]
    },
    {
      "cell_type": "markdown",
      "source": [
        "> State는 입력과 출력의 스키마를 정의하고 이를 업데이트하는 리듀서 함수와 함께 사용됩니다. LangGraph에서는 TypedDict 등을 이용해 입력과 출력 상태를 명확히 정의하고, 각 노드가 상태를 받아 새로운 값을 반환하면 그래프가 이를 이어받아 전체 흐름을 완성합니다. 즉, State는 질문과 답변 같은 에이전트의 맥락 정보를 구조적으로 관리하며, 노드 실행 결과를 반영해 에이전트의 상태를 단계적으로 업데이트하는 핵심 역할을 합니다."
      ],
      "metadata": {
        "id": "1cUaUEreKlJO"
      }
    },
    {
      "cell_type": "code",
      "source": [
        "!pip install langgraph"
      ],
      "metadata": {
        "colab": {
          "base_uri": "https://localhost:8080/"
        },
        "collapsed": true,
        "id": "ilHT9z6-KmB9",
        "outputId": "4b1fc165-260e-48b5-bd98-f5375f691fca"
      },
      "execution_count": null,
      "outputs": [
        {
          "output_type": "stream",
          "name": "stdout",
          "text": [
            "Collecting langgraph\n",
            "  Downloading langgraph-0.6.7-py3-none-any.whl.metadata (6.8 kB)\n",
            "Requirement already satisfied: langchain-core>=0.1 in /usr/local/lib/python3.12/dist-packages (from langgraph) (0.3.75)\n",
            "Collecting langgraph-checkpoint<3.0.0,>=2.1.0 (from langgraph)\n",
            "  Downloading langgraph_checkpoint-2.1.1-py3-none-any.whl.metadata (4.2 kB)\n",
            "Collecting langgraph-prebuilt<0.7.0,>=0.6.0 (from langgraph)\n",
            "  Downloading langgraph_prebuilt-0.6.4-py3-none-any.whl.metadata (4.5 kB)\n",
            "Collecting langgraph-sdk<0.3.0,>=0.2.2 (from langgraph)\n",
            "  Downloading langgraph_sdk-0.2.6-py3-none-any.whl.metadata (1.5 kB)\n",
            "Requirement already satisfied: pydantic>=2.7.4 in /usr/local/lib/python3.12/dist-packages (from langgraph) (2.11.7)\n",
            "Requirement already satisfied: xxhash>=3.5.0 in /usr/local/lib/python3.12/dist-packages (from langgraph) (3.5.0)\n",
            "Requirement already satisfied: langsmith>=0.3.45 in /usr/local/lib/python3.12/dist-packages (from langchain-core>=0.1->langgraph) (0.4.23)\n",
            "Requirement already satisfied: tenacity!=8.4.0,<10.0.0,>=8.1.0 in /usr/local/lib/python3.12/dist-packages (from langchain-core>=0.1->langgraph) (8.5.0)\n",
            "Requirement already satisfied: jsonpatch<2.0,>=1.33 in /usr/local/lib/python3.12/dist-packages (from langchain-core>=0.1->langgraph) (1.33)\n",
            "Requirement already satisfied: PyYAML>=5.3 in /usr/local/lib/python3.12/dist-packages (from langchain-core>=0.1->langgraph) (6.0.2)\n",
            "Requirement already satisfied: typing-extensions>=4.7 in /usr/local/lib/python3.12/dist-packages (from langchain-core>=0.1->langgraph) (4.15.0)\n",
            "Requirement already satisfied: packaging>=23.2 in /usr/local/lib/python3.12/dist-packages (from langchain-core>=0.1->langgraph) (25.0)\n",
            "Collecting ormsgpack>=1.10.0 (from langgraph-checkpoint<3.0.0,>=2.1.0->langgraph)\n",
            "  Downloading ormsgpack-1.10.0-cp312-cp312-manylinux_2_17_x86_64.manylinux2014_x86_64.whl.metadata (43 kB)\n",
            "\u001b[2K     \u001b[90m━━━━━━━━━━━━━━━━━━━━━━━━━━━━━━━━━━━━━━━━\u001b[0m \u001b[32m43.7/43.7 kB\u001b[0m \u001b[31m2.7 MB/s\u001b[0m eta \u001b[36m0:00:00\u001b[0m\n",
            "\u001b[?25hRequirement already satisfied: httpx>=0.25.2 in /usr/local/lib/python3.12/dist-packages (from langgraph-sdk<0.3.0,>=0.2.2->langgraph) (0.28.1)\n",
            "Requirement already satisfied: orjson>=3.10.1 in /usr/local/lib/python3.12/dist-packages (from langgraph-sdk<0.3.0,>=0.2.2->langgraph) (3.11.3)\n",
            "Requirement already satisfied: annotated-types>=0.6.0 in /usr/local/lib/python3.12/dist-packages (from pydantic>=2.7.4->langgraph) (0.7.0)\n",
            "Requirement already satisfied: pydantic-core==2.33.2 in /usr/local/lib/python3.12/dist-packages (from pydantic>=2.7.4->langgraph) (2.33.2)\n",
            "Requirement already satisfied: typing-inspection>=0.4.0 in /usr/local/lib/python3.12/dist-packages (from pydantic>=2.7.4->langgraph) (0.4.1)\n",
            "Requirement already satisfied: anyio in /usr/local/lib/python3.12/dist-packages (from httpx>=0.25.2->langgraph-sdk<0.3.0,>=0.2.2->langgraph) (4.10.0)\n",
            "Requirement already satisfied: certifi in /usr/local/lib/python3.12/dist-packages (from httpx>=0.25.2->langgraph-sdk<0.3.0,>=0.2.2->langgraph) (2025.8.3)\n",
            "Requirement already satisfied: httpcore==1.* in /usr/local/lib/python3.12/dist-packages (from httpx>=0.25.2->langgraph-sdk<0.3.0,>=0.2.2->langgraph) (1.0.9)\n",
            "Requirement already satisfied: idna in /usr/local/lib/python3.12/dist-packages (from httpx>=0.25.2->langgraph-sdk<0.3.0,>=0.2.2->langgraph) (3.10)\n",
            "Requirement already satisfied: h11>=0.16 in /usr/local/lib/python3.12/dist-packages (from httpcore==1.*->httpx>=0.25.2->langgraph-sdk<0.3.0,>=0.2.2->langgraph) (0.16.0)\n",
            "Requirement already satisfied: jsonpointer>=1.9 in /usr/local/lib/python3.12/dist-packages (from jsonpatch<2.0,>=1.33->langchain-core>=0.1->langgraph) (3.0.0)\n",
            "Requirement already satisfied: requests-toolbelt>=1.0.0 in /usr/local/lib/python3.12/dist-packages (from langsmith>=0.3.45->langchain-core>=0.1->langgraph) (1.0.0)\n",
            "Requirement already satisfied: requests>=2.0.0 in /usr/local/lib/python3.12/dist-packages (from langsmith>=0.3.45->langchain-core>=0.1->langgraph) (2.32.4)\n",
            "Requirement already satisfied: zstandard>=0.23.0 in /usr/local/lib/python3.12/dist-packages (from langsmith>=0.3.45->langchain-core>=0.1->langgraph) (0.24.0)\n",
            "Requirement already satisfied: charset_normalizer<4,>=2 in /usr/local/lib/python3.12/dist-packages (from requests>=2.0.0->langsmith>=0.3.45->langchain-core>=0.1->langgraph) (3.4.3)\n",
            "Requirement already satisfied: urllib3<3,>=1.21.1 in /usr/local/lib/python3.12/dist-packages (from requests>=2.0.0->langsmith>=0.3.45->langchain-core>=0.1->langgraph) (2.5.0)\n",
            "Requirement already satisfied: sniffio>=1.1 in /usr/local/lib/python3.12/dist-packages (from anyio->httpx>=0.25.2->langgraph-sdk<0.3.0,>=0.2.2->langgraph) (1.3.1)\n",
            "Downloading langgraph-0.6.7-py3-none-any.whl (153 kB)\n",
            "\u001b[2K   \u001b[90m━━━━━━━━━━━━━━━━━━━━━━━━━━━━━━━━━━━━━━━━\u001b[0m \u001b[32m153.3/153.3 kB\u001b[0m \u001b[31m11.6 MB/s\u001b[0m eta \u001b[36m0:00:00\u001b[0m\n",
            "\u001b[?25hDownloading langgraph_checkpoint-2.1.1-py3-none-any.whl (43 kB)\n",
            "\u001b[2K   \u001b[90m━━━━━━━━━━━━━━━━━━━━━━━━━━━━━━━━━━━━━━━━\u001b[0m \u001b[32m43.9/43.9 kB\u001b[0m \u001b[31m3.2 MB/s\u001b[0m eta \u001b[36m0:00:00\u001b[0m\n",
            "\u001b[?25hDownloading langgraph_prebuilt-0.6.4-py3-none-any.whl (28 kB)\n",
            "Downloading langgraph_sdk-0.2.6-py3-none-any.whl (54 kB)\n",
            "\u001b[2K   \u001b[90m━━━━━━━━━━━━━━━━━━━━━━━━━━━━━━━━━━━━━━━━\u001b[0m \u001b[32m54.6/54.6 kB\u001b[0m \u001b[31m4.2 MB/s\u001b[0m eta \u001b[36m0:00:00\u001b[0m\n",
            "\u001b[?25hDownloading ormsgpack-1.10.0-cp312-cp312-manylinux_2_17_x86_64.manylinux2014_x86_64.whl (216 kB)\n",
            "\u001b[2K   \u001b[90m━━━━━━━━━━━━━━━━━━━━━━━━━━━━━━━━━━━━━━━━\u001b[0m \u001b[32m216.7/216.7 kB\u001b[0m \u001b[31m16.0 MB/s\u001b[0m eta \u001b[36m0:00:00\u001b[0m\n",
            "\u001b[?25hInstalling collected packages: ormsgpack, langgraph-sdk, langgraph-checkpoint, langgraph-prebuilt, langgraph\n",
            "Successfully installed langgraph-0.6.7 langgraph-checkpoint-2.1.1 langgraph-prebuilt-0.6.4 langgraph-sdk-0.2.6 ormsgpack-1.10.0\n"
          ]
        }
      ]
    },
    {
      "cell_type": "code",
      "source": [
        "from langgraph.graph import StateGraph, START, END\n",
        "from typing_extensions import TypedDict"
      ],
      "metadata": {
        "id": "XK1iFxpbLI06"
      },
      "execution_count": null,
      "outputs": []
    },
    {
      "cell_type": "code",
      "source": [
        "# 입력을 위한 스키마 정의\n",
        "class InputState(TypedDict):\n",
        "    question: str\n",
        "\n",
        "\n",
        "# 출력을 위한 스키마 정의\n",
        "class OutputState(TypedDict):\n",
        "    answer: str\n",
        "\n",
        "\n",
        "# 입력과 출력을 합한 종합 스키마 정의\n",
        "class OverallState(InputState, OutputState):\n",
        "    pass"
      ],
      "metadata": {
        "id": "pYFLTMkGLKzB"
      },
      "execution_count": null,
      "outputs": []
    },
    {
      "cell_type": "code",
      "source": [
        "# 입력을 처리하고 답변을 생성하는 노드 정의\n",
        "def answer_node(state: InputState):\n",
        "    return {\"answer\": \"bye\", \"question\": state[\"question\"]} # 상태 업데이트"
      ],
      "metadata": {
        "id": "IJaFG9EKLqhO"
      },
      "execution_count": null,
      "outputs": []
    },
    {
      "cell_type": "code",
      "source": [
        "graph_builder = StateGraph(OverallState, input_schema=InputState, output_schema=OutputState)\n",
        "graph_builder.add_node(answer_node)  # 답변 노드 추가\n",
        "graph_builder.add_edge(START, \"answer_node\")  # 시작 엣지 추가\n",
        "graph_builder.add_edge(\"answer_node\", END)  # 끝 엣지 추가\n",
        "graph = graph_builder.compile()  # Compile the graph"
      ],
      "metadata": {
        "id": "Idnngu8iL5Be"
      },
      "execution_count": null,
      "outputs": []
    },
    {
      "cell_type": "code",
      "source": [
        "# 입력 invoke 및 결과 출력\n",
        "print(graph.invoke({\"question\": \"hi\"}))"
      ],
      "metadata": {
        "colab": {
          "base_uri": "https://localhost:8080/"
        },
        "id": "evRdOIVvMGZM",
        "outputId": "63322388-3915-487d-dfae-00b02d61ae2f"
      },
      "execution_count": null,
      "outputs": [
        {
          "output_type": "stream",
          "name": "stdout",
          "text": [
            "{'answer': 'bye'}\n"
          ]
        }
      ]
    },
    {
      "cell_type": "code",
      "source": [
        "graph"
      ],
      "metadata": {
        "colab": {
          "base_uri": "https://localhost:8080/",
          "height": 251
        },
        "id": "PXUN9BKhMqj8",
        "outputId": "401c9eb2-e98a-4cd3-ef71-58447c7f1044"
      },
      "execution_count": null,
      "outputs": [
        {
          "output_type": "execute_result",
          "data": {
            "text/plain": [
              "<langgraph.graph.state.CompiledStateGraph object at 0x7bc5d0100d10>"
            ],
            "image/png": "[encoded data removed]"
          },
          "metadata": {},
          "execution_count": 16
        }
      ]
    },
    {
      "cell_type": "markdown",
      "source": [
        "> State는 에이전트가 사용하는 데이터 구조로, 단순히 값만 담는 것이 아니라 값이 어떻게 업데이트될지(리듀서 함수)까지 함께 정의할 수 있습니다. 기본 TypedDict를 사용하면 단순히 키와 값의 타입만 지정하지만, Annotated와 리듀서 함수를 함께 쓰면 상태 업데이트 시 단순 덮어쓰기 대신 지정된 동작(예: add로 리스트 이어 붙이기, add_messages로 대화 메시지 누적하기)을 수행합니다. 즉, State는 에이전트의 현재 정보를 표현할 뿐 아니라, 노드 실행 결과가 기존 상태와 어떻게 병합·갱신될지를 규칙으로 내장한 확장된 상태 관리 구조입니다."
      ],
      "metadata": {
        "id": "UXgiOIjxM2xm"
      }
    },
    {
      "cell_type": "code",
      "source": [
        "from typing_extensions import TypedDict\n",
        "\n",
        "class State(TypedDict):\n",
        "    value1: int\n",
        "    value2: list[str]"
      ],
      "metadata": {
        "id": "2OhABTe9M32n"
      },
      "execution_count": null,
      "outputs": []
    },
    {
      "cell_type": "code",
      "source": [
        "from typing import Annotated\n",
        "from typing_extensions import TypedDict\n",
        "from operator import add\n",
        "\n",
        "class State(TypedDict):\n",
        "    value1: int\n",
        "    value2: Annotated[list[str], add]"
      ],
      "metadata": {
        "id": "ECvEG3owNaLr"
      },
      "execution_count": null,
      "outputs": []
    },
    {
      "cell_type": "code",
      "source": [
        "from typing_extensions import Annotated\n",
        "from typing_extensions import TypedDict\n",
        "\n",
        "def add(left, right):\n",
        "    # 만약 State안에 함수를 콜백으로 등록해놓으면 문자열로 들어왔을 때, 계속 연산해줄 수 있다.\n",
        "    return left + right\n",
        "\n",
        "class State(TypedDict):\n",
        "    value1: int\n",
        "    value2: Annotated[list[str], add]"
      ],
      "metadata": {
        "id": "jIW1Wcc6NcWG"
      },
      "execution_count": null,
      "outputs": []
    },
    {
      "cell_type": "code",
      "source": [
        "from langchain_core.messages import AnyMessage\n",
        "from langgraph.graph.message import add_messages\n",
        "from typing import Annotated\n",
        "from typing_extensions import TypedDict\n",
        "\n",
        "class State(TypedDict):\n",
        "    messages: Annotated[list[AnyMessage], add_messages]"
      ],
      "metadata": {
        "id": "FtMvi4p5NjhG"
      },
      "execution_count": null,
      "outputs": []
    },
    {
      "cell_type": "markdown",
      "source": [
        "## 5. 노드\n",
        "노드(Node)는 에이전트가 실제로 수행해야 할 논리나 작업을 구현한 함수이며, 그래프 안에서 상태(State)를 입력받아 새로운 값이나 업데이트를 반환하는 단위입니다. LangGraph에서는 add_node(\"노드이름\", 함수) 형태로 노드를 등록하며, 각 노드는 입력 상태를 받아 특정 로직을 실행한 뒤 상태에 반영할 딕셔너리를 반환합니다. 이렇게 정의된 노드들은 그래프의 흐름 속에서 순차적으로 연결되어 실행되며, 에이전트가 질문에 답하거나 결과를 가공하는 등의 역할을 수행합니다."
      ],
      "metadata": {
        "id": "KLDvPyfnOKaJ"
      }
    },
    {
      "cell_type": "code",
      "source": [
        "from langgraph.graph import StateGraph\n",
        "\n",
        "builder = StateGraph(dict)\n",
        "\n",
        "def my_node(state: dict):\n",
        "    return {\"results\": f\"Hello, {state['input']}!\"}\n",
        "\n",
        "def my_other_node(state: dict):\n",
        "    return state\n",
        "\n",
        "builder.add_node(\"my_node\", my_node)\n",
        "builder.add_node(\"other_node\", my_other_node)"
      ],
      "metadata": {
        "colab": {
          "base_uri": "https://localhost:8080/"
        },
        "id": "JU1mTUhFONn7",
        "outputId": "88169467-ebc5-4fe2-dd14-7e6f7dc296b6"
      },
      "execution_count": null,
      "outputs": [
        {
          "output_type": "execute_result",
          "data": {
            "text/plain": [
              "<langgraph.graph.state.StateGraph at 0x7bc5cffd4ce0>"
            ]
          },
          "metadata": {},
          "execution_count": 22
        }
      ]
    },
    {
      "cell_type": "code",
      "source": [
        "from typing import Annotated\n",
        "from typing_extensions import TypedDict\n",
        "from langgraph.graph import StateGraph, START, END\n",
        "from operator import add\n",
        "\n",
        "class State(TypedDict):\n",
        "    messages: Annotated[list[str], add]\n",
        "\n",
        "graph = StateGraph(State)"
      ],
      "metadata": {
        "id": "T-PuwzVvOszT"
      },
      "execution_count": null,
      "outputs": []
    },
    {
      "cell_type": "code",
      "source": [
        "def chatbot(state: State):\n",
        "    answer = \"안녕하세요! 무엇을 도와드릴까요?\"\n",
        "    print(\"Answer : \", answer)\n",
        "\n",
        "    return {\"messages\": [answer]}\n",
        "\n",
        "graph.add_node(\"chatbot\", chatbot)"
      ],
      "metadata": {
        "colab": {
          "base_uri": "https://localhost:8080/"
        },
        "id": "17QEC4BkO8SX",
        "outputId": "b9d5386d-da98-45c4-ae81-8b43f357b081"
      },
      "execution_count": null,
      "outputs": [
        {
          "output_type": "execute_result",
          "data": {
            "text/plain": [
              "<langgraph.graph.state.StateGraph at 0x7bc5d0006960>"
            ]
          },
          "metadata": {},
          "execution_count": 24
        }
      ]
    },
    {
      "cell_type": "code",
      "source": [
        "graph.add_edge(START, \"chatbot\")\n",
        "graph.add_edge(\"chatbot\", END)\n",
        "graph = graph.compile()\n",
        "\n",
        "graph.invoke({\"messages\": [\"안녕!\"]})"
      ],
      "metadata": {
        "colab": {
          "base_uri": "https://localhost:8080/"
        },
        "id": "u8DwTPxtPEQ2",
        "outputId": "c2210485-99e7-46ef-a71d-be98de9bd0ab"
      },
      "execution_count": null,
      "outputs": [
        {
          "output_type": "stream",
          "name": "stdout",
          "text": [
            "Answer :  안녕하세요! 무엇을 도와드릴까요?\n"
          ]
        },
        {
          "output_type": "execute_result",
          "data": {
            "text/plain": [
              "{'messages': ['안녕!', '안녕하세요! 무엇을 도와드릴까요?']}"
            ]
          },
          "metadata": {},
          "execution_count": 25
        }
      ]
    },
    {
      "cell_type": "markdown",
      "source": [
        "## 6. 엣지\n",
        "엣지(Edges)는 그래프에서 노드 간의 실행 흐름을 연결하는 경로로, 에이전트가 어떤 순서로 작업을 이어갈지를 정의합니다. 가장 단순한 형태인 기본 엣지(Normal Edge)는 특정 노드가 끝나면 곧바로 다음 노드로 이동하도록 설정하며, graph.add_edge(\"node_a\", \"node_b\")와 같이 사용합니다. 반면 조건부 엣지(Conditional Edge)는 라우팅 함수를 통해 현재 상태나 결과를 검사한 뒤, 조건에 따라 다른 노드로 분기시켜 실행 흐름을 유연하게 제어합니다. 즉, 엣지는 그래프에서 “다음에 무엇을 할지”를 결정짓는 연결선 역할을 하며, 조건을 두어 에이전트의 실행 경로를 동적으로 설계할 수 있게 합니다.\n",
        "\n",
        "<img src=\"https://blog.kakaocdn.net/dna/ccgRDD/btsQmSxWUX0/AAAAAAAAAAAAAAAAAAAAACkyzmkk0Qnif6fJ1ccBGkD5Fva23_DX0Rgd8fZUDY6T/img.png?credential=yqXZFxpELC7KVnFOS48ylbz2pIh7yKj8&expires=1759244399&allow_ip=&allow_referer=&signature=nSLXURVxdUhiokCDCjXD%2B2wRueA%3D\" width=800>"
      ],
      "metadata": {
        "id": "rvM-YdjQPZ0M"
      }
    },
    {
      "cell_type": "code",
      "source": [
        "class State(TypedDict):\n",
        "    input: str\n",
        "    output: str\n",
        "\n",
        "router_builder = StateGraph(State)"
      ],
      "metadata": {
        "id": "2N4AeDJCPf-h"
      },
      "execution_count": null,
      "outputs": []
    },
    {
      "cell_type": "code",
      "source": [
        "def routing_function(state: State):\n",
        "    if state[\"input\"] == \"isroute\":\n",
        "        return True\n",
        "    return False\n",
        "\n",
        "router_builder.add_conditional_edges(\"node_a\", routing_function, {True: \"node_b\", False: \"node_c\"})"
      ],
      "metadata": {
        "colab": {
          "base_uri": "https://localhost:8080/"
        },
        "id": "DD1tW-A4R0oh",
        "outputId": "609d2f37-8143-43ee-aca7-e00ac0a46de3"
      },
      "execution_count": null,
      "outputs": [
        {
          "output_type": "execute_result",
          "data": {
            "text/plain": [
              "<langgraph.graph.state.StateGraph at 0x7bc5d00073b0>"
            ]
          },
          "metadata": {},
          "execution_count": 28
        }
      ]
    }
  ]
}